{
 "cells": [
  {
   "cell_type": "markdown",
   "metadata": {
    "deletable": true,
    "editable": true
   },
   "source": [
    "# Tarea: Funciones, Ciclos y Condicionales"
   ]
  },
  {
   "cell_type": "markdown",
   "metadata": {
    "deletable": true,
    "editable": true
   },
   "source": [
    "Resuelve los siguientes ejercicios en tu notebook. Lo más importante es que tu código produzca el resultado deseado, lo siguiente en importancia es ver si usaste lo que aprendimos en clase y finalmente si lo resolviste de una manera elegante. Funcionalidad es lo principal que buscamos. Cualquier duda me escriben."
   ]
  },
  {
   "cell_type": "markdown",
   "metadata": {
    "deletable": true,
    "editable": true
   },
   "source": [
    "## Ejercicios de Funciones"
   ]
  },
  {
   "cell_type": "markdown",
   "metadata": {
    "deletable": true,
    "editable": true
   },
   "source": [
    "### Ejercicio 1"
   ]
  },
  {
   "cell_type": "markdown",
   "metadata": {
    "deletable": true,
    "editable": true
   },
   "source": [
    "Crea una función de python y prueba que funcione que acepte un string y te calcule el número de letras mayúsculas y minúsculas contenidos en ese string. Al final la función debe regresar el número de letras en una lista e imprimir un mensaje con los resultados del cálculo."
   ]
  },
  {
   "cell_type": "code",
   "execution_count": 1,
   "metadata": {
    "collapsed": true,
    "deletable": true,
    "editable": true
   },
   "outputs": [],
   "source": [
    "#Definir la función\n",
    "def string_MayMin(string):\n",
    "    '''\n",
    "    Esta función regresa el número de mayúsculas y minúsculas de un String\n",
    "    '''\n",
    "    dic_MayMin={\"mayus\":0, \"minus\":0}\n",
    "    for character in string:\n",
    "        if character.isupper():\n",
    "           dic_MayMin[\"mayus\"]+=1\n",
    "        elif character.islower():\n",
    "           dic_MayMin[\"minus\"]+=1\n",
    "        else:\n",
    "           pass\n",
    "    print (\"String Original: \", string)\n",
    "    print (\"Número de mayúsculas: \", dic_MayMin[\"mayus\"])\n",
    "    print (\"Número de minúsculas : \", dic_MayMin[\"minus\"])\n",
    "    return dic_MayMin"
   ]
  },
  {
   "cell_type": "code",
   "execution_count": 2,
   "metadata": {
    "collapsed": true,
    "deletable": true,
    "editable": true
   },
   "outputs": [],
   "source": [
    "#Crear un string\n",
    "my_string = \"Como lo vio en TV\"\n",
    "my_string2 = \" \""
   ]
  },
  {
   "cell_type": "code",
   "execution_count": 3,
   "metadata": {
    "collapsed": false,
    "deletable": true,
    "editable": true
   },
   "outputs": [
    {
     "name": "stdout",
     "output_type": "stream",
     "text": [
      "String Original:  Como lo vio en TV\n",
      "Número de mayúsculas:  3\n",
      "Número de minúsculas :  10\n"
     ]
    },
    {
     "data": {
      "text/plain": [
       "{'mayus': 3, 'minus': 10}"
      ]
     },
     "execution_count": 3,
     "metadata": {},
     "output_type": "execute_result"
    }
   ],
   "source": [
    "#Llamar la función utilizando el string\n",
    "string_MayMin(my_string)"
   ]
  },
  {
   "cell_type": "code",
   "execution_count": 4,
   "metadata": {
    "collapsed": false,
    "deletable": true,
    "editable": true
   },
   "outputs": [
    {
     "name": "stdout",
     "output_type": "stream",
     "text": [
      "String Original:   \n",
      "Número de mayúsculas:  0\n",
      "Número de minúsculas :  0\n"
     ]
    },
    {
     "data": {
      "text/plain": [
       "{'mayus': 0, 'minus': 0}"
      ]
     },
     "execution_count": 4,
     "metadata": {},
     "output_type": "execute_result"
    }
   ],
   "source": [
    "string_MayMin(my_string2)"
   ]
  },
  {
   "cell_type": "markdown",
   "metadata": {
    "deletable": true,
    "editable": true
   },
   "source": [
    "### Ejercicio 2"
   ]
  },
  {
   "cell_type": "markdown",
   "metadata": {
    "deletable": true,
    "editable": true
   },
   "source": [
    "Crea una función de python que tome una lista de números enteros (e.g., Sample_List : [1, 2, 3, 4, 5, 6, 7, 8, 9]) y regrese una lista de aquellos números que son pares (e.g., Expexted_Result: [2, 4, 6, 8]). "
   ]
  },
  {
   "cell_type": "code",
   "execution_count": 5,
   "metadata": {
    "collapsed": true,
    "deletable": true,
    "editable": true
   },
   "outputs": [],
   "source": [
    "#Definir la función\n",
    "def es_numero_par(lista):\n",
    "    num_par = []\n",
    "    for num in lista:\n",
    "        if num % 2 == 0:\n",
    "            num_par.append(num)\n",
    "    return num_par"
   ]
  },
  {
   "cell_type": "code",
   "execution_count": 6,
   "metadata": {
    "collapsed": true,
    "deletable": true,
    "editable": true
   },
   "outputs": [],
   "source": [
    "#Crear una lista\n",
    "mi_lista = [1,2,3,4,5,6,7,8,9]"
   ]
  },
  {
   "cell_type": "code",
   "execution_count": 7,
   "metadata": {
    "collapsed": false,
    "deletable": true,
    "editable": true
   },
   "outputs": [
    {
     "name": "stdout",
     "output_type": "stream",
     "text": [
      "[2, 4, 6, 8]\n"
     ]
    }
   ],
   "source": [
    "#Llamar la función utilizando la lista\n",
    "print(es_numero_par([1, 2, 3, 4, 5, 6, 7, 8, 9]))"
   ]
  },
  {
   "cell_type": "markdown",
   "metadata": {
    "deletable": true,
    "editable": true
   },
   "source": [
    "## Código Condicional (If, elif, else)"
   ]
  },
  {
   "cell_type": "markdown",
   "metadata": {
    "deletable": true,
    "editable": true
   },
   "source": [
    "### Ejercicio 3"
   ]
  },
  {
   "cell_type": "markdown",
   "metadata": {
    "deletable": true,
    "editable": true
   },
   "source": [
    "Escribe un programa de python utilizando código condicional que tome como parámetro un string indicado el mes y me devuelva un string indicando el número de días que tiene ese mes. Tomemos que Febrero tiene 28 días.\n",
    "\n",
    "Resultado_Esperado: \n",
    "\n",
    "Escribe el nombre del mes: Febrero                                       \n",
    "Número de días: 28 días "
   ]
  },
  {
   "cell_type": "code",
   "execution_count": 8,
   "metadata": {
    "collapsed": true,
    "deletable": true,
    "editable": true
   },
   "outputs": [
    {
     "name": "stdout",
     "output_type": "stream",
     "text": [
      "Lista de meses: Ene, Feb, Mar, Abr, May, Jun, Jul, Ago, Sep, Oct, Nov, Dic\n",
      "Escribe el nombre del Mes (3 caracteres): Jul\n",
      "Número de días: 31 días\n"
     ]
    }
   ],
   "source": [
    "print(\"Lista de meses: Ene, Feb, Mar, Abr, May, Jun, Jul, Ago, Sep, Oct, Nov, Dic\")\n",
    "nombre_mes = input(\"Escribe el nombre del Mes (3 caracteres): \")\n",
    "\n",
    "if nombre_mes == \"Feb\":\n",
    "    print(\"Número de días: 28 días\")\n",
    "elif nombre_mes in (\"Abr\", \"Jun\", \"Sep\", \"Nov\"):\n",
    "    print(\"Número de días: 30 días\")\n",
    "elif nombre_mes in (\"Ene\", \"Mar\", \"May\", \"Jul\", \"Ago\", \"Oct\", \"Dic\"):\n",
    "    print(\"Número de días: 31 días\")\n",
    "else:\n",
    "    print(\"El nombre del mes es incorrecto\") "
   ]
  },
  {
   "cell_type": "markdown",
   "metadata": {
    "deletable": true,
    "editable": true
   },
   "source": [
    "### Ejercicio 4"
   ]
  },
  {
   "cell_type": "markdown",
   "metadata": {
    "deletable": true,
    "editable": true
   },
   "source": [
    "Escribe un programa de python utilizando código condicional que reciba tres valores como parámetros y te devuelva el valor que representa la mediana de esos valores.\n",
    "\n",
    "Resultado Esperado: \n",
    "\n",
    "Input first number: 19                                                  \n",
    "Input second number: 25                                               \n",
    "Input third number: 32                                                 \n",
    "The median is 25  "
   ]
  },
  {
   "cell_type": "code",
   "execution_count": 6,
   "metadata": {
    "collapsed": false,
    "deletable": true,
    "editable": true
   },
   "outputs": [
    {
     "name": "stdout",
     "output_type": "stream",
     "text": [
      "Escribe el primer número: 14\n",
      "Escribe el segundo número: 23\n",
      "Escribe el tercer número: 65\n",
      "La mediana es 23.0\n"
     ]
    }
   ],
   "source": [
    "a = float(input(\"Escribe el primer número: \"))\n",
    "b = float(input(\"Escribe el segundo número: \"))\n",
    "c = float(input(\"Escribe el tercer número: \"))\n",
    "if a > b:\n",
    "    if a < c:\n",
    "        mediana = a\n",
    "    elif b > c:\n",
    "        mediana = b\n",
    "    else:\n",
    "        mediana = c\n",
    "else:\n",
    "    if a > c:\n",
    "        mediana = a\n",
    "    elif b < c:\n",
    "        mediana = b\n",
    "    else:\n",
    "        mediana = c\n",
    "\n",
    "print(\"La mediana es\", mediana)"
   ]
  },
  {
   "cell_type": "markdown",
   "metadata": {
    "deletable": true,
    "editable": true
   },
   "source": [
    "## Ciclos (For loops, While loops)"
   ]
  },
  {
   "cell_type": "markdown",
   "metadata": {
    "deletable": true,
    "editable": true
   },
   "source": [
    "### Ejercicio 5: For loops"
   ]
  },
  {
   "cell_type": "markdown",
   "metadata": {
    "deletable": true,
    "editable": true
   },
   "source": [
    "Escribe un programa de Python utilizando un ciclo For que te de por resultado los primeros 40 números de la serie de Fibonnaci. Nota: la serie de fibonacci es 0, 1, 1, 2, 3, 5, 8, 13, 21, .... \n",
    "\n",
    "Resultado Esperado:\n",
    "1 1 2 3 5 8 13 21 34 ... "
   ]
  },
  {
   "cell_type": "code",
   "execution_count": 22,
   "metadata": {
    "collapsed": true,
    "deletable": true,
    "editable": true
   },
   "outputs": [
    {
     "name": "stdout",
     "output_type": "stream",
     "text": [
      "0\n",
      "1\n",
      "1\n",
      "2\n",
      "3\n",
      "5\n",
      "8\n",
      "13\n",
      "21\n",
      "34\n",
      "55\n",
      "89\n",
      "144\n",
      "233\n",
      "377\n",
      "610\n",
      "987\n",
      "1597\n",
      "2584\n",
      "4181\n",
      "6765\n",
      "10946\n",
      "17711\n",
      "28657\n",
      "46368\n",
      "75025\n",
      "121393\n",
      "196418\n",
      "317811\n",
      "514229\n",
      "832040\n",
      "1346269\n",
      "2178309\n",
      "3524578\n",
      "5702887\n",
      "9227465\n",
      "14930352\n",
      "24157817\n",
      "39088169\n",
      "63245986\n"
     ]
    }
   ],
   "source": [
    "fib_series = [0,1]\n",
    "\n",
    "for num in range(0,40,1):\n",
    "    fib_series.append(fib_series[num+1]+fib_series[num])\n",
    "    print(fib_series[num])"
   ]
  },
  {
   "cell_type": "code",
   "execution_count": 27,
   "metadata": {
    "collapsed": true,
    "deletable": true,
    "editable": true
   },
   "outputs": [
    {
     "name": "stdout",
     "output_type": "stream",
     "text": [
      "1\n",
      "1\n",
      "2\n",
      "3\n",
      "5\n",
      "8\n",
      "13\n",
      "21\n",
      "34\n",
      "55\n",
      "89\n",
      "144\n",
      "233\n",
      "377\n",
      "610\n",
      "987\n",
      "1597\n",
      "2584\n",
      "4181\n",
      "6765\n",
      "10946\n",
      "17711\n",
      "28657\n",
      "46368\n",
      "75025\n",
      "121393\n",
      "196418\n",
      "317811\n",
      "514229\n",
      "832040\n",
      "1346269\n",
      "2178309\n",
      "3524578\n",
      "5702887\n",
      "9227465\n",
      "14930352\n",
      "24157817\n",
      "39088169\n",
      "63245986\n"
     ]
    }
   ],
   "source": [
    "x,y=0,1\n",
    "i=1\n",
    "while i<40:\n",
    "    print(y)\n",
    "    x,y = y,x+y\n",
    "    i+=1"
   ]
  },
  {
   "cell_type": "markdown",
   "metadata": {
    "deletable": true,
    "editable": true
   },
   "source": [
    "### Ejercicio 6: While loops"
   ]
  },
  {
   "cell_type": "markdown",
   "metadata": {
    "deletable": true,
    "editable": true
   },
   "source": [
    "Escribe un programa de Python utilizando un ciclo While que acepte input del usuario para adivinar un número aleatorio entre 1 y 9. El juego debe terminar cuando la persona adivine el número y debe imprimirse un mensaje felicitando al jugador e indicando número de intentos que le tomó adivinar."
   ]
  },
  {
   "cell_type": "code",
   "execution_count": 7,
   "metadata": {
    "collapsed": false,
    "deletable": true,
    "editable": true
   },
   "outputs": [
    {
     "name": "stdout",
     "output_type": "stream",
     "text": [
      "Escribe un número entre 1 and 10 hasta que le atines: 5\n",
      "Perfecto adivinaste! Sólo te tomó 1 intentos.\n"
     ]
    }
   ],
   "source": [
    "import random\n",
    "target_num, guess_num = random.randint(1, 10), 0\n",
    "numero_intentos = 0\n",
    "while target_num != guess_num:\n",
    "    guess_num = int(input('Escribe un número entre 1 and 10 hasta que le atines: '))\n",
    "    numero_intentos+=1\n",
    "print('Perfecto adivinaste! Sólo te tomó {} intentos.'.format(numero_intentos))"
   ]
  },
  {
   "cell_type": "markdown",
   "metadata": {
    "deletable": true,
    "editable": true
   },
   "source": [
    "## Crédito Extra"
   ]
  },
  {
   "cell_type": "markdown",
   "metadata": {
    "deletable": true,
    "editable": true
   },
   "source": [
    "### Ejercicio 7"
   ]
  },
  {
   "cell_type": "markdown",
   "metadata": {
    "deletable": true,
    "editable": true
   },
   "source": [
    "Escribe una función de Python que genere números primos y que acepte un parámetro donde el usuario pueda determinar cuántos números primos quiere que le arroje la función."
   ]
  }
 ],
 "metadata": {
  "kernelspec": {
   "display_name": "Python 3",
   "language": "python",
   "name": "python3"
  },
  "language_info": {
   "codemirror_mode": {
    "name": "ipython",
    "version": 3
   },
   "file_extension": ".py",
   "mimetype": "text/x-python",
   "name": "python",
   "nbconvert_exporter": "python",
   "pygments_lexer": "ipython3",
   "version": "3.5.2"
  }
 },
 "nbformat": 4,
 "nbformat_minor": 2
}
