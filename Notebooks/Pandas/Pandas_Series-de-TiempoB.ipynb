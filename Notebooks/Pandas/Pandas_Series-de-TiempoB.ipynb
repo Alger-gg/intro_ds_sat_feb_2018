{
 "cells": [
  {
   "cell_type": "markdown",
   "metadata": {},
   "source": [
    "# Series de Tiempo con Pandas"
   ]
  },
  {
   "cell_type": "markdown",
   "metadata": {},
   "source": [
    "Los datos de series de tiempo son importantes en muchos campos, tales como finanzas, economía, física, marketing, etc"
   ]
  },
  {
   "cell_type": "markdown",
   "metadata": {},
   "source": [
    "Las series de tiempo pueden ser de **frequencia fija**, es decir, los datos ocurren a un intervalo regular por ej. datos diarios, semanales, cada minuto, cada 15 segundos, etcétera. \n",
    "Las series de tiempo también pueden ser **frequencia irregular** donde no difieren en una misma unidad de tiempo los datos."
   ]
  },
  {
   "cell_type": "markdown",
   "metadata": {},
   "source": [
    "###  Tipos de datos Date y Time"
   ]
  },
  {
   "cell_type": "code",
   "execution_count": 3,
   "metadata": {},
   "outputs": [],
   "source": [
    "from datetime import datetime"
   ]
  },
  {
   "cell_type": "code",
   "execution_count": 4,
   "metadata": {},
   "outputs": [
    {
     "data": {
      "text/plain": [
       "datetime.datetime(2018, 9, 17, 18, 15, 28, 388755)"
      ]
     },
     "execution_count": 4,
     "metadata": {},
     "output_type": "execute_result"
    }
   ],
   "source": [
    "now = datetime.now()\n",
    "now"
   ]
  },
  {
   "cell_type": "code",
   "execution_count": 5,
   "metadata": {},
   "outputs": [
    {
     "data": {
      "text/plain": [
       "(2018, 9, 17)"
      ]
     },
     "execution_count": 5,
     "metadata": {},
     "output_type": "execute_result"
    }
   ],
   "source": [
    "now.year, now.month, now.day"
   ]
  },
  {
   "cell_type": "markdown",
   "metadata": {},
   "source": [
    "Los objetos del tipo 'datetime' guardan ambos: fecha y hora (hasta microsegundos). "
   ]
  },
  {
   "cell_type": "markdown",
   "metadata": {},
   "source": [
    "Los objetos del tipo 'timedelta' representan diferencias temporales entre dos objetos del tipo datetime"
   ]
  },
  {
   "cell_type": "code",
   "execution_count": 6,
   "metadata": {},
   "outputs": [
    {
     "data": {
      "text/plain": [
       "datetime.timedelta(-307, 65803, 374079)"
      ]
     },
     "execution_count": 6,
     "metadata": {},
     "output_type": "execute_result"
    }
   ],
   "source": [
    "delta = datetime.now() - datetime(2019,7,21)\n",
    "delta"
   ]
  },
  {
   "cell_type": "markdown",
   "metadata": {},
   "source": [
    "Del mismo modo podemos accesar los días o segundos que restan para un evento"
   ]
  },
  {
   "cell_type": "code",
   "execution_count": 7,
   "metadata": {},
   "outputs": [
    {
     "data": {
      "text/plain": [
       "-307"
      ]
     },
     "execution_count": 7,
     "metadata": {},
     "output_type": "execute_result"
    }
   ],
   "source": [
    "delta.days"
   ]
  },
  {
   "cell_type": "code",
   "execution_count": 14,
   "metadata": {},
   "outputs": [
    {
     "data": {
      "text/plain": [
       "65803"
      ]
     },
     "execution_count": 14,
     "metadata": {},
     "output_type": "execute_result"
    }
   ],
   "source": [
    "delta.seconds"
   ]
  },
  {
   "cell_type": "markdown",
   "metadata": {},
   "source": [
    "Se pueden añadir o sustraer uno \"timedelta\" o múltiples \"timedeltas\" a un objeto del tipo \"datetime\""
   ]
  },
  {
   "cell_type": "code",
   "execution_count": 10,
   "metadata": {},
   "outputs": [],
   "source": [
    "from datetime import timedelta"
   ]
  },
  {
   "cell_type": "code",
   "execution_count": 11,
   "metadata": {},
   "outputs": [],
   "source": [
    "timedelta?"
   ]
  },
  {
   "cell_type": "code",
   "execution_count": 16,
   "metadata": {},
   "outputs": [],
   "source": [
    "start = datetime(2011,1,7)"
   ]
  },
  {
   "cell_type": "code",
   "execution_count": 17,
   "metadata": {},
   "outputs": [
    {
     "data": {
      "text/plain": [
       "datetime.datetime(2011, 4, 15, 0, 0)"
      ]
     },
     "execution_count": 17,
     "metadata": {},
     "output_type": "execute_result"
    }
   ],
   "source": [
    "start + timedelta(weeks=14)"
   ]
  },
  {
   "cell_type": "code",
   "execution_count": 147,
   "metadata": {},
   "outputs": [
    {
     "data": {
      "text/plain": [
       "datetime.datetime(2010, 12, 10, 0, 0)"
      ]
     },
     "execution_count": 147,
     "metadata": {},
     "output_type": "execute_result"
    }
   ],
   "source": [
    "start - 2*timedelta(14)"
   ]
  },
  {
   "cell_type": "markdown",
   "metadata": {},
   "source": [
    "#### Convirtiendo datos entre tipo string y datetime"
   ]
  },
  {
   "cell_type": "code",
   "execution_count": 18,
   "metadata": {},
   "outputs": [
    {
     "data": {
      "text/plain": [
       "'2011-01-03 00:00:00'"
      ]
     },
     "execution_count": 18,
     "metadata": {},
     "output_type": "execute_result"
    }
   ],
   "source": [
    "stamp = datetime(2011,1,3)\n",
    "str(stamp)"
   ]
  },
  {
   "cell_type": "code",
   "execution_count": 24,
   "metadata": {},
   "outputs": [
    {
     "data": {
      "text/plain": [
       "'2011-01-03'"
      ]
     },
     "execution_count": 24,
     "metadata": {},
     "output_type": "execute_result"
    }
   ],
   "source": [
    "stamp.strftime('%Y-%m-%d')"
   ]
  },
  {
   "cell_type": "code",
   "execution_count": 19,
   "metadata": {},
   "outputs": [
    {
     "data": {
      "text/html": [
       "<h4> Formato objetos datetime </h4>\n",
       "<table>\n",
       "    <tr>\n",
       "        <td><b>Símbolo</b></td> <td><b>Descripción</b></td>\n",
       "    </tr>\n",
       "    <tr>\n",
       "        <td>%Y</td> <td>Año de cuatro dígitos</td>\n",
       "    </tr>\n",
       "    <tr>\n",
       "        <td>%y</td> <td>Año de dos dígitos</td>\n",
       "    </tr>\n",
       "    <tr>\n",
       "        <td>%m</td> <td>Mes de dos dígitos</td>\n",
       "    </tr>\n",
       "    <tr>\n",
       "        <td>%d</td> <td>Día de dos dígitos</td>\n",
       "    </tr>\n",
       "    <tr>\n",
       "        <td>%H</td> <td>Hora 24hrs [00,23]</td>\n",
       "    </tr>\n",
       "    <tr>\n",
       "        <td>%I</td> <td>Hora 12hrs [01,12]</td>\n",
       "    </tr>\n",
       "    <tr>\n",
       "        <td>%M</td> <td>Minutos [00,59]</td>\n",
       "    </tr>\n",
       "    <tr>\n",
       "        <td>%S</td> <td>Segundos [00,60]</td>\n",
       "    </tr>\n",
       "    <tr>\n",
       "        <td>%w</td> <td>Día de la semana [0(domingo),6] </td>\n",
       "    </tr>\n",
       "    <tr>\n",
       "        <td>%U</td> <td>Número de semana [00,53] donde domingo es el primer día de la semana (días antes del primer domingo son \"semana 0\")</td>\n",
       "    </tr>\n",
       "    <tr>\n",
       "        <td>%W</td> <td>Número de semana [00,53] donde lunes es el primer día de la semana (días antes del primer lunes son \"semana 0\")</td>\n",
       "    </tr>\n",
       "    <tr>\n",
       "        <td>%F</td> <td>Shortcut para %Y-%m-%d (ej. 2012-4-18) </td>\n",
       "    </tr>\n",
       "    <tr>\n",
       "        <td>%D</td> <td>Shortcut para %m/%d/%y (ej. 04/18/12) </td>\n",
       "    </tr>\n",
       "</table>"
      ],
      "text/plain": [
       "<IPython.core.display.HTML object>"
      ]
     },
     "metadata": {},
     "output_type": "display_data"
    }
   ],
   "source": [
    "%%html\n",
    "<h4> Formato objetos datetime </h4>\n",
    "<table>\n",
    "    <tr>\n",
    "        <td><b>Símbolo</b></td> <td><b>Descripción</b></td>\n",
    "    </tr>\n",
    "    <tr>\n",
    "        <td>%Y</td> <td>Año de cuatro dígitos</td>\n",
    "    </tr>\n",
    "    <tr>\n",
    "        <td>%y</td> <td>Año de dos dígitos</td>\n",
    "    </tr>\n",
    "    <tr>\n",
    "        <td>%m</td> <td>Mes de dos dígitos</td>\n",
    "    </tr>\n",
    "    <tr>\n",
    "        <td>%d</td> <td>Día de dos dígitos</td>\n",
    "    </tr>\n",
    "    <tr>\n",
    "        <td>%H</td> <td>Hora 24hrs [00,23]</td>\n",
    "    </tr>\n",
    "    <tr>\n",
    "        <td>%I</td> <td>Hora 12hrs [01,12]</td>\n",
    "    </tr>\n",
    "    <tr>\n",
    "        <td>%M</td> <td>Minutos [00,59]</td>\n",
    "    </tr>\n",
    "    <tr>\n",
    "        <td>%S</td> <td>Segundos [00,60]</td>\n",
    "    </tr>\n",
    "    <tr>\n",
    "        <td>%w</td> <td>Día de la semana [0(domingo),6] </td>\n",
    "    </tr>\n",
    "    <tr>\n",
    "        <td>%U</td> <td>Número de semana [00,53] donde domingo es el primer día de la semana (días antes del primer domingo son \"semana 0\")</td>\n",
    "    </tr>\n",
    "    <tr>\n",
    "        <td>%W</td> <td>Número de semana [00,53] donde lunes es el primer día de la semana (días antes del primer lunes son \"semana 0\")</td>\n",
    "    </tr>\n",
    "    <tr>\n",
    "        <td>%F</td> <td>Shortcut para %Y-%m-%d (ej. 2012-4-18) </td>\n",
    "    </tr>\n",
    "    <tr>\n",
    "        <td>%D</td> <td>Shortcut para %m/%d/%y (ej. 04/18/12) </td>\n",
    "    </tr>\n",
    "</table>"
   ]
  },
  {
   "cell_type": "markdown",
   "metadata": {},
   "source": [
    "Veamos que podemos convertir string a datetime con el método .strptime():"
   ]
  },
  {
   "cell_type": "code",
   "execution_count": 26,
   "metadata": {},
   "outputs": [
    {
     "data": {
      "text/plain": [
       "datetime.datetime(2011, 1, 3, 0, 0)"
      ]
     },
     "execution_count": 26,
     "metadata": {},
     "output_type": "execute_result"
    }
   ],
   "source": [
    "value = '2011-01-03'\n",
    "datetime.strptime(value,'%Y-%m-%d')"
   ]
  },
  {
   "cell_type": "markdown",
   "metadata": {},
   "source": [
    "También podemos aplicar list comprehension para transformar estas fechas"
   ]
  },
  {
   "cell_type": "code",
   "execution_count": 22,
   "metadata": {},
   "outputs": [],
   "source": [
    "date_strings = ['7/6/2011','8/6/2011']"
   ]
  },
  {
   "cell_type": "code",
   "execution_count": 23,
   "metadata": {},
   "outputs": [
    {
     "data": {
      "text/plain": [
       "[datetime.datetime(2011, 7, 6, 0, 0), datetime.datetime(2011, 8, 6, 0, 0)]"
      ]
     },
     "execution_count": 23,
     "metadata": {},
     "output_type": "execute_result"
    }
   ],
   "source": [
    "[datetime.strptime(x, '%m/%d/%Y') for x in date_strings]"
   ]
  },
  {
   "cell_type": "markdown",
   "metadata": {},
   "source": [
    "Si nos queremos ahorrar tener que pasarle el formato entonces podemos utilizar el método 'parse' del paquete dateutil (automáticamente instalado junto con Pandas)"
   ]
  },
  {
   "cell_type": "code",
   "execution_count": 151,
   "metadata": {
    "collapsed": true
   },
   "outputs": [],
   "source": [
    "from dateutil.parser import parse"
   ]
  },
  {
   "cell_type": "code",
   "execution_count": 153,
   "metadata": {},
   "outputs": [
    {
     "data": {
      "text/plain": [
       "datetime.datetime(2011, 1, 3, 0, 0)"
      ]
     },
     "execution_count": 153,
     "metadata": {},
     "output_type": "execute_result"
    }
   ],
   "source": [
    "parse('2011-01-03')"
   ]
  },
  {
   "cell_type": "code",
   "execution_count": 152,
   "metadata": {},
   "outputs": [
    {
     "data": {
      "text/plain": [
       "datetime.datetime(1997, 1, 31, 22, 45)"
      ]
     },
     "execution_count": 152,
     "metadata": {},
     "output_type": "execute_result"
    }
   ],
   "source": [
    "parse('Jan 31, 1997 10:45 PM')"
   ]
  },
  {
   "cell_type": "markdown",
   "metadata": {},
   "source": [
    "Si estamos usando las fechas en español, entonces nos conviene utilizar el parámetro dayfirst=True para indicar esto:"
   ]
  },
  {
   "cell_type": "code",
   "execution_count": 32,
   "metadata": {},
   "outputs": [
    {
     "data": {
      "text/plain": [
       "datetime.datetime(2011, 12, 6, 0, 0)"
      ]
     },
     "execution_count": 32,
     "metadata": {},
     "output_type": "execute_result"
    }
   ],
   "source": [
    "parse('6/12/2011',dayfirst=True)"
   ]
  },
  {
   "cell_type": "markdown",
   "metadata": {},
   "source": [
    "Dentro de pandas tenemos el método .to_datetime() que es útil para convertir strings "
   ]
  },
  {
   "cell_type": "code",
   "execution_count": 26,
   "metadata": {},
   "outputs": [],
   "source": [
    "import numpy as np\n",
    "import pandas as pd"
   ]
  },
  {
   "cell_type": "code",
   "execution_count": 27,
   "metadata": {},
   "outputs": [
    {
     "data": {
      "text/plain": [
       "DatetimeIndex(['2011-07-06', '2011-08-06'], dtype='datetime64[ns]', freq=None)"
      ]
     },
     "execution_count": 27,
     "metadata": {},
     "output_type": "execute_result"
    }
   ],
   "source": [
    "pd.to_datetime(date_strings)"
   ]
  },
  {
   "cell_type": "markdown",
   "metadata": {},
   "source": [
    "También es útil manejar las fechas dentro de Pandas porque puede manejar valores faltantes como 'NaT' (Not a Time):"
   ]
  },
  {
   "cell_type": "code",
   "execution_count": 28,
   "metadata": {},
   "outputs": [
    {
     "data": {
      "text/plain": [
       "DatetimeIndex(['2011-07-06', '2011-08-06', 'NaT'], dtype='datetime64[ns]', freq=None)"
      ]
     },
     "execution_count": 28,
     "metadata": {},
     "output_type": "execute_result"
    }
   ],
   "source": [
    "idx = pd.to_datetime(date_strings+[None])\n",
    "idx"
   ]
  },
  {
   "cell_type": "markdown",
   "metadata": {},
   "source": [
    "y manejarlo del mismo modo que lo hacemos con otros valores faltantes en Pandas"
   ]
  },
  {
   "cell_type": "code",
   "execution_count": 29,
   "metadata": {},
   "outputs": [
    {
     "data": {
      "text/plain": [
       "array([False, False,  True], dtype=bool)"
      ]
     },
     "execution_count": 29,
     "metadata": {},
     "output_type": "execute_result"
    }
   ],
   "source": [
    "pd.isnull(idx)"
   ]
  },
  {
   "cell_type": "markdown",
   "metadata": {},
   "source": [
    "### Basics de Series de Tiempo"
   ]
  },
  {
   "cell_type": "markdown",
   "metadata": {},
   "source": [
    "Escribamos primero un arreglo de datetimes y creemos una serie a partir de estos valores"
   ]
  },
  {
   "cell_type": "code",
   "execution_count": 30,
   "metadata": {},
   "outputs": [
    {
     "data": {
      "text/plain": [
       "[datetime.datetime(2011, 1, 2, 0, 0),\n",
       " datetime.datetime(2011, 1, 5, 0, 0),\n",
       " datetime.datetime(2011, 1, 7, 0, 0),\n",
       " datetime.datetime(2011, 1, 8, 0, 0),\n",
       " datetime.datetime(2011, 1, 10, 0, 0),\n",
       " datetime.datetime(2011, 1, 12, 0, 0)]"
      ]
     },
     "execution_count": 30,
     "metadata": {},
     "output_type": "execute_result"
    }
   ],
   "source": [
    "dates = [datetime(2011, 1, 2), datetime(2011, 1, 5),\n",
    "          datetime(2011, 1, 7), datetime(2011, 1, 8),\n",
    "          datetime(2011, 1, 10), datetime(2011, 1, 12)]\n",
    "dates"
   ]
  },
  {
   "cell_type": "code",
   "execution_count": 32,
   "metadata": {},
   "outputs": [
    {
     "data": {
      "text/plain": [
       "2011-01-02   -0.816485\n",
       "2011-01-05    0.613719\n",
       "2011-01-07   -0.257603\n",
       "2011-01-08   -0.163859\n",
       "2011-01-10   -0.562733\n",
       "2011-01-12   -0.417053\n",
       "dtype: float64"
      ]
     },
     "execution_count": 32,
     "metadata": {},
     "output_type": "execute_result"
    }
   ],
   "source": [
    "ts = pd.Series(np.random.randn(6), index = dates)\n",
    "ts"
   ]
  },
  {
   "cell_type": "markdown",
   "metadata": {},
   "source": [
    "Vemos que los objetos 'datetime' se colocaron como 'DateTimeIndex'"
   ]
  },
  {
   "cell_type": "code",
   "execution_count": 33,
   "metadata": {},
   "outputs": [
    {
     "data": {
      "text/plain": [
       "DatetimeIndex(['2011-01-02', '2011-01-05', '2011-01-07', '2011-01-08',\n",
       "               '2011-01-10', '2011-01-12'],\n",
       "              dtype='datetime64[ns]', freq=None)"
      ]
     },
     "execution_count": 33,
     "metadata": {},
     "output_type": "execute_result"
    }
   ],
   "source": [
    "ts.index"
   ]
  },
  {
   "cell_type": "markdown",
   "metadata": {},
   "source": [
    "Como con otras series las operaciones aritméticas se alinean inmediatamente con los valores del índice"
   ]
  },
  {
   "cell_type": "code",
   "execution_count": 34,
   "metadata": {},
   "outputs": [
    {
     "data": {
      "text/plain": [
       "2011-01-02   -0.816485\n",
       "2011-01-07   -0.257603\n",
       "2011-01-10   -0.562733\n",
       "dtype: float64"
      ]
     },
     "execution_count": 34,
     "metadata": {},
     "output_type": "execute_result"
    }
   ],
   "source": [
    "ts[::2]"
   ]
  },
  {
   "cell_type": "code",
   "execution_count": 35,
   "metadata": {},
   "outputs": [
    {
     "data": {
      "text/plain": [
       "2011-01-02   -1.632970\n",
       "2011-01-05         NaN\n",
       "2011-01-07   -0.515207\n",
       "2011-01-08         NaN\n",
       "2011-01-10   -1.125466\n",
       "2011-01-12         NaN\n",
       "dtype: float64"
      ]
     },
     "execution_count": 35,
     "metadata": {},
     "output_type": "execute_result"
    }
   ],
   "source": [
    "ts + ts[::2]"
   ]
  },
  {
   "cell_type": "markdown",
   "metadata": {},
   "source": [
    "Los valores escalares del DatetimeIndex son objetos del tipo 'Timestamp'"
   ]
  },
  {
   "cell_type": "code",
   "execution_count": 36,
   "metadata": {},
   "outputs": [
    {
     "data": {
      "text/plain": [
       "Timestamp('2011-01-02 00:00:00')"
      ]
     },
     "execution_count": 36,
     "metadata": {},
     "output_type": "execute_result"
    }
   ],
   "source": [
    "stamp = ts.index[0]\n",
    "stamp"
   ]
  },
  {
   "cell_type": "markdown",
   "metadata": {},
   "source": [
    "Como otras series las series de tiempo se pueden referencias por número o por etiqueta "
   ]
  },
  {
   "cell_type": "code",
   "execution_count": 38,
   "metadata": {},
   "outputs": [
    {
     "data": {
      "text/plain": [
       "-0.2576034010882351"
      ]
     },
     "execution_count": 38,
     "metadata": {},
     "output_type": "execute_result"
    }
   ],
   "source": [
    "stamp = ts.index[2]\n",
    "ts[stamp]"
   ]
  },
  {
   "cell_type": "markdown",
   "metadata": {},
   "source": [
    "y se le puede pasar un string como etiqueta que pueda ser interpretado como fecha"
   ]
  },
  {
   "cell_type": "code",
   "execution_count": 40,
   "metadata": {},
   "outputs": [
    {
     "data": {
      "text/plain": [
       "-0.56273318784431281"
      ]
     },
     "execution_count": 40,
     "metadata": {},
     "output_type": "execute_result"
    }
   ],
   "source": [
    "ts['1/10/2011']"
   ]
  },
  {
   "cell_type": "code",
   "execution_count": 41,
   "metadata": {},
   "outputs": [
    {
     "data": {
      "text/plain": [
       "-0.56273318784431281"
      ]
     },
     "execution_count": 41,
     "metadata": {},
     "output_type": "execute_result"
    }
   ],
   "source": [
    "ts['20110110']"
   ]
  },
  {
   "cell_type": "markdown",
   "metadata": {},
   "source": [
    "Para una serie de tiempo más larga se le puede pasar sólo el año o el año y el mes para obtener slices de la serie de tiempo"
   ]
  },
  {
   "cell_type": "code",
   "execution_count": 42,
   "metadata": {},
   "outputs": [
    {
     "data": {
      "text/plain": [
       "2000-01-01   -1.180141\n",
       "2000-01-02   -0.557750\n",
       "2000-01-03    1.589858\n",
       "2000-01-04    1.259812\n",
       "2000-01-05    0.514947\n",
       "2000-01-06    0.174379\n",
       "2000-01-07    1.791147\n",
       "2000-01-08   -0.489518\n",
       "2000-01-09   -0.750972\n",
       "2000-01-10   -0.416163\n",
       "2000-01-11    0.239928\n",
       "2000-01-12   -0.041595\n",
       "2000-01-13   -1.092471\n",
       "2000-01-14   -1.137174\n",
       "2000-01-15   -0.226879\n",
       "2000-01-16   -0.514202\n",
       "2000-01-17   -0.946615\n",
       "2000-01-18   -0.860517\n",
       "2000-01-19   -1.912516\n",
       "2000-01-20    1.307864\n",
       "2000-01-21   -0.102828\n",
       "2000-01-22   -0.213362\n",
       "2000-01-23    0.474691\n",
       "2000-01-24   -0.826835\n",
       "2000-01-25    1.779900\n",
       "2000-01-26   -0.010835\n",
       "2000-01-27   -0.170650\n",
       "2000-01-28   -0.400892\n",
       "2000-01-29    0.504381\n",
       "2000-01-30    0.785370\n",
       "                ...   \n",
       "2002-08-28    1.985492\n",
       "2002-08-29   -0.100074\n",
       "2002-08-30   -0.258173\n",
       "2002-08-31    1.893423\n",
       "2002-09-01   -1.491150\n",
       "2002-09-02   -1.028373\n",
       "2002-09-03   -0.083623\n",
       "2002-09-04   -1.166017\n",
       "2002-09-05   -0.126074\n",
       "2002-09-06    1.439162\n",
       "2002-09-07   -0.001791\n",
       "2002-09-08   -2.392100\n",
       "2002-09-09   -0.170763\n",
       "2002-09-10   -2.291993\n",
       "2002-09-11   -0.746171\n",
       "2002-09-12    0.350881\n",
       "2002-09-13   -1.415802\n",
       "2002-09-14   -0.404945\n",
       "2002-09-15    0.800309\n",
       "2002-09-16   -0.511212\n",
       "2002-09-17   -1.316313\n",
       "2002-09-18   -1.401730\n",
       "2002-09-19   -1.485729\n",
       "2002-09-20    0.226008\n",
       "2002-09-21   -0.184768\n",
       "2002-09-22   -0.589607\n",
       "2002-09-23    0.468408\n",
       "2002-09-24    1.066389\n",
       "2002-09-25   -0.730366\n",
       "2002-09-26    0.028420\n",
       "Freq: D, Length: 1000, dtype: float64"
      ]
     },
     "execution_count": 42,
     "metadata": {},
     "output_type": "execute_result"
    }
   ],
   "source": [
    "longer_ts = pd.Series(np.random.randn(1000),\n",
    "                      index=pd.date_range('1/1/2000', periods=1000))\n",
    "longer_ts"
   ]
  },
  {
   "cell_type": "markdown",
   "metadata": {},
   "source": [
    "Por ejemplo si queremos los datos de mayo de 2001, le pasamos '2001-05'"
   ]
  },
  {
   "cell_type": "code",
   "execution_count": 43,
   "metadata": {},
   "outputs": [
    {
     "data": {
      "text/plain": [
       "2001-05-01   -0.418285\n",
       "2001-05-02    2.029133\n",
       "2001-05-03    0.364339\n",
       "2001-05-04    1.511139\n",
       "2001-05-05   -1.180706\n",
       "2001-05-06   -0.630186\n",
       "2001-05-07    0.603074\n",
       "2001-05-08   -0.994316\n",
       "2001-05-09   -1.238835\n",
       "2001-05-10   -0.433634\n",
       "2001-05-11    0.611826\n",
       "2001-05-12   -1.900219\n",
       "2001-05-13   -0.902147\n",
       "2001-05-14   -1.988325\n",
       "2001-05-15   -0.198434\n",
       "2001-05-16   -1.869405\n",
       "2001-05-17   -0.128755\n",
       "2001-05-18    1.801522\n",
       "2001-05-19    0.612996\n",
       "2001-05-20   -0.559729\n",
       "2001-05-21   -0.049174\n",
       "2001-05-22    0.197892\n",
       "2001-05-23   -1.810198\n",
       "2001-05-24   -1.300882\n",
       "2001-05-25    2.216526\n",
       "2001-05-26   -0.389060\n",
       "2001-05-27    0.269084\n",
       "2001-05-28    1.431089\n",
       "2001-05-29   -0.347307\n",
       "2001-05-30    0.832681\n",
       "2001-05-31   -0.545024\n",
       "Freq: D, dtype: float64"
      ]
     },
     "execution_count": 43,
     "metadata": {},
     "output_type": "execute_result"
    }
   ],
   "source": [
    "longer_ts['2001-05']"
   ]
  },
  {
   "cell_type": "markdown",
   "metadata": {},
   "source": [
    "o '2001' para todos los datos del año 2001"
   ]
  },
  {
   "cell_type": "code",
   "execution_count": 45,
   "metadata": {
    "collapsed": true
   },
   "outputs": [
    {
     "data": {
      "text/plain": [
       "2001-01-01    0.784107\n",
       "2001-01-02    0.892245\n",
       "2001-01-03    0.360188\n",
       "2001-01-04    0.240949\n",
       "2001-01-05    1.541528\n",
       "2001-01-06   -0.724177\n",
       "2001-01-07    1.080096\n",
       "2001-01-08   -0.133751\n",
       "2001-01-09   -0.199012\n",
       "2001-01-10    0.215118\n",
       "2001-01-11    1.092247\n",
       "2001-01-12    2.324349\n",
       "2001-01-13   -0.205459\n",
       "2001-01-14   -0.041789\n",
       "2001-01-15    1.285835\n",
       "2001-01-16    0.608668\n",
       "2001-01-17   -0.998204\n",
       "2001-01-18   -1.003833\n",
       "2001-01-19    1.970952\n",
       "2001-01-20   -0.288855\n",
       "2001-01-21   -1.032027\n",
       "2001-01-22   -1.238640\n",
       "2001-01-23   -1.795488\n",
       "2001-01-24    1.606465\n",
       "2001-01-25   -0.130941\n",
       "2001-01-26    1.742965\n",
       "2001-01-27   -0.018995\n",
       "2001-01-28    1.302566\n",
       "2001-01-29    1.740465\n",
       "2001-01-30   -1.017074\n",
       "                ...   \n",
       "2001-12-02    0.192444\n",
       "2001-12-03   -0.063717\n",
       "2001-12-04    1.124253\n",
       "2001-12-05    0.718540\n",
       "2001-12-06   -0.157660\n",
       "2001-12-07    0.553277\n",
       "2001-12-08    1.038126\n",
       "2001-12-09    0.801422\n",
       "2001-12-10   -0.952128\n",
       "2001-12-11   -1.069121\n",
       "2001-12-12   -0.098832\n",
       "2001-12-13   -0.480427\n",
       "2001-12-14    0.472227\n",
       "2001-12-15   -0.597781\n",
       "2001-12-16    0.752527\n",
       "2001-12-17    0.632712\n",
       "2001-12-18    0.916908\n",
       "2001-12-19    0.184917\n",
       "2001-12-20   -0.266393\n",
       "2001-12-21   -0.721847\n",
       "2001-12-22   -0.428389\n",
       "2001-12-23    0.968474\n",
       "2001-12-24    0.524690\n",
       "2001-12-25    2.104536\n",
       "2001-12-26    0.719293\n",
       "2001-12-27   -0.370511\n",
       "2001-12-28   -0.397868\n",
       "2001-12-29    1.400903\n",
       "2001-12-30   -0.706063\n",
       "2001-12-31   -0.045389\n",
       "Freq: D, Length: 365, dtype: float64"
      ]
     },
     "execution_count": 45,
     "metadata": {},
     "output_type": "execute_result"
    }
   ],
   "source": [
    "longer_ts['2001']"
   ]
  },
  {
   "cell_type": "markdown",
   "metadata": {},
   "source": [
    "Se puede hacer el slicing usando objetos del tipo 'datetime' del mismo modo"
   ]
  },
  {
   "cell_type": "code",
   "execution_count": 46,
   "metadata": {},
   "outputs": [
    {
     "data": {
      "text/plain": [
       "2011-01-07   -0.257603\n",
       "2011-01-08   -0.163859\n",
       "2011-01-10   -0.562733\n",
       "2011-01-12   -0.417053\n",
       "dtype: float64"
      ]
     },
     "execution_count": 46,
     "metadata": {},
     "output_type": "execute_result"
    }
   ],
   "source": [
    "ts[datetime(2011,1,7):]"
   ]
  },
  {
   "cell_type": "markdown",
   "metadata": {},
   "source": [
    "Si tus etiquetas están en orden cronológico entonces puedes incluir en tu 'query' datos que no están incluidos en el rango para obtenerlo hasta el final como por ejemplo"
   ]
  },
  {
   "cell_type": "code",
   "execution_count": 47,
   "metadata": {},
   "outputs": [
    {
     "data": {
      "text/plain": [
       "2011-01-02   -0.816485\n",
       "2011-01-05    0.613719\n",
       "2011-01-07   -0.257603\n",
       "2011-01-08   -0.163859\n",
       "2011-01-10   -0.562733\n",
       "2011-01-12   -0.417053\n",
       "dtype: float64"
      ]
     },
     "execution_count": 47,
     "metadata": {},
     "output_type": "execute_result"
    }
   ],
   "source": [
    "ts"
   ]
  },
  {
   "cell_type": "code",
   "execution_count": 48,
   "metadata": {},
   "outputs": [
    {
     "data": {
      "text/plain": [
       "2011-01-07   -0.257603\n",
       "2011-01-08   -0.163859\n",
       "2011-01-10   -0.562733\n",
       "2011-01-12   -0.417053\n",
       "dtype: float64"
      ]
     },
     "execution_count": 48,
     "metadata": {},
     "output_type": "execute_result"
    }
   ],
   "source": [
    "ts['1/6/2011':'1/11/2017']"
   ]
  },
  {
   "cell_type": "markdown",
   "metadata": {},
   "source": [
    "Alternativamente se puede utilizar el método .truncate a una serie para obtener los valores anteriores (o posteriores) a una fecha"
   ]
  },
  {
   "cell_type": "code",
   "execution_count": 173,
   "metadata": {},
   "outputs": [
    {
     "data": {
      "text/plain": [
       "2011-01-02   -2.509949\n",
       "2011-01-05    1.557456\n",
       "2011-01-07   -0.313922\n",
       "2011-01-08   -0.131582\n",
       "dtype: float64"
      ]
     },
     "execution_count": 173,
     "metadata": {},
     "output_type": "execute_result"
    }
   ],
   "source": [
    "ts.truncate(after='1/9/2011')"
   ]
  },
  {
   "cell_type": "markdown",
   "metadata": {},
   "source": [
    "Todo esto que vimos con Series es igualmente utilizable para DataFrames"
   ]
  },
  {
   "cell_type": "code",
   "execution_count": 174,
   "metadata": {
    "collapsed": true
   },
   "outputs": [],
   "source": [
    "pd.date_range?"
   ]
  },
  {
   "cell_type": "markdown",
   "metadata": {},
   "source": [
    "Nota: veremos un ejemplo de más opciones para el argumento freq más abajo"
   ]
  },
  {
   "cell_type": "code",
   "execution_count": 50,
   "metadata": {},
   "outputs": [
    {
     "data": {
      "text/plain": [
       "DatetimeIndex(['2000-01-05', '2000-01-12', '2000-01-19', '2000-01-26',\n",
       "               '2000-02-02', '2000-02-09', '2000-02-16', '2000-02-23',\n",
       "               '2000-03-01', '2000-03-08', '2000-03-15', '2000-03-22',\n",
       "               '2000-03-29', '2000-04-05', '2000-04-12', '2000-04-19',\n",
       "               '2000-04-26', '2000-05-03', '2000-05-10', '2000-05-17',\n",
       "               '2000-05-24', '2000-05-31', '2000-06-07', '2000-06-14',\n",
       "               '2000-06-21', '2000-06-28', '2000-07-05', '2000-07-12',\n",
       "               '2000-07-19', '2000-07-26', '2000-08-02', '2000-08-09',\n",
       "               '2000-08-16', '2000-08-23', '2000-08-30', '2000-09-06',\n",
       "               '2000-09-13', '2000-09-20', '2000-09-27', '2000-10-04',\n",
       "               '2000-10-11', '2000-10-18', '2000-10-25', '2000-11-01',\n",
       "               '2000-11-08', '2000-11-15', '2000-11-22', '2000-11-29',\n",
       "               '2000-12-06', '2000-12-13', '2000-12-20', '2000-12-27',\n",
       "               '2001-01-03', '2001-01-10', '2001-01-17', '2001-01-24',\n",
       "               '2001-01-31', '2001-02-07', '2001-02-14', '2001-02-21',\n",
       "               '2001-02-28', '2001-03-07', '2001-03-14', '2001-03-21',\n",
       "               '2001-03-28', '2001-04-04', '2001-04-11', '2001-04-18',\n",
       "               '2001-04-25', '2001-05-02', '2001-05-09', '2001-05-16',\n",
       "               '2001-05-23', '2001-05-30', '2001-06-06', '2001-06-13',\n",
       "               '2001-06-20', '2001-06-27', '2001-07-04', '2001-07-11',\n",
       "               '2001-07-18', '2001-07-25', '2001-08-01', '2001-08-08',\n",
       "               '2001-08-15', '2001-08-22', '2001-08-29', '2001-09-05',\n",
       "               '2001-09-12', '2001-09-19', '2001-09-26', '2001-10-03',\n",
       "               '2001-10-10', '2001-10-17', '2001-10-24', '2001-10-31',\n",
       "               '2001-11-07', '2001-11-14', '2001-11-21', '2001-11-28'],\n",
       "              dtype='datetime64[ns]', freq='W-WED')"
      ]
     },
     "execution_count": 50,
     "metadata": {},
     "output_type": "execute_result"
    }
   ],
   "source": [
    "dates = pd.date_range('1/1/2000', periods=100, freq='W-WED')\n",
    "dates"
   ]
  },
  {
   "cell_type": "code",
   "execution_count": 51,
   "metadata": {},
   "outputs": [
    {
     "data": {
      "text/html": [
       "<div>\n",
       "<style scoped>\n",
       "    .dataframe tbody tr th:only-of-type {\n",
       "        vertical-align: middle;\n",
       "    }\n",
       "\n",
       "    .dataframe tbody tr th {\n",
       "        vertical-align: top;\n",
       "    }\n",
       "\n",
       "    .dataframe thead th {\n",
       "        text-align: right;\n",
       "    }\n",
       "</style>\n",
       "<table border=\"1\" class=\"dataframe\">\n",
       "  <thead>\n",
       "    <tr style=\"text-align: right;\">\n",
       "      <th></th>\n",
       "      <th>Aguascalientes</th>\n",
       "      <th>Chiapas</th>\n",
       "      <th>Puebla</th>\n",
       "      <th>Oaxaca</th>\n",
       "    </tr>\n",
       "  </thead>\n",
       "  <tbody>\n",
       "    <tr>\n",
       "      <th>2000-01-05</th>\n",
       "      <td>0.213972</td>\n",
       "      <td>0.445768</td>\n",
       "      <td>-0.079237</td>\n",
       "      <td>-1.059095</td>\n",
       "    </tr>\n",
       "    <tr>\n",
       "      <th>2000-01-12</th>\n",
       "      <td>0.450569</td>\n",
       "      <td>-0.210222</td>\n",
       "      <td>-2.292548</td>\n",
       "      <td>0.324756</td>\n",
       "    </tr>\n",
       "    <tr>\n",
       "      <th>2000-01-19</th>\n",
       "      <td>-0.262396</td>\n",
       "      <td>1.224380</td>\n",
       "      <td>-0.605203</td>\n",
       "      <td>-0.097986</td>\n",
       "    </tr>\n",
       "    <tr>\n",
       "      <th>2000-01-26</th>\n",
       "      <td>0.375704</td>\n",
       "      <td>-0.340235</td>\n",
       "      <td>0.381192</td>\n",
       "      <td>-0.004631</td>\n",
       "    </tr>\n",
       "    <tr>\n",
       "      <th>2000-02-02</th>\n",
       "      <td>0.234973</td>\n",
       "      <td>1.213568</td>\n",
       "      <td>0.386827</td>\n",
       "      <td>-0.838776</td>\n",
       "    </tr>\n",
       "  </tbody>\n",
       "</table>\n",
       "</div>"
      ],
      "text/plain": [
       "            Aguascalientes   Chiapas    Puebla    Oaxaca\n",
       "2000-01-05        0.213972  0.445768 -0.079237 -1.059095\n",
       "2000-01-12        0.450569 -0.210222 -2.292548  0.324756\n",
       "2000-01-19       -0.262396  1.224380 -0.605203 -0.097986\n",
       "2000-01-26        0.375704 -0.340235  0.381192 -0.004631\n",
       "2000-02-02        0.234973  1.213568  0.386827 -0.838776"
      ]
     },
     "execution_count": 51,
     "metadata": {},
     "output_type": "execute_result"
    }
   ],
   "source": [
    "long_df = pd.DataFrame(np.random.randn(100,4),\n",
    "                      index = dates,\n",
    "                      columns = ['Aguascalientes', 'Chiapas', 'Puebla', 'Oaxaca'])\n",
    "long_df.head(5)"
   ]
  },
  {
   "cell_type": "code",
   "execution_count": 52,
   "metadata": {},
   "outputs": [
    {
     "data": {
      "text/html": [
       "<div>\n",
       "<style scoped>\n",
       "    .dataframe tbody tr th:only-of-type {\n",
       "        vertical-align: middle;\n",
       "    }\n",
       "\n",
       "    .dataframe tbody tr th {\n",
       "        vertical-align: top;\n",
       "    }\n",
       "\n",
       "    .dataframe thead th {\n",
       "        text-align: right;\n",
       "    }\n",
       "</style>\n",
       "<table border=\"1\" class=\"dataframe\">\n",
       "  <thead>\n",
       "    <tr style=\"text-align: right;\">\n",
       "      <th></th>\n",
       "      <th>Aguascalientes</th>\n",
       "      <th>Chiapas</th>\n",
       "      <th>Puebla</th>\n",
       "      <th>Oaxaca</th>\n",
       "    </tr>\n",
       "  </thead>\n",
       "  <tbody>\n",
       "    <tr>\n",
       "      <th>2001-05-02</th>\n",
       "      <td>-1.778391</td>\n",
       "      <td>0.522064</td>\n",
       "      <td>0.892437</td>\n",
       "      <td>0.851905</td>\n",
       "    </tr>\n",
       "    <tr>\n",
       "      <th>2001-05-09</th>\n",
       "      <td>-0.828413</td>\n",
       "      <td>0.710875</td>\n",
       "      <td>0.234289</td>\n",
       "      <td>0.085367</td>\n",
       "    </tr>\n",
       "    <tr>\n",
       "      <th>2001-05-16</th>\n",
       "      <td>-0.007694</td>\n",
       "      <td>1.693775</td>\n",
       "      <td>1.109001</td>\n",
       "      <td>0.500043</td>\n",
       "    </tr>\n",
       "    <tr>\n",
       "      <th>2001-05-23</th>\n",
       "      <td>-1.261572</td>\n",
       "      <td>0.048448</td>\n",
       "      <td>0.648618</td>\n",
       "      <td>0.523766</td>\n",
       "    </tr>\n",
       "    <tr>\n",
       "      <th>2001-05-30</th>\n",
       "      <td>1.260285</td>\n",
       "      <td>-1.020623</td>\n",
       "      <td>-0.719130</td>\n",
       "      <td>1.271271</td>\n",
       "    </tr>\n",
       "  </tbody>\n",
       "</table>\n",
       "</div>"
      ],
      "text/plain": [
       "            Aguascalientes   Chiapas    Puebla    Oaxaca\n",
       "2001-05-02       -1.778391  0.522064  0.892437  0.851905\n",
       "2001-05-09       -0.828413  0.710875  0.234289  0.085367\n",
       "2001-05-16       -0.007694  1.693775  1.109001  0.500043\n",
       "2001-05-23       -1.261572  0.048448  0.648618  0.523766\n",
       "2001-05-30        1.260285 -1.020623 -0.719130  1.271271"
      ]
     },
     "execution_count": 52,
     "metadata": {},
     "output_type": "execute_result"
    }
   ],
   "source": [
    "long_df.loc['5-2001']"
   ]
  },
  {
   "cell_type": "markdown",
   "metadata": {
    "collapsed": true
   },
   "source": [
    "### Series de tiempo con índices duplicados"
   ]
  },
  {
   "cell_type": "code",
   "execution_count": 53,
   "metadata": {},
   "outputs": [],
   "source": [
    "dates = pd.DatetimeIndex(['1/1/2000','1/2/2000','1/2/2000','1/2/2000','1/3/2000'])"
   ]
  },
  {
   "cell_type": "code",
   "execution_count": 54,
   "metadata": {},
   "outputs": [
    {
     "data": {
      "text/plain": [
       "2000-01-01    0\n",
       "2000-01-02    1\n",
       "2000-01-02    2\n",
       "2000-01-02    3\n",
       "2000-01-03    4\n",
       "dtype: int64"
      ]
     },
     "execution_count": 54,
     "metadata": {},
     "output_type": "execute_result"
    }
   ],
   "source": [
    "dup_ts = pd.Series(np.arange(5),index=dates)\n",
    "dup_ts"
   ]
  },
  {
   "cell_type": "markdown",
   "metadata": {},
   "source": [
    "Podemos revisar que el índice no es único con el atributo is_unique"
   ]
  },
  {
   "cell_type": "code",
   "execution_count": 180,
   "metadata": {},
   "outputs": [
    {
     "data": {
      "text/plain": [
       "False"
      ]
     },
     "execution_count": 180,
     "metadata": {},
     "output_type": "execute_result"
    }
   ],
   "source": [
    "dup_ts.index.is_unique"
   ]
  },
  {
   "cell_type": "markdown",
   "metadata": {},
   "source": [
    "Así obtendremos valores escalares o series dependiendo de si el valore está duplicado o no"
   ]
  },
  {
   "cell_type": "code",
   "execution_count": 55,
   "metadata": {},
   "outputs": [
    {
     "data": {
      "text/plain": [
       "4"
      ]
     },
     "execution_count": 55,
     "metadata": {},
     "output_type": "execute_result"
    }
   ],
   "source": [
    "dup_ts['1/3/2000'] #No duplicado"
   ]
  },
  {
   "cell_type": "code",
   "execution_count": 56,
   "metadata": {},
   "outputs": [
    {
     "data": {
      "text/plain": [
       "2000-01-02    1\n",
       "2000-01-02    2\n",
       "2000-01-02    3\n",
       "dtype: int64"
      ]
     },
     "execution_count": 56,
     "metadata": {},
     "output_type": "execute_result"
    }
   ],
   "source": [
    "dup_ts['1/2/2000'] #Duplicado"
   ]
  },
  {
   "cell_type": "markdown",
   "metadata": {},
   "source": [
    "Supongamos que quieres agregar datos no únicos. Una de las maneras es utilizando gropby y level=0"
   ]
  },
  {
   "cell_type": "code",
   "execution_count": 57,
   "metadata": {},
   "outputs": [
    {
     "data": {
      "text/plain": [
       "2000-01-01    0\n",
       "2000-01-02    2\n",
       "2000-01-03    4\n",
       "dtype: int64"
      ]
     },
     "execution_count": 57,
     "metadata": {},
     "output_type": "execute_result"
    }
   ],
   "source": [
    "grouped = dup_ts.groupby(level=0)\n",
    "grouped.mean()"
   ]
  },
  {
   "cell_type": "code",
   "execution_count": 58,
   "metadata": {},
   "outputs": [
    {
     "data": {
      "text/plain": [
       "2000-01-01    1\n",
       "2000-01-02    3\n",
       "2000-01-03    1\n",
       "dtype: int64"
      ]
     },
     "execution_count": 58,
     "metadata": {},
     "output_type": "execute_result"
    }
   ],
   "source": [
    "grouped.count()"
   ]
  },
  {
   "cell_type": "markdown",
   "metadata": {},
   "source": [
    "### Rangos de fechas"
   ]
  },
  {
   "cell_type": "markdown",
   "metadata": {},
   "source": [
    "Recordemos la serie ts"
   ]
  },
  {
   "cell_type": "code",
   "execution_count": 59,
   "metadata": {},
   "outputs": [
    {
     "data": {
      "text/plain": [
       "2011-01-02   -0.816485\n",
       "2011-01-05    0.613719\n",
       "2011-01-07   -0.257603\n",
       "2011-01-08   -0.163859\n",
       "2011-01-10   -0.562733\n",
       "2011-01-12   -0.417053\n",
       "dtype: float64"
      ]
     },
     "execution_count": 59,
     "metadata": {},
     "output_type": "execute_result"
    }
   ],
   "source": [
    "ts"
   ]
  },
  {
   "cell_type": "markdown",
   "metadata": {},
   "source": [
    "Ahora generemos un DatetimIndex para aprender la función date_tange"
   ]
  },
  {
   "cell_type": "code",
   "execution_count": 60,
   "metadata": {
    "collapsed": true
   },
   "outputs": [
    {
     "data": {
      "text/plain": [
       "DatetimeIndex(['2012-04-01', '2012-04-02', '2012-04-03', '2012-04-04',\n",
       "               '2012-04-05', '2012-04-06', '2012-04-07', '2012-04-08',\n",
       "               '2012-04-09', '2012-04-10', '2012-04-11', '2012-04-12',\n",
       "               '2012-04-13', '2012-04-14', '2012-04-15', '2012-04-16',\n",
       "               '2012-04-17', '2012-04-18', '2012-04-19', '2012-04-20',\n",
       "               '2012-04-21', '2012-04-22', '2012-04-23', '2012-04-24',\n",
       "               '2012-04-25', '2012-04-26', '2012-04-27', '2012-04-28',\n",
       "               '2012-04-29', '2012-04-30', '2012-05-01', '2012-05-02',\n",
       "               '2012-05-03', '2012-05-04', '2012-05-05', '2012-05-06',\n",
       "               '2012-05-07', '2012-05-08', '2012-05-09', '2012-05-10',\n",
       "               '2012-05-11', '2012-05-12', '2012-05-13', '2012-05-14',\n",
       "               '2012-05-15', '2012-05-16', '2012-05-17', '2012-05-18',\n",
       "               '2012-05-19', '2012-05-20', '2012-05-21', '2012-05-22',\n",
       "               '2012-05-23', '2012-05-24', '2012-05-25', '2012-05-26',\n",
       "               '2012-05-27', '2012-05-28', '2012-05-29', '2012-05-30',\n",
       "               '2012-05-31', '2012-06-01'],\n",
       "              dtype='datetime64[ns]', freq='D')"
      ]
     },
     "execution_count": 60,
     "metadata": {},
     "output_type": "execute_result"
    }
   ],
   "source": [
    "index = pd.date_range('2012-04-01','2012-06-01')\n",
    "index"
   ]
  },
  {
   "cell_type": "markdown",
   "metadata": {},
   "source": [
    "Vemos que por default date_range genera datos diarios, también podemos pasarle el argumento 'periods' y la fecha de comienzo 'start' para generar los datos"
   ]
  },
  {
   "cell_type": "code",
   "execution_count": 61,
   "metadata": {},
   "outputs": [
    {
     "data": {
      "text/plain": [
       "DatetimeIndex(['2012-04-01', '2012-04-02', '2012-04-03', '2012-04-04',\n",
       "               '2012-04-05', '2012-04-06', '2012-04-07', '2012-04-08',\n",
       "               '2012-04-09', '2012-04-10', '2012-04-11', '2012-04-12',\n",
       "               '2012-04-13', '2012-04-14', '2012-04-15', '2012-04-16',\n",
       "               '2012-04-17', '2012-04-18', '2012-04-19', '2012-04-20'],\n",
       "              dtype='datetime64[ns]', freq='D')"
      ]
     },
     "execution_count": 61,
     "metadata": {},
     "output_type": "execute_result"
    }
   ],
   "source": [
    "pd.date_range(start='2012-04-01',periods=20)"
   ]
  },
  {
   "cell_type": "markdown",
   "metadata": {},
   "source": [
    "Si queremos obtener sólo el último día de trabajo de cada mes podemos utilizar el argumento 'freq' con 'BM'"
   ]
  },
  {
   "cell_type": "code",
   "execution_count": 62,
   "metadata": {},
   "outputs": [
    {
     "data": {
      "text/plain": [
       "DatetimeIndex(['2000-01-31', '2000-02-29', '2000-03-31', '2000-04-28',\n",
       "               '2000-05-31', '2000-06-30', '2000-07-31', '2000-08-31',\n",
       "               '2000-09-29', '2000-10-31', '2000-11-30'],\n",
       "              dtype='datetime64[ns]', freq='BM')"
      ]
     },
     "execution_count": 62,
     "metadata": {},
     "output_type": "execute_result"
    }
   ],
   "source": [
    "pd.date_range('2000-01-01','2000-12-01',freq='BM')"
   ]
  },
  {
   "cell_type": "code",
   "execution_count": 189,
   "metadata": {},
   "outputs": [
    {
     "data": {
      "text/html": [
       "<h4> Bases frecuencias date_range </h4>\n",
       "<table>\n",
       "    <tr>\n",
       "        <td><b>Alias</b></td> <td><b>Tipo de Dato</b></td> <td><b>Descripción</b></td>\n",
       "    </tr>\n",
       "    <tr>\n",
       "        <td>D</td> <td>Day</td> <td>Días Calendario</td>\n",
       "    </tr>\n",
       "    <tr>\n",
       "        <td>B</td> <td>BusinessDay</td> <td>Días laborales</td>\n",
       "    </tr>\n",
       "    <tr>\n",
       "        <td>H</td> <td>Hour</td> <td>Cada hora</td>\n",
       "    </tr>\n",
       "    <tr>\n",
       "        <td>min</td> <td>Minute</td> <td>Cada minuto</td>\n",
       "    </tr>\n",
       "    <tr>\n",
       "        <td>S</td> <td>Second</td> <td>Cada segundo</td>\n",
       "    </tr>\n",
       "    <tr>\n",
       "        <td>M</td> <td>MonthEnd</td> <td>Último día calendario del mes</td>\n",
       "    </tr>\n",
       "    <tr>\n",
       "        <td>BM</td> <td>BusinessMonthEnd</td> <td>Último día laboral del mes</td>\n",
       "    </tr>\n",
       "    <tr>\n",
       "        <td>MS</td> <td>MonthBegin</td> <td>Primer día calendario del mes</td>\n",
       "    </tr>\n",
       "    <tr>\n",
       "        <td>BMS</td> <td>BusinessMonthBegin</td> <td>Primer día laboral del mes</td>\n",
       "    </tr>\n",
       "    <tr>\n",
       "        <td>W-MON, W-TUE, ...</td> <td>Week</td> <td>Cada semana en cierto día de la semana</td>\n",
       "    </tr>\n",
       "    <tr>\n",
       "        <td>WOM-1MON</td> <td>WeekOfMont</td> <td>Genera datos semanales en la primera, segunda, tercera o cuarta semana del mes (Ej. WOM-3FRI para el tercer viernes de cada mes</td>\n",
       "    </tr>\n",
       "    <tr>\n",
       "        <td>Q-JAN, Q-FEB, ...</td> <td>QuarterEnd</td> <td>Cada trimestre en el último día calendario de cada mes para el año terminando en el mes indicado</td>\n",
       "    </tr>\n",
       "    <tr>\n",
       "        <td>A-JAN, A-FEB, ....</td> <td>YearEnd</td> <td>Cada año en el último día calendario del mes indicado</td>\n",
       "    </tr>\n",
       "</table>"
      ],
      "text/plain": [
       "<IPython.core.display.HTML object>"
      ]
     },
     "metadata": {},
     "output_type": "display_data"
    }
   ],
   "source": [
    "%%html\n",
    "<h4> Bases frecuencias date_range </h4>\n",
    "<table>\n",
    "    <tr>\n",
    "        <td><b>Alias</b></td> <td><b>Tipo de Dato</b></td> <td><b>Descripción</b></td>\n",
    "    </tr>\n",
    "    <tr>\n",
    "        <td>D</td> <td>Day</td> <td>Días Calendario</td>\n",
    "    </tr>\n",
    "    <tr>\n",
    "        <td>B</td> <td>BusinessDay</td> <td>Días laborales</td>\n",
    "    </tr>\n",
    "    <tr>\n",
    "        <td>H</td> <td>Hour</td> <td>Cada hora</td>\n",
    "    </tr>\n",
    "    <tr>\n",
    "        <td>min</td> <td>Minute</td> <td>Cada minuto</td>\n",
    "    </tr>\n",
    "    <tr>\n",
    "        <td>S</td> <td>Second</td> <td>Cada segundo</td>\n",
    "    </tr>\n",
    "    <tr>\n",
    "        <td>M</td> <td>MonthEnd</td> <td>Último día calendario del mes</td>\n",
    "    </tr>\n",
    "    <tr>\n",
    "        <td>BM</td> <td>BusinessMonthEnd</td> <td>Último día laboral del mes</td>\n",
    "    </tr>\n",
    "    <tr>\n",
    "        <td>MS</td> <td>MonthBegin</td> <td>Primer día calendario del mes</td>\n",
    "    </tr>\n",
    "    <tr>\n",
    "        <td>BMS</td> <td>BusinessMonthBegin</td> <td>Primer día laboral del mes</td>\n",
    "    </tr>\n",
    "    <tr>\n",
    "        <td>W-MON, W-TUE, ...</td> <td>Week</td> <td>Cada semana en cierto día de la semana</td>\n",
    "    </tr>\n",
    "    <tr>\n",
    "        <td>WOM-1MON</td> <td>WeekOfMont</td> <td>Genera datos semanales en la primera, segunda, tercera o cuarta semana del mes (Ej. WOM-3FRI para el tercer viernes de cada mes</td>\n",
    "    </tr>\n",
    "    <tr>\n",
    "        <td>Q-JAN, Q-FEB, ...</td> <td>QuarterEnd</td> <td>Cada trimestre en el último día calendario de cada mes para el año terminando en el mes indicado</td>\n",
    "    </tr>\n",
    "    <tr>\n",
    "        <td>A-JAN, A-FEB, ....</td> <td>YearEnd</td> <td>Cada año en el último día calendario del mes indicado</td>\n",
    "    </tr>\n",
    "</table>"
   ]
  },
  {
   "cell_type": "markdown",
   "metadata": {},
   "source": [
    "### Shifting Series de Tiempo"
   ]
  },
  {
   "cell_type": "code",
   "execution_count": 64,
   "metadata": {},
   "outputs": [
    {
     "data": {
      "text/plain": [
       "2000-01-31    5\n",
       "2000-02-29    1\n",
       "2000-03-31    6\n",
       "2000-04-30    3\n",
       "Freq: M, dtype: int64"
      ]
     },
     "execution_count": 64,
     "metadata": {},
     "output_type": "execute_result"
    }
   ],
   "source": [
    "ts = pd.Series(np.random.randint(1,10,4), \n",
    "               index=pd.date_range('1/1/2000',periods=4,freq='M'))\n",
    "ts"
   ]
  },
  {
   "cell_type": "code",
   "execution_count": 65,
   "metadata": {},
   "outputs": [
    {
     "data": {
      "text/plain": [
       "2000-01-31    NaN\n",
       "2000-02-29    NaN\n",
       "2000-03-31    5.0\n",
       "2000-04-30    1.0\n",
       "Freq: M, dtype: float64"
      ]
     },
     "execution_count": 65,
     "metadata": {},
     "output_type": "execute_result"
    }
   ],
   "source": [
    "ts.shift(2)"
   ]
  },
  {
   "cell_type": "code",
   "execution_count": 66,
   "metadata": {},
   "outputs": [
    {
     "data": {
      "text/plain": [
       "2000-01-31    6.0\n",
       "2000-02-29    3.0\n",
       "2000-03-31    NaN\n",
       "2000-04-30    NaN\n",
       "Freq: M, dtype: float64"
      ]
     },
     "execution_count": 66,
     "metadata": {},
     "output_type": "execute_result"
    }
   ],
   "source": [
    "ts.shift(-2)"
   ]
  },
  {
   "cell_type": "markdown",
   "metadata": {},
   "source": [
    "Un uso común de shift es calcular cambios porcentuales de series de tiempo"
   ]
  },
  {
   "cell_type": "code",
   "execution_count": 67,
   "metadata": {},
   "outputs": [
    {
     "data": {
      "text/plain": [
       "2000-01-31    5\n",
       "2000-02-29    1\n",
       "2000-03-31    6\n",
       "2000-04-30    3\n",
       "Freq: M, dtype: int64"
      ]
     },
     "execution_count": 67,
     "metadata": {},
     "output_type": "execute_result"
    }
   ],
   "source": [
    "ts"
   ]
  },
  {
   "cell_type": "code",
   "execution_count": 69,
   "metadata": {},
   "outputs": [
    {
     "data": {
      "text/plain": [
       "2000-01-31    NaN\n",
       "2000-02-29    5.0\n",
       "2000-03-31    1.0\n",
       "2000-04-30    6.0\n",
       "Freq: M, dtype: float64"
      ]
     },
     "execution_count": 69,
     "metadata": {},
     "output_type": "execute_result"
    }
   ],
   "source": [
    "ts.shift(1)"
   ]
  },
  {
   "cell_type": "code",
   "execution_count": 70,
   "metadata": {},
   "outputs": [
    {
     "data": {
      "text/plain": [
       "2000-01-31         NaN\n",
       "2000-02-29    4.000000\n",
       "2000-03-31   -0.833333\n",
       "2000-04-30    1.000000\n",
       "Freq: M, dtype: float64"
      ]
     },
     "execution_count": 70,
     "metadata": {},
     "output_type": "execute_result"
    }
   ],
   "source": [
    "ts.shift(1) / ts -1"
   ]
  },
  {
   "cell_type": "markdown",
   "metadata": {},
   "source": [
    "Si pasamos el argumento 'freq' entonces dejamos de perder los datos en el shift"
   ]
  },
  {
   "cell_type": "code",
   "execution_count": 71,
   "metadata": {},
   "outputs": [
    {
     "data": {
      "text/plain": [
       "2000-03-31    5\n",
       "2000-04-30    1\n",
       "2000-05-31    6\n",
       "2000-06-30    3\n",
       "Freq: M, dtype: int64"
      ]
     },
     "execution_count": 71,
     "metadata": {},
     "output_type": "execute_result"
    }
   ],
   "source": [
    "ts.shift(2,freq=\"M\")"
   ]
  },
  {
   "cell_type": "code",
   "execution_count": 72,
   "metadata": {},
   "outputs": [
    {
     "data": {
      "text/plain": [
       "2000-02-03    5\n",
       "2000-03-03    1\n",
       "2000-04-03    6\n",
       "2000-05-03    3\n",
       "dtype: int64"
      ]
     },
     "execution_count": 72,
     "metadata": {},
     "output_type": "execute_result"
    }
   ],
   "source": [
    "ts.shift(3,freq=\"D\")"
   ]
  },
  {
   "cell_type": "markdown",
   "metadata": {},
   "source": [
    "### Periodos y aritmética de periodos"
   ]
  },
  {
   "cell_type": "code",
   "execution_count": 87,
   "metadata": {},
   "outputs": [
    {
     "data": {
      "text/plain": [
       "Period('2007', 'A-DEC')"
      ]
     },
     "execution_count": 87,
     "metadata": {},
     "output_type": "execute_result"
    }
   ],
   "source": [
    "p = pd.Period(2007,freq='A-DEC')\n",
    "p"
   ]
  },
  {
   "cell_type": "markdown",
   "metadata": {},
   "source": [
    "En este caso Period representa el año completo desde 1º de enero de 2017 hasta el 31 de diciembre de 2017"
   ]
  },
  {
   "cell_type": "markdown",
   "metadata": {},
   "source": [
    "Podemos entonces convenientemente modificar este objeto por su frequencia"
   ]
  },
  {
   "cell_type": "code",
   "execution_count": 88,
   "metadata": {},
   "outputs": [
    {
     "data": {
      "text/plain": [
       "Period('2012', 'A-DEC')"
      ]
     },
     "execution_count": 88,
     "metadata": {},
     "output_type": "execute_result"
    }
   ],
   "source": [
    "p+5"
   ]
  },
  {
   "cell_type": "code",
   "execution_count": 89,
   "metadata": {},
   "outputs": [
    {
     "data": {
      "text/plain": [
       "Period('2005', 'A-DEC')"
      ]
     },
     "execution_count": 89,
     "metadata": {},
     "output_type": "execute_result"
    }
   ],
   "source": [
    "p -2"
   ]
  },
  {
   "cell_type": "markdown",
   "metadata": {},
   "source": [
    "Para dos periodos con la misma frequencia, la diferencia es el número de unidades entre ellos"
   ]
  },
  {
   "cell_type": "code",
   "execution_count": 91,
   "metadata": {},
   "outputs": [
    {
     "data": {
      "text/plain": [
       "7"
      ]
     },
     "execution_count": 91,
     "metadata": {},
     "output_type": "execute_result"
    }
   ],
   "source": [
    "pd.Period('2014',freq='A-DEC') -p"
   ]
  },
  {
   "cell_type": "markdown",
   "metadata": {},
   "source": [
    "Se pueden generar rangos de periodos con la función period_range"
   ]
  },
  {
   "cell_type": "code",
   "execution_count": 93,
   "metadata": {},
   "outputs": [
    {
     "data": {
      "text/plain": [
       "PeriodIndex(['2000-01', '2000-02', '2000-03', '2000-04', '2000-05', '2000-06'], dtype='period[M]', freq='M')"
      ]
     },
     "execution_count": 93,
     "metadata": {},
     "output_type": "execute_result"
    }
   ],
   "source": [
    "rng = pd.period_range('2000-01-01','2000-06-30',freq='M')\n",
    "rng"
   ]
  },
  {
   "cell_type": "code",
   "execution_count": 94,
   "metadata": {},
   "outputs": [
    {
     "data": {
      "text/plain": [
       "2000-01   -1.724089\n",
       "2000-02   -0.617069\n",
       "2000-03    0.373127\n",
       "2000-04   -0.313610\n",
       "2000-05   -0.174441\n",
       "2000-06    0.874845\n",
       "Freq: M, dtype: float64"
      ]
     },
     "execution_count": 94,
     "metadata": {},
     "output_type": "execute_result"
    }
   ],
   "source": [
    "pd.Series(np.random.randn(6),index=rng)"
   ]
  },
  {
   "cell_type": "markdown",
   "metadata": {},
   "source": [
    "Si tenemos un arreglo de strings, podemos usar sin problema la clase PeriodIndezx para generarlo"
   ]
  },
  {
   "cell_type": "code",
   "execution_count": 96,
   "metadata": {
    "collapsed": true
   },
   "outputs": [],
   "source": [
    "values = ['2001Q3', '2002Q2', '2003Q1']"
   ]
  },
  {
   "cell_type": "code",
   "execution_count": 97,
   "metadata": {},
   "outputs": [
    {
     "data": {
      "text/plain": [
       "PeriodIndex(['2001Q3', '2002Q2', '2003Q1'], dtype='period[Q-DEC]', freq='Q-DEC')"
      ]
     },
     "execution_count": 97,
     "metadata": {},
     "output_type": "execute_result"
    }
   ],
   "source": [
    "index =  pd.PeriodIndex(values, freq='Q-DEC')\n",
    "index"
   ]
  },
  {
   "cell_type": "markdown",
   "metadata": {},
   "source": [
    "Podemos transformar la frecuencia de un periodo utilizando el método asfreq"
   ]
  },
  {
   "cell_type": "code",
   "execution_count": 98,
   "metadata": {},
   "outputs": [
    {
     "data": {
      "text/plain": [
       "Period('2007', 'A-DEC')"
      ]
     },
     "execution_count": 98,
     "metadata": {},
     "output_type": "execute_result"
    }
   ],
   "source": [
    "p = pd.Period('2007', freq='A-DEC')\n",
    "p"
   ]
  },
  {
   "cell_type": "code",
   "execution_count": 99,
   "metadata": {},
   "outputs": [
    {
     "data": {
      "text/plain": [
       "Period('2007-01', 'M')"
      ]
     },
     "execution_count": 99,
     "metadata": {},
     "output_type": "execute_result"
    }
   ],
   "source": [
    "p.asfreq('M',how='start')"
   ]
  },
  {
   "cell_type": "code",
   "execution_count": 100,
   "metadata": {},
   "outputs": [
    {
     "data": {
      "text/plain": [
       "Period('2007-12', 'M')"
      ]
     },
     "execution_count": 100,
     "metadata": {},
     "output_type": "execute_result"
    }
   ],
   "source": [
    "p.asfreq('M',how='end')"
   ]
  },
  {
   "cell_type": "markdown",
   "metadata": {},
   "source": [
    "La misma operación podemos hacer con una serie de pandas"
   ]
  },
  {
   "cell_type": "code",
   "execution_count": 101,
   "metadata": {
    "collapsed": true
   },
   "outputs": [],
   "source": [
    "rng = pd.period_range('2006', '2009', freq='A-DEC')"
   ]
  },
  {
   "cell_type": "code",
   "execution_count": 102,
   "metadata": {},
   "outputs": [
    {
     "data": {
      "text/plain": [
       "2006   -0.878989\n",
       "2007   -0.046284\n",
       "2008   -1.529993\n",
       "2009    1.006633\n",
       "Freq: A-DEC, dtype: float64"
      ]
     },
     "execution_count": 102,
     "metadata": {},
     "output_type": "execute_result"
    }
   ],
   "source": [
    "ts = pd.Series(np.random.randn(len(rng)), index=rng)\n",
    "ts"
   ]
  },
  {
   "cell_type": "code",
   "execution_count": 103,
   "metadata": {},
   "outputs": [
    {
     "data": {
      "text/plain": [
       "2006-01   -0.878989\n",
       "2007-01   -0.046284\n",
       "2008-01   -1.529993\n",
       "2009-01    1.006633\n",
       "Freq: M, dtype: float64"
      ]
     },
     "execution_count": 103,
     "metadata": {},
     "output_type": "execute_result"
    }
   ],
   "source": [
    "ts.asfreq('M', how='start')"
   ]
  },
  {
   "cell_type": "code",
   "execution_count": 104,
   "metadata": {},
   "outputs": [
    {
     "data": {
      "text/plain": [
       "2006-12-29   -0.878989\n",
       "2007-12-31   -0.046284\n",
       "2008-12-31   -1.529993\n",
       "2009-12-31    1.006633\n",
       "Freq: B, dtype: float64"
      ]
     },
     "execution_count": 104,
     "metadata": {},
     "output_type": "execute_result"
    }
   ],
   "source": [
    "ts.asfreq('B', how='end')"
   ]
  },
  {
   "cell_type": "markdown",
   "metadata": {},
   "source": [
    "### Convirtiendo timestamps en Periodos (y al revés)"
   ]
  },
  {
   "cell_type": "code",
   "execution_count": 73,
   "metadata": {},
   "outputs": [],
   "source": [
    "rng = pd.date_range('2000-01-01', periods=3, freq='M')"
   ]
  },
  {
   "cell_type": "code",
   "execution_count": 74,
   "metadata": {},
   "outputs": [
    {
     "data": {
      "text/plain": [
       "2000-01-31    1.332374\n",
       "2000-02-29   -0.569791\n",
       "2000-03-31   -0.537418\n",
       "Freq: M, dtype: float64"
      ]
     },
     "execution_count": 74,
     "metadata": {},
     "output_type": "execute_result"
    }
   ],
   "source": [
    "ts = pd.Series(np.random.randn(3), index=rng)\n",
    "ts"
   ]
  },
  {
   "cell_type": "code",
   "execution_count": 75,
   "metadata": {},
   "outputs": [
    {
     "data": {
      "text/plain": [
       "2000-01    1.332374\n",
       "2000-02   -0.569791\n",
       "2000-03   -0.537418\n",
       "Freq: M, dtype: float64"
      ]
     },
     "execution_count": 75,
     "metadata": {},
     "output_type": "execute_result"
    }
   ],
   "source": [
    "pts = ts.to_period()\n",
    "pts"
   ]
  },
  {
   "cell_type": "markdown",
   "metadata": {},
   "source": [
    "Como los periodos siempre se refieren a periodos de tiempo que no se cruzan, entonces cada timestamp pertenece siempre a un sólo periodo dada una frecuencia. Veamos otro ejemplo"
   ]
  },
  {
   "cell_type": "code",
   "execution_count": 109,
   "metadata": {
    "collapsed": true
   },
   "outputs": [],
   "source": [
    "rng = pd.date_range('1/29/2000', periods=6, freq='D')"
   ]
  },
  {
   "cell_type": "code",
   "execution_count": 111,
   "metadata": {},
   "outputs": [
    {
     "data": {
      "text/plain": [
       "2000-01-29    0.066898\n",
       "2000-01-30   -0.598216\n",
       "2000-01-31    0.558223\n",
       "2000-02-01    2.529553\n",
       "2000-02-02    1.155174\n",
       "2000-02-03    0.752012\n",
       "Freq: D, dtype: float64"
      ]
     },
     "execution_count": 111,
     "metadata": {},
     "output_type": "execute_result"
    }
   ],
   "source": [
    "ts2 = pd.Series(np.random.randn(6), index=rng)\n",
    "ts2"
   ]
  },
  {
   "cell_type": "code",
   "execution_count": 112,
   "metadata": {},
   "outputs": [
    {
     "data": {
      "text/plain": [
       "2000-01    0.066898\n",
       "2000-01   -0.598216\n",
       "2000-01    0.558223\n",
       "2000-02    2.529553\n",
       "2000-02    1.155174\n",
       "2000-02    0.752012\n",
       "Freq: M, dtype: float64"
      ]
     },
     "execution_count": 112,
     "metadata": {},
     "output_type": "execute_result"
    }
   ],
   "source": [
    "ts2.to_period('M')"
   ]
  },
  {
   "cell_type": "markdown",
   "metadata": {},
   "source": [
    "Para regresar de nuevo a timestamps se utiliza el método to_timestamp"
   ]
  },
  {
   "cell_type": "code",
   "execution_count": 118,
   "metadata": {},
   "outputs": [
    {
     "data": {
      "text/plain": [
       "2000-01-29    0.066898\n",
       "2000-01-30   -0.598216\n",
       "2000-01-31    0.558223\n",
       "2000-02-01    2.529553\n",
       "2000-02-02    1.155174\n",
       "2000-02-03    0.752012\n",
       "Freq: D, dtype: float64"
      ]
     },
     "execution_count": 118,
     "metadata": {},
     "output_type": "execute_result"
    }
   ],
   "source": [
    "pts = ts2.to_period()\n",
    "pts"
   ]
  },
  {
   "cell_type": "code",
   "execution_count": 119,
   "metadata": {},
   "outputs": [
    {
     "data": {
      "text/plain": [
       "2000-01-29    0.066898\n",
       "2000-01-30   -0.598216\n",
       "2000-01-31    0.558223\n",
       "2000-02-01    2.529553\n",
       "2000-02-02    1.155174\n",
       "2000-02-03    0.752012\n",
       "Freq: D, dtype: float64"
      ]
     },
     "execution_count": 119,
     "metadata": {},
     "output_type": "execute_result"
    }
   ],
   "source": [
    "pts.to_timestamp(how='end')"
   ]
  },
  {
   "cell_type": "markdown",
   "metadata": {},
   "source": [
    "### Resampling y conversión de frecuencias "
   ]
  },
  {
   "cell_type": "markdown",
   "metadata": {},
   "source": [
    "**Resampling** se refiere al proceso de convertir una serie de tiempo de una frecuencia a otra. Agregar una serie de más alta frecuenca a una serie de baja frecuencia se llama *downsampling*, mientras que convertir una serie de más baja frecuencia a una serie de alta frencuencia se llama *upsampling*"
   ]
  },
  {
   "cell_type": "markdown",
   "metadata": {},
   "source": [
    "Del mismo modo que funciona groupby, tu llamas primero el método resample y después la medida de agregación que quieres utilizar"
   ]
  },
  {
   "cell_type": "code",
   "execution_count": 120,
   "metadata": {
    "collapsed": true
   },
   "outputs": [],
   "source": [
    "rng = pd.date_range('2000-01-01', periods=100, freq='D')"
   ]
  },
  {
   "cell_type": "code",
   "execution_count": 121,
   "metadata": {
    "collapsed": true
   },
   "outputs": [
    {
     "data": {
      "text/plain": [
       "2000-01-01   -0.117390\n",
       "2000-01-02   -0.298963\n",
       "2000-01-03    1.175240\n",
       "2000-01-04    0.042609\n",
       "2000-01-05    0.229503\n",
       "2000-01-06    0.341104\n",
       "2000-01-07    1.387376\n",
       "2000-01-08    1.759029\n",
       "2000-01-09   -0.781555\n",
       "2000-01-10    1.918021\n",
       "2000-01-11   -0.468963\n",
       "2000-01-12    0.869413\n",
       "2000-01-13    0.151096\n",
       "2000-01-14    0.067428\n",
       "2000-01-15   -1.946418\n",
       "2000-01-16   -0.264381\n",
       "2000-01-17    0.677319\n",
       "2000-01-18   -0.518318\n",
       "2000-01-19   -1.324571\n",
       "2000-01-20    0.836496\n",
       "2000-01-21    0.532353\n",
       "2000-01-22    0.296363\n",
       "2000-01-23   -1.866386\n",
       "2000-01-24   -1.575752\n",
       "2000-01-25   -0.332869\n",
       "2000-01-26   -0.206070\n",
       "2000-01-27    0.218355\n",
       "2000-01-28   -0.230340\n",
       "2000-01-29    0.755842\n",
       "2000-01-30    1.229982\n",
       "                ...   \n",
       "2000-03-11    0.454139\n",
       "2000-03-12    1.196218\n",
       "2000-03-13   -0.543403\n",
       "2000-03-14    0.660247\n",
       "2000-03-15    0.322940\n",
       "2000-03-16    1.626937\n",
       "2000-03-17   -0.057225\n",
       "2000-03-18    0.905796\n",
       "2000-03-19   -0.928647\n",
       "2000-03-20    0.036531\n",
       "2000-03-21   -0.322313\n",
       "2000-03-22    0.662662\n",
       "2000-03-23    0.321015\n",
       "2000-03-24    0.064208\n",
       "2000-03-25   -1.056981\n",
       "2000-03-26    0.156098\n",
       "2000-03-27   -0.336548\n",
       "2000-03-28   -1.087144\n",
       "2000-03-29    1.521736\n",
       "2000-03-30   -0.535864\n",
       "2000-03-31   -0.697158\n",
       "2000-04-01    1.534798\n",
       "2000-04-02    2.237104\n",
       "2000-04-03   -0.502784\n",
       "2000-04-04   -0.608365\n",
       "2000-04-05   -0.502584\n",
       "2000-04-06    1.899471\n",
       "2000-04-07    0.847570\n",
       "2000-04-08    0.170679\n",
       "2000-04-09   -1.725335\n",
       "Freq: D, dtype: float64"
      ]
     },
     "execution_count": 121,
     "metadata": {},
     "output_type": "execute_result"
    }
   ],
   "source": [
    "ts = pd.Series(np.random.randn(len(rng)), index=rng)\n",
    "ts"
   ]
  },
  {
   "cell_type": "code",
   "execution_count": 122,
   "metadata": {},
   "outputs": [
    {
     "data": {
      "text/plain": [
       "2000-01-31    0.064373\n",
       "2000-02-29   -0.241875\n",
       "2000-03-31    0.213399\n",
       "2000-04-30    0.372284\n",
       "Freq: M, dtype: float64"
      ]
     },
     "execution_count": 122,
     "metadata": {},
     "output_type": "execute_result"
    }
   ],
   "source": [
    " ts.resample('M').mean()"
   ]
  },
  {
   "cell_type": "code",
   "execution_count": 123,
   "metadata": {},
   "outputs": [
    {
     "data": {
      "text/plain": [
       "2000-01    0.064373\n",
       "2000-02   -0.241875\n",
       "2000-03    0.213399\n",
       "2000-04    0.372284\n",
       "Freq: M, dtype: float64"
      ]
     },
     "execution_count": 123,
     "metadata": {},
     "output_type": "execute_result"
    }
   ],
   "source": [
    "ts.resample('M', kind='period').mean()"
   ]
  },
  {
   "cell_type": "markdown",
   "metadata": {},
   "source": [
    "Para hacer *downsampling* hay dos cosas en las que nos debemos de fijar:\n",
    "<ol> \n",
    "<li> Donde cierra el intervalo </li>\n",
    "<li> Cómo llamar a cada intervalo de agregación (ya sea con el inicio del intervalo o el final)</li>\n",
    "</ol>"
   ]
  },
  {
   "cell_type": "markdown",
   "metadata": {},
   "source": [
    "Veamos un ejemplo"
   ]
  },
  {
   "cell_type": "code",
   "execution_count": 124,
   "metadata": {
    "collapsed": true
   },
   "outputs": [],
   "source": [
    "rng = pd.date_range('2000-01-01', periods=12, freq='T')"
   ]
  },
  {
   "cell_type": "code",
   "execution_count": 125,
   "metadata": {
    "collapsed": true
   },
   "outputs": [
    {
     "data": {
      "text/plain": [
       "2000-01-01 00:00:00     0\n",
       "2000-01-01 00:01:00     1\n",
       "2000-01-01 00:02:00     2\n",
       "2000-01-01 00:03:00     3\n",
       "2000-01-01 00:04:00     4\n",
       "2000-01-01 00:05:00     5\n",
       "2000-01-01 00:06:00     6\n",
       "2000-01-01 00:07:00     7\n",
       "2000-01-01 00:08:00     8\n",
       "2000-01-01 00:09:00     9\n",
       "2000-01-01 00:10:00    10\n",
       "2000-01-01 00:11:00    11\n",
       "Freq: T, dtype: int64"
      ]
     },
     "execution_count": 125,
     "metadata": {},
     "output_type": "execute_result"
    }
   ],
   "source": [
    "ts = pd.Series(np.arange(12), index=rng)\n",
    "ts"
   ]
  },
  {
   "cell_type": "markdown",
   "metadata": {},
   "source": [
    "Supongamos que quieres agregar estos datos en grupos de 5 minutos tomando la suma de cada grupo"
   ]
  },
  {
   "cell_type": "code",
   "execution_count": 126,
   "metadata": {},
   "outputs": [
    {
     "data": {
      "text/plain": [
       "1999-12-31 23:55:00     0\n",
       "2000-01-01 00:00:00    15\n",
       "2000-01-01 00:05:00    40\n",
       "2000-01-01 00:10:00    11\n",
       "Freq: 5T, dtype: int64"
      ]
     },
     "execution_count": 126,
     "metadata": {},
     "output_type": "execute_result"
    }
   ],
   "source": [
    "ts.resample('5min', closed='right').sum()"
   ]
  },
  {
   "cell_type": "code",
   "execution_count": 127,
   "metadata": {},
   "outputs": [
    {
     "data": {
      "text/plain": [
       "2000-01-01 00:00:00     0\n",
       "2000-01-01 00:05:00    15\n",
       "2000-01-01 00:10:00    40\n",
       "2000-01-01 00:15:00    11\n",
       "Freq: 5T, dtype: int64"
      ]
     },
     "execution_count": 127,
     "metadata": {},
     "output_type": "execute_result"
    }
   ],
   "source": [
    "ts.resample('5min', closed='right', label='right').sum()"
   ]
  },
  {
   "cell_type": "markdown",
   "metadata": {},
   "source": [
    "Ver este [link](https://www.dropbox.com/s/32jp1r9tovbjpkx/Screenshot%202017-11-03%2023.38.38.png?dl=0)"
   ]
  },
  {
   "cell_type": "markdown",
   "metadata": {},
   "source": [
    "Ahora veamos que para hacer upsampling no necesitamos medida de agregación. Primero, definimos nuestro dataframe"
   ]
  },
  {
   "cell_type": "code",
   "execution_count": 129,
   "metadata": {},
   "outputs": [
    {
     "data": {
      "text/html": [
       "<div>\n",
       "<table border=\"1\" class=\"dataframe\">\n",
       "  <thead>\n",
       "    <tr style=\"text-align: right;\">\n",
       "      <th></th>\n",
       "      <th>Colorado</th>\n",
       "      <th>Texas</th>\n",
       "      <th>New York</th>\n",
       "      <th>Ohio</th>\n",
       "    </tr>\n",
       "  </thead>\n",
       "  <tbody>\n",
       "    <tr>\n",
       "      <th>2000-01-05</th>\n",
       "      <td>1.54648</td>\n",
       "      <td>0.201085</td>\n",
       "      <td>-0.868298</td>\n",
       "      <td>-0.751121</td>\n",
       "    </tr>\n",
       "    <tr>\n",
       "      <th>2000-01-12</th>\n",
       "      <td>-0.20402</td>\n",
       "      <td>1.363546</td>\n",
       "      <td>-0.417100</td>\n",
       "      <td>2.412191</td>\n",
       "    </tr>\n",
       "  </tbody>\n",
       "</table>\n",
       "</div>"
      ],
      "text/plain": [
       "            Colorado     Texas  New York      Ohio\n",
       "2000-01-05   1.54648  0.201085 -0.868298 -0.751121\n",
       "2000-01-12  -0.20402  1.363546 -0.417100  2.412191"
      ]
     },
     "execution_count": 129,
     "metadata": {},
     "output_type": "execute_result"
    }
   ],
   "source": [
    "frame = pd.DataFrame(np.random.randn(2, 4),\n",
    "                      index=pd.date_range('1/1/2000', periods=2,\n",
    "                                          freq='W-WED'),\n",
    "                      columns=['Colorado', 'Texas', 'New York', 'Ohio'])\n",
    "frame"
   ]
  },
  {
   "cell_type": "code",
   "execution_count": 130,
   "metadata": {},
   "outputs": [
    {
     "data": {
      "text/html": [
       "<div>\n",
       "<table border=\"1\" class=\"dataframe\">\n",
       "  <thead>\n",
       "    <tr style=\"text-align: right;\">\n",
       "      <th></th>\n",
       "      <th>Colorado</th>\n",
       "      <th>Texas</th>\n",
       "      <th>New York</th>\n",
       "      <th>Ohio</th>\n",
       "    </tr>\n",
       "  </thead>\n",
       "  <tbody>\n",
       "    <tr>\n",
       "      <th>2000-01-05</th>\n",
       "      <td>1.54648</td>\n",
       "      <td>0.201085</td>\n",
       "      <td>-0.868298</td>\n",
       "      <td>-0.751121</td>\n",
       "    </tr>\n",
       "    <tr>\n",
       "      <th>2000-01-06</th>\n",
       "      <td>NaN</td>\n",
       "      <td>NaN</td>\n",
       "      <td>NaN</td>\n",
       "      <td>NaN</td>\n",
       "    </tr>\n",
       "    <tr>\n",
       "      <th>2000-01-07</th>\n",
       "      <td>NaN</td>\n",
       "      <td>NaN</td>\n",
       "      <td>NaN</td>\n",
       "      <td>NaN</td>\n",
       "    </tr>\n",
       "    <tr>\n",
       "      <th>2000-01-08</th>\n",
       "      <td>NaN</td>\n",
       "      <td>NaN</td>\n",
       "      <td>NaN</td>\n",
       "      <td>NaN</td>\n",
       "    </tr>\n",
       "    <tr>\n",
       "      <th>2000-01-09</th>\n",
       "      <td>NaN</td>\n",
       "      <td>NaN</td>\n",
       "      <td>NaN</td>\n",
       "      <td>NaN</td>\n",
       "    </tr>\n",
       "    <tr>\n",
       "      <th>2000-01-10</th>\n",
       "      <td>NaN</td>\n",
       "      <td>NaN</td>\n",
       "      <td>NaN</td>\n",
       "      <td>NaN</td>\n",
       "    </tr>\n",
       "    <tr>\n",
       "      <th>2000-01-11</th>\n",
       "      <td>NaN</td>\n",
       "      <td>NaN</td>\n",
       "      <td>NaN</td>\n",
       "      <td>NaN</td>\n",
       "    </tr>\n",
       "    <tr>\n",
       "      <th>2000-01-12</th>\n",
       "      <td>-0.20402</td>\n",
       "      <td>1.363546</td>\n",
       "      <td>-0.417100</td>\n",
       "      <td>2.412191</td>\n",
       "    </tr>\n",
       "  </tbody>\n",
       "</table>\n",
       "</div>"
      ],
      "text/plain": [
       "            Colorado     Texas  New York      Ohio\n",
       "2000-01-05   1.54648  0.201085 -0.868298 -0.751121\n",
       "2000-01-06       NaN       NaN       NaN       NaN\n",
       "2000-01-07       NaN       NaN       NaN       NaN\n",
       "2000-01-08       NaN       NaN       NaN       NaN\n",
       "2000-01-09       NaN       NaN       NaN       NaN\n",
       "2000-01-10       NaN       NaN       NaN       NaN\n",
       "2000-01-11       NaN       NaN       NaN       NaN\n",
       "2000-01-12  -0.20402  1.363546 -0.417100  2.412191"
      ]
     },
     "execution_count": 130,
     "metadata": {},
     "output_type": "execute_result"
    }
   ],
   "source": [
    "df_daily = frame.resample('D').asfreq()\n",
    "df_daily"
   ]
  },
  {
   "cell_type": "code",
   "execution_count": 131,
   "metadata": {},
   "outputs": [
    {
     "data": {
      "text/html": [
       "<div>\n",
       "<table border=\"1\" class=\"dataframe\">\n",
       "  <thead>\n",
       "    <tr style=\"text-align: right;\">\n",
       "      <th></th>\n",
       "      <th>Colorado</th>\n",
       "      <th>Texas</th>\n",
       "      <th>New York</th>\n",
       "      <th>Ohio</th>\n",
       "    </tr>\n",
       "  </thead>\n",
       "  <tbody>\n",
       "    <tr>\n",
       "      <th>2000-01-05</th>\n",
       "      <td>1.54648</td>\n",
       "      <td>0.201085</td>\n",
       "      <td>-0.868298</td>\n",
       "      <td>-0.751121</td>\n",
       "    </tr>\n",
       "    <tr>\n",
       "      <th>2000-01-06</th>\n",
       "      <td>1.54648</td>\n",
       "      <td>0.201085</td>\n",
       "      <td>-0.868298</td>\n",
       "      <td>-0.751121</td>\n",
       "    </tr>\n",
       "    <tr>\n",
       "      <th>2000-01-07</th>\n",
       "      <td>1.54648</td>\n",
       "      <td>0.201085</td>\n",
       "      <td>-0.868298</td>\n",
       "      <td>-0.751121</td>\n",
       "    </tr>\n",
       "    <tr>\n",
       "      <th>2000-01-08</th>\n",
       "      <td>1.54648</td>\n",
       "      <td>0.201085</td>\n",
       "      <td>-0.868298</td>\n",
       "      <td>-0.751121</td>\n",
       "    </tr>\n",
       "    <tr>\n",
       "      <th>2000-01-09</th>\n",
       "      <td>1.54648</td>\n",
       "      <td>0.201085</td>\n",
       "      <td>-0.868298</td>\n",
       "      <td>-0.751121</td>\n",
       "    </tr>\n",
       "    <tr>\n",
       "      <th>2000-01-10</th>\n",
       "      <td>1.54648</td>\n",
       "      <td>0.201085</td>\n",
       "      <td>-0.868298</td>\n",
       "      <td>-0.751121</td>\n",
       "    </tr>\n",
       "    <tr>\n",
       "      <th>2000-01-11</th>\n",
       "      <td>1.54648</td>\n",
       "      <td>0.201085</td>\n",
       "      <td>-0.868298</td>\n",
       "      <td>-0.751121</td>\n",
       "    </tr>\n",
       "    <tr>\n",
       "      <th>2000-01-12</th>\n",
       "      <td>-0.20402</td>\n",
       "      <td>1.363546</td>\n",
       "      <td>-0.417100</td>\n",
       "      <td>2.412191</td>\n",
       "    </tr>\n",
       "  </tbody>\n",
       "</table>\n",
       "</div>"
      ],
      "text/plain": [
       "            Colorado     Texas  New York      Ohio\n",
       "2000-01-05   1.54648  0.201085 -0.868298 -0.751121\n",
       "2000-01-06   1.54648  0.201085 -0.868298 -0.751121\n",
       "2000-01-07   1.54648  0.201085 -0.868298 -0.751121\n",
       "2000-01-08   1.54648  0.201085 -0.868298 -0.751121\n",
       "2000-01-09   1.54648  0.201085 -0.868298 -0.751121\n",
       "2000-01-10   1.54648  0.201085 -0.868298 -0.751121\n",
       "2000-01-11   1.54648  0.201085 -0.868298 -0.751121\n",
       "2000-01-12  -0.20402  1.363546 -0.417100  2.412191"
      ]
     },
     "execution_count": 131,
     "metadata": {},
     "output_type": "execute_result"
    }
   ],
   "source": [
    "frame.resample('D').ffill()"
   ]
  },
  {
   "cell_type": "markdown",
   "metadata": {},
   "source": [
    "De la misma manera podemos decidir el número de periodos a llenar"
   ]
  },
  {
   "cell_type": "code",
   "execution_count": 132,
   "metadata": {},
   "outputs": [
    {
     "data": {
      "text/html": [
       "<div>\n",
       "<table border=\"1\" class=\"dataframe\">\n",
       "  <thead>\n",
       "    <tr style=\"text-align: right;\">\n",
       "      <th></th>\n",
       "      <th>Colorado</th>\n",
       "      <th>Texas</th>\n",
       "      <th>New York</th>\n",
       "      <th>Ohio</th>\n",
       "    </tr>\n",
       "  </thead>\n",
       "  <tbody>\n",
       "    <tr>\n",
       "      <th>2000-01-05</th>\n",
       "      <td>1.54648</td>\n",
       "      <td>0.201085</td>\n",
       "      <td>-0.868298</td>\n",
       "      <td>-0.751121</td>\n",
       "    </tr>\n",
       "    <tr>\n",
       "      <th>2000-01-06</th>\n",
       "      <td>1.54648</td>\n",
       "      <td>0.201085</td>\n",
       "      <td>-0.868298</td>\n",
       "      <td>-0.751121</td>\n",
       "    </tr>\n",
       "    <tr>\n",
       "      <th>2000-01-07</th>\n",
       "      <td>1.54648</td>\n",
       "      <td>0.201085</td>\n",
       "      <td>-0.868298</td>\n",
       "      <td>-0.751121</td>\n",
       "    </tr>\n",
       "    <tr>\n",
       "      <th>2000-01-08</th>\n",
       "      <td>NaN</td>\n",
       "      <td>NaN</td>\n",
       "      <td>NaN</td>\n",
       "      <td>NaN</td>\n",
       "    </tr>\n",
       "    <tr>\n",
       "      <th>2000-01-09</th>\n",
       "      <td>NaN</td>\n",
       "      <td>NaN</td>\n",
       "      <td>NaN</td>\n",
       "      <td>NaN</td>\n",
       "    </tr>\n",
       "    <tr>\n",
       "      <th>2000-01-10</th>\n",
       "      <td>NaN</td>\n",
       "      <td>NaN</td>\n",
       "      <td>NaN</td>\n",
       "      <td>NaN</td>\n",
       "    </tr>\n",
       "    <tr>\n",
       "      <th>2000-01-11</th>\n",
       "      <td>NaN</td>\n",
       "      <td>NaN</td>\n",
       "      <td>NaN</td>\n",
       "      <td>NaN</td>\n",
       "    </tr>\n",
       "    <tr>\n",
       "      <th>2000-01-12</th>\n",
       "      <td>-0.20402</td>\n",
       "      <td>1.363546</td>\n",
       "      <td>-0.417100</td>\n",
       "      <td>2.412191</td>\n",
       "    </tr>\n",
       "  </tbody>\n",
       "</table>\n",
       "</div>"
      ],
      "text/plain": [
       "            Colorado     Texas  New York      Ohio\n",
       "2000-01-05   1.54648  0.201085 -0.868298 -0.751121\n",
       "2000-01-06   1.54648  0.201085 -0.868298 -0.751121\n",
       "2000-01-07   1.54648  0.201085 -0.868298 -0.751121\n",
       "2000-01-08       NaN       NaN       NaN       NaN\n",
       "2000-01-09       NaN       NaN       NaN       NaN\n",
       "2000-01-10       NaN       NaN       NaN       NaN\n",
       "2000-01-11       NaN       NaN       NaN       NaN\n",
       "2000-01-12  -0.20402  1.363546 -0.417100  2.412191"
      ]
     },
     "execution_count": 132,
     "metadata": {},
     "output_type": "execute_result"
    }
   ],
   "source": [
    "frame.resample('D').ffill(limit=2)"
   ]
  },
  {
   "cell_type": "markdown",
   "metadata": {},
   "source": [
    "o un periodo que no tenga overlap con el anterior"
   ]
  },
  {
   "cell_type": "code",
   "execution_count": 133,
   "metadata": {},
   "outputs": [
    {
     "data": {
      "text/html": [
       "<div>\n",
       "<table border=\"1\" class=\"dataframe\">\n",
       "  <thead>\n",
       "    <tr style=\"text-align: right;\">\n",
       "      <th></th>\n",
       "      <th>Colorado</th>\n",
       "      <th>Texas</th>\n",
       "      <th>New York</th>\n",
       "      <th>Ohio</th>\n",
       "    </tr>\n",
       "  </thead>\n",
       "  <tbody>\n",
       "    <tr>\n",
       "      <th>2000-01-06</th>\n",
       "      <td>1.54648</td>\n",
       "      <td>0.201085</td>\n",
       "      <td>-0.868298</td>\n",
       "      <td>-0.751121</td>\n",
       "    </tr>\n",
       "    <tr>\n",
       "      <th>2000-01-13</th>\n",
       "      <td>-0.20402</td>\n",
       "      <td>1.363546</td>\n",
       "      <td>-0.417100</td>\n",
       "      <td>2.412191</td>\n",
       "    </tr>\n",
       "  </tbody>\n",
       "</table>\n",
       "</div>"
      ],
      "text/plain": [
       "            Colorado     Texas  New York      Ohio\n",
       "2000-01-06   1.54648  0.201085 -0.868298 -0.751121\n",
       "2000-01-13  -0.20402  1.363546 -0.417100  2.412191"
      ]
     },
     "execution_count": 133,
     "metadata": {},
     "output_type": "execute_result"
    }
   ],
   "source": [
    "frame.resample('W-THU').ffill()"
   ]
  },
  {
   "cell_type": "markdown",
   "metadata": {},
   "source": [
    "### Resampling con Periodos"
   ]
  },
  {
   "cell_type": "markdown",
   "metadata": {},
   "source": [
    "Primero definimos el DataFrame"
   ]
  },
  {
   "cell_type": "code",
   "execution_count": 136,
   "metadata": {},
   "outputs": [
    {
     "data": {
      "text/html": [
       "<div>\n",
       "<table border=\"1\" class=\"dataframe\">\n",
       "  <thead>\n",
       "    <tr style=\"text-align: right;\">\n",
       "      <th></th>\n",
       "      <th>Colorado</th>\n",
       "      <th>Texas</th>\n",
       "      <th>New York</th>\n",
       "      <th>Ohio</th>\n",
       "    </tr>\n",
       "  </thead>\n",
       "  <tbody>\n",
       "    <tr>\n",
       "      <th>2000-01</th>\n",
       "      <td>-0.188508</td>\n",
       "      <td>-1.448430</td>\n",
       "      <td>-1.666069</td>\n",
       "      <td>0.001038</td>\n",
       "    </tr>\n",
       "    <tr>\n",
       "      <th>2000-02</th>\n",
       "      <td>0.980678</td>\n",
       "      <td>-0.468383</td>\n",
       "      <td>0.799029</td>\n",
       "      <td>0.254968</td>\n",
       "    </tr>\n",
       "    <tr>\n",
       "      <th>2000-03</th>\n",
       "      <td>0.199986</td>\n",
       "      <td>-2.085751</td>\n",
       "      <td>-1.074219</td>\n",
       "      <td>-1.277166</td>\n",
       "    </tr>\n",
       "    <tr>\n",
       "      <th>2000-04</th>\n",
       "      <td>1.423189</td>\n",
       "      <td>1.660056</td>\n",
       "      <td>-1.213439</td>\n",
       "      <td>-0.208225</td>\n",
       "    </tr>\n",
       "    <tr>\n",
       "      <th>2000-05</th>\n",
       "      <td>-0.147703</td>\n",
       "      <td>1.480924</td>\n",
       "      <td>0.894544</td>\n",
       "      <td>0.980075</td>\n",
       "    </tr>\n",
       "  </tbody>\n",
       "</table>\n",
       "</div>"
      ],
      "text/plain": [
       "         Colorado     Texas  New York      Ohio\n",
       "2000-01 -0.188508 -1.448430 -1.666069  0.001038\n",
       "2000-02  0.980678 -0.468383  0.799029  0.254968\n",
       "2000-03  0.199986 -2.085751 -1.074219 -1.277166\n",
       "2000-04  1.423189  1.660056 -1.213439 -0.208225\n",
       "2000-05 -0.147703  1.480924  0.894544  0.980075"
      ]
     },
     "execution_count": 136,
     "metadata": {},
     "output_type": "execute_result"
    }
   ],
   "source": [
    "frame = pd.DataFrame(np.random.randn(24, 4),\n",
    "                      index=pd.period_range('1-2000', '12-2001',\n",
    "                                            freq='M'),\n",
    "                      columns=['Colorado', 'Texas', 'New York', 'Ohio'])\n",
    "frame.head()"
   ]
  },
  {
   "cell_type": "markdown",
   "metadata": {},
   "source": [
    "Ahora podemos agregar los años utilizando la media como medida de agregación"
   ]
  },
  {
   "cell_type": "code",
   "execution_count": 137,
   "metadata": {},
   "outputs": [
    {
     "data": {
      "text/html": [
       "<div>\n",
       "<table border=\"1\" class=\"dataframe\">\n",
       "  <thead>\n",
       "    <tr style=\"text-align: right;\">\n",
       "      <th></th>\n",
       "      <th>Colorado</th>\n",
       "      <th>Texas</th>\n",
       "      <th>New York</th>\n",
       "      <th>Ohio</th>\n",
       "    </tr>\n",
       "  </thead>\n",
       "  <tbody>\n",
       "    <tr>\n",
       "      <th>2000</th>\n",
       "      <td>0.506686</td>\n",
       "      <td>-0.265032</td>\n",
       "      <td>-0.336571</td>\n",
       "      <td>-0.000564</td>\n",
       "    </tr>\n",
       "    <tr>\n",
       "      <th>2001</th>\n",
       "      <td>-0.725463</td>\n",
       "      <td>-0.084245</td>\n",
       "      <td>0.053198</td>\n",
       "      <td>-0.538653</td>\n",
       "    </tr>\n",
       "  </tbody>\n",
       "</table>\n",
       "</div>"
      ],
      "text/plain": [
       "      Colorado     Texas  New York      Ohio\n",
       "2000  0.506686 -0.265032 -0.336571 -0.000564\n",
       "2001 -0.725463 -0.084245  0.053198 -0.538653"
      ]
     },
     "execution_count": 137,
     "metadata": {},
     "output_type": "execute_result"
    }
   ],
   "source": [
    "annual_frame = frame.resample('A-DEC').mean()\n",
    "annual_frame"
   ]
  }
 ],
 "metadata": {
  "kernelspec": {
   "display_name": "Python 3",
   "language": "python",
   "name": "python3"
  },
  "language_info": {
   "codemirror_mode": {
    "name": "ipython",
    "version": 3
   },
   "file_extension": ".py",
   "mimetype": "text/x-python",
   "name": "python",
   "nbconvert_exporter": "python",
   "pygments_lexer": "ipython3",
   "version": "3.6.3"
  }
 },
 "nbformat": 4,
 "nbformat_minor": 2
}
