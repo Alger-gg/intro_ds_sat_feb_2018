{
 "cells": [
  {
   "cell_type": "markdown",
   "metadata": {},
   "source": [
    "## Whitespace y formato en Python"
   ]
  },
  {
   "cell_type": "markdown",
   "metadata": {},
   "source": [
    "### Whitespace"
   ]
  },
  {
   "cell_type": "markdown",
   "metadata": {},
   "source": [
    "Existen símbolos que no se imprimen llamados \"whitespace\" que permiten organizar el output para hacerlo más fácil de leer. Vamos a ver algunos ejemplos."
   ]
  },
  {
   "cell_type": "code",
   "execution_count": 1,
   "metadata": {},
   "outputs": [
    {
     "name": "stdout",
     "output_type": "stream",
     "text": [
      "Python\n"
     ]
    }
   ],
   "source": [
    "print(\"Python\")"
   ]
  },
  {
   "cell_type": "code",
   "execution_count": 2,
   "metadata": {},
   "outputs": [
    {
     "name": "stdout",
     "output_type": "stream",
     "text": [
      "\tPython\n"
     ]
    }
   ],
   "source": [
    "print(\"\\tPython\") "
   ]
  },
  {
   "cell_type": "code",
   "execution_count": 3,
   "metadata": {},
   "outputs": [
    {
     "name": "stdout",
     "output_type": "stream",
     "text": [
      "Lenguajes:\n",
      "\tPython\n",
      "\tC\n",
      "\tJava\n"
     ]
    }
   ],
   "source": [
    "print(\"Lenguajes:\\n\\tPython\\n\\tC\\n\\tJava\")"
   ]
  },
  {
   "cell_type": "code",
   "execution_count": 52,
   "metadata": {},
   "outputs": [
    {
     "data": {
      "text/plain": [
       "\"'Lenguajes:\\\\n\\\\tPython\\\\n\\\\tC\\\\n\\\\tJava'\""
      ]
     },
     "execution_count": 52,
     "metadata": {},
     "output_type": "execute_result"
    }
   ],
   "source": [
    "repr(\"Lenguajes:\\n\\tPython\\n\\tC\\n\\tJava\")"
   ]
  },
  {
   "cell_type": "code",
   "execution_count": 4,
   "metadata": {},
   "outputs": [],
   "source": [
    "#Definimos la función\n",
    "def printMe(texto):\n",
    "    #Esta función imprime el texto que le pases\n",
    "    print(texto)\n",
    "    return texto*2"
   ]
  },
  {
   "cell_type": "code",
   "execution_count": 5,
   "metadata": {},
   "outputs": [
    {
     "name": "stdout",
     "output_type": "stream",
     "text": [
      "Hola como estás?\n"
     ]
    },
    {
     "data": {
      "text/plain": [
       "'Hola como estás?Hola como estás?'"
      ]
     },
     "execution_count": 5,
     "metadata": {},
     "output_type": "execute_result"
    }
   ],
   "source": [
    "saludo = \"Hola como estás?\"\n",
    "printMe(saludo) #Llamamos la función"
   ]
  },
  {
   "cell_type": "markdown",
   "metadata": {},
   "source": [
    "De momento, nos vamos a quedar con este par de formatos. Existe un amplio tema que se llama Regular Expressions que se ocupa normalmente para manejar texto y por tanto para resolver problemas de Procesamiento de Lenguaje Natural que no vamos a alcanzar a ver en este curso. De hecho existe un libro que está en proceso de publicación que se llama \"Learn Regex the Hard Way\"\n",
    "https://learncodethehardway.org/regex/"
   ]
  },
  {
   "cell_type": "markdown",
   "metadata": {},
   "source": [
    "### Tips de Formato"
   ]
  },
  {
   "cell_type": "markdown",
   "metadata": {},
   "source": [
    "Las llaves {} nos permiten guardar un espacio en nuestro String que luego el método format especifica como llenar. "
   ]
  },
  {
   "cell_type": "code",
   "execution_count": 6,
   "metadata": {},
   "outputs": [
    {
     "name": "stdout",
     "output_type": "stream",
     "text": [
      "Me dijeron que Mijares todavía quiere a Lucero!\n"
     ]
    }
   ],
   "source": [
    "print('Me dijeron que {} todavía quiere a {}!'.format('Mijares', 'Lucero'))\n",
    "#Llena los argumentos en orden"
   ]
  },
  {
   "cell_type": "markdown",
   "metadata": {},
   "source": [
    "También podemos decirle a Python en que orden queremos que los llene. Python como lenguaje de programación empieza siempre sus índices en 0."
   ]
  },
  {
   "cell_type": "code",
   "execution_count": 8,
   "metadata": {},
   "outputs": [
    {
     "name": "stdout",
     "output_type": "stream",
     "text": [
      "Me dijeron que Lucero todavía quiere a Mijares!\n"
     ]
    }
   ],
   "source": [
    "print('Me dijeron que {1} todavía quiere a {0}!'.format('Mijares', 'Lucero'))\n",
    "#Llena los argumentos en el orden que especificamos"
   ]
  },
  {
   "cell_type": "markdown",
   "metadata": {},
   "source": [
    "Otra cosa que podemos hacer es referir a los argumentos con un nombre"
   ]
  },
  {
   "cell_type": "code",
   "execution_count": 10,
   "metadata": {},
   "outputs": [
    {
     "name": "stdout",
     "output_type": "stream",
     "text": [
      "Para mí el concierto de Alejandro Fernández fue excelente.\n"
     ]
    }
   ],
   "source": [
    "print('Para mí el concierto de {artista} fue {adjetivo}.'.format(artista='Alejandro Fernández', adjetivo='excelente'))\n"
   ]
  },
  {
   "cell_type": "code",
   "execution_count": 11,
   "metadata": {},
   "outputs": [
    {
     "name": "stdout",
     "output_type": "stream",
     "text": [
      "Cuando cantó 'Sé que te duele' fue hermoso!.\n"
     ]
    }
   ],
   "source": [
    "print('Cuando cantó {cancion!r} fue {adjetivo}!.'.format(cancion='Sé que te duele', adjetivo='hermoso'))"
   ]
  },
  {
   "cell_type": "markdown",
   "metadata": {},
   "source": [
    "Más aún podemos abreviar algunos métodos como por ejemplo !r abrevia el método repr() como se ve en la siguiente línea de código"
   ]
  },
  {
   "cell_type": "code",
   "execution_count": 48,
   "metadata": {},
   "outputs": [
    {
     "data": {
      "text/plain": [
       "\"'Sé que te duele'\""
      ]
     },
     "execution_count": 48,
     "metadata": {},
     "output_type": "execute_result"
    }
   ],
   "source": [
    "repr('Sé que te duele') "
   ]
  },
  {
   "cell_type": "code",
   "execution_count": 49,
   "metadata": {},
   "outputs": [
    {
     "name": "stdout",
     "output_type": "stream",
     "text": [
      "Sé que te duele\n"
     ]
    }
   ],
   "source": [
    "print('Sé que te duele')"
   ]
  },
  {
   "cell_type": "code",
   "execution_count": 51,
   "metadata": {},
   "outputs": [
    {
     "data": {
      "text/plain": [
       "'Sé que te duele'"
      ]
     },
     "execution_count": 51,
     "metadata": {},
     "output_type": "execute_result"
    }
   ],
   "source": [
    "'Sé que te duele'"
   ]
  },
  {
   "cell_type": "markdown",
   "metadata": {},
   "source": [
    "Repr() nos imprime aquello que el intérprete de Python está leyendo y entiende, \n",
    "que puede o no coincidir con el output que Python escribe para que sea leído por humanos"
   ]
  },
  {
   "cell_type": "code",
   "execution_count": 26,
   "metadata": {},
   "outputs": [
    {
     "data": {
      "text/plain": [
       "'Sé que te duele'"
      ]
     },
     "execution_count": 26,
     "metadata": {},
     "output_type": "execute_result"
    }
   ],
   "source": [
    "str('Sé que te duele')"
   ]
  },
  {
   "cell_type": "markdown",
   "metadata": {},
   "source": [
    "Str() por su parte nos regresa el output que Python selecciona para que sea leído a nivel humano. \n",
    "Para utilizar el método para usar str() dentro de una argumento se utiliza !s"
   ]
  },
  {
   "cell_type": "code",
   "execution_count": 31,
   "metadata": {},
   "outputs": [
    {
     "name": "stdout",
     "output_type": "stream",
     "text": [
      "Sé que te duele!s\n"
     ]
    }
   ],
   "source": [
    "print('Sé que te duele!s') \n",
    "#Sólo funciona dentro de los argumentos entre llaves {}; no en la string solita para imprimir."
   ]
  },
  {
   "cell_type": "markdown",
   "metadata": {},
   "source": [
    "Ahora supongamos que tenemos valores númericos y que queremos ponerlos adentro de nuestra string. Lo podemos hacer de la siguiente forma:"
   ]
  },
  {
   "cell_type": "code",
   "execution_count": 13,
   "metadata": {},
   "outputs": [
    {
     "name": "stdout",
     "output_type": "stream",
     "text": [
      "GreenShark tiene actualmente 65 alumnos en total\n"
     ]
    }
   ],
   "source": [
    "num_alumnos = 65\n",
    "print('GreenShark tiene actualmente {!s} alumnos en total'.format(num_alumnos))"
   ]
  },
  {
   "cell_type": "markdown",
   "metadata": {},
   "source": [
    "Adicionalmente se puede incluir opciones más específicas de formato utilizando de manera opcional \":\" después del nombre del argumento"
   ]
  },
  {
   "cell_type": "code",
   "execution_count": 20,
   "metadata": {},
   "outputs": [
    {
     "name": "stdout",
     "output_type": "stream",
     "text": [
      "El valor de pi es aproximadamente 3.1415926535897931.\n"
     ]
    }
   ],
   "source": [
    "import math\n",
    "print('El valor de pi es aproximadamente {valor_pi:.16f}.'.format(valor_pi=math.pi))"
   ]
  }
 ],
 "metadata": {
  "kernelspec": {
   "display_name": "Python 3",
   "language": "python",
   "name": "python3"
  },
  "language_info": {
   "codemirror_mode": {
    "name": "ipython",
    "version": 3
   },
   "file_extension": ".py",
   "mimetype": "text/x-python",
   "name": "python",
   "nbconvert_exporter": "python",
   "pygments_lexer": "ipython3",
   "version": "3.6.4"
  }
 },
 "nbformat": 4,
 "nbformat_minor": 2
}
