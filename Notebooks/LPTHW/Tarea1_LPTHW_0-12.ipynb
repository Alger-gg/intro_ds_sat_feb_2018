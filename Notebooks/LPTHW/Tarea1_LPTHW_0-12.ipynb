{
 "cells": [
  {
   "cell_type": "markdown",
   "metadata": {},
   "source": [
    "# Tarea 1: Ejercicios Learn Python the Hard Way 0 al 12 (Python 3) "
   ]
  },
  {
   "cell_type": "markdown",
   "metadata": {},
   "source": [
    "Nota: El método de aprender Python de \"Hard Way\" se basa en aprender los fundamentos de Python mediante ejercicios controlados que se incorporan por el alumno mediante repetición. Así como se hace en otras disciplinas como los deportes, las artes marciales o la música."
   ]
  },
  {
   "cell_type": "markdown",
   "metadata": {},
   "source": [
    "El autor considera tres skills esenciales para un programador: leer y escribir, atención al detalle y encontrar las diferencias"
   ]
  },
  {
   "cell_type": "markdown",
   "metadata": {},
   "source": [
    "Un Bug es un error, problema o defecto que tiene nuestro código. El objetivo del programador se cumple en dos etapas respecto a los bugs: encontrarlos y arreglarlos."
   ]
  },
  {
   "cell_type": "markdown",
   "metadata": {},
   "source": [
    "## Ejercicio 0"
   ]
  },
  {
   "cell_type": "markdown",
   "metadata": {},
   "source": [
    "Les pide que instalen atom y encuentren la terminal y la incluyan en su barra de herramientas."
   ]
  },
  {
   "cell_type": "markdown",
   "metadata": {},
   "source": [
    "## Ejercicio 1"
   ]
  },
  {
   "cell_type": "code",
   "execution_count": 1,
   "metadata": {},
   "outputs": [
    {
     "name": "stdout",
     "output_type": "stream",
     "text": [
      "Hello World\n"
     ]
    }
   ],
   "source": [
    "print(\"Hello World\")\n"
   ]
  },
  {
   "cell_type": "code",
   "execution_count": 2,
   "metadata": {},
   "outputs": [
    {
     "name": "stdout",
     "output_type": "stream",
     "text": [
      "I said \"do not touch this\".\n"
     ]
    }
   ],
   "source": [
    "print('I said \"do not touch this\".')"
   ]
  },
  {
   "cell_type": "code",
   "execution_count": 3,
   "metadata": {},
   "outputs": [
    {
     "name": "stdout",
     "output_type": "stream",
     "text": [
      "Nos gusta el mezcal\n"
     ]
    }
   ],
   "source": [
    "print(\"Nos gusta el mezcal\")"
   ]
  },
  {
   "cell_type": "code",
   "execution_count": 4,
   "metadata": {},
   "outputs": [
    {
     "name": "stdout",
     "output_type": "stream",
     "text": [
      "Esto se imprimió\n"
     ]
    }
   ],
   "source": [
    "print('Esto se imprimió')"
   ]
  },
  {
   "cell_type": "markdown",
   "metadata": {},
   "source": [
    "Nota: Un script se corre de la siguiente forma: (1) Se crea un archivo ejemplo.py utilizando un editor de texto (como Atom o Sublime) con las instrucciones escritas en Python, (2) Se abre una sesión en la terminal (mac) o cmd prompt o Power Shell (windows) y (3) se corre el archivo en la terminal con el comando \"python3 ejemplo.py\" . (Si corren en la terminal el comando \"python ejemplo.py\" entonces va a correr la versión de python que tenga instalada por default su computadora.)"
   ]
  },
  {
   "cell_type": "markdown",
   "metadata": {},
   "source": [
    "## Ejercicio 2"
   ]
  },
  {
   "cell_type": "code",
   "execution_count": 11,
   "metadata": {},
   "outputs": [],
   "source": [
    "#Los comentarios en Python se escriben utilizando el signo de \"#\". \n",
    "#Un buen programador comenta su código de forma concisa y consistente"
   ]
  },
  {
   "cell_type": "markdown",
   "metadata": {},
   "source": [
    "Un buen tip para revisar código es leerlo de derecha a izquierda porque le permite a tu cerebro enfocarse en encontrar errores"
   ]
  },
  {
   "cell_type": "markdown",
   "metadata": {},
   "source": [
    "## Ejercicio 3"
   ]
  },
  {
   "cell_type": "code",
   "execution_count": 12,
   "metadata": {},
   "outputs": [
    {
     "name": "stdout",
     "output_type": "stream",
     "text": [
      "Si tienes un string, se imprime el string\n"
     ]
    }
   ],
   "source": [
    "print(\"Si tienes un string, se imprime el string\")"
   ]
  },
  {
   "cell_type": "code",
   "execution_count": 5,
   "metadata": {},
   "outputs": [
    {
     "name": "stdout",
     "output_type": "stream",
     "text": [
      "False\n"
     ]
    }
   ],
   "source": [
    "print( False)"
   ]
  },
  {
   "cell_type": "code",
   "execution_count": 6,
   "metadata": {},
   "outputs": [
    {
     "name": "stdout",
     "output_type": "stream",
     "text": [
      "Lado izquierdo lado derecho\n"
     ]
    }
   ],
   "source": [
    "print(\"Lado izquierdo\" + \" lado derecho\")"
   ]
  },
  {
   "cell_type": "code",
   "execution_count": 7,
   "metadata": {},
   "outputs": [
    {
     "name": "stdout",
     "output_type": "stream",
     "text": [
      "lado izquierdo lado derecho\n"
     ]
    }
   ],
   "source": [
    "print(\"lado izquierdo\", \"lado derecho\")"
   ]
  },
  {
   "cell_type": "code",
   "execution_count": 13,
   "metadata": {},
   "outputs": [],
   "source": [
    "a = type(6)"
   ]
  },
  {
   "cell_type": "code",
   "execution_count": 15,
   "metadata": {},
   "outputs": [
    {
     "name": "stdout",
     "output_type": "stream",
     "text": [
      "El tipo de dato de la variable a es <class 'int'>\n"
     ]
    }
   ],
   "source": [
    "print(\"El tipo de dato de la variable a es \"+ str(a))"
   ]
  },
  {
   "cell_type": "code",
   "execution_count": 8,
   "metadata": {},
   "outputs": [
    {
     "ename": "TypeError",
     "evalue": "must be str, not int",
     "output_type": "error",
     "traceback": [
      "\u001b[0;31m-----------------------------------------------------\u001b[0m",
      "\u001b[0;31mTypeError\u001b[0m           Traceback (most recent call last)",
      "\u001b[0;32m<ipython-input-8-2eb58f4de665>\u001b[0m in \u001b[0;36m<module>\u001b[0;34m()\u001b[0m\n\u001b[0;32m----> 1\u001b[0;31m \u001b[0mprint\u001b[0m\u001b[0;34m(\u001b[0m\u001b[0;34m\"Lado izquierdo \"\u001b[0m \u001b[0;34m+\u001b[0m \u001b[0;36m6\u001b[0m\u001b[0;34m)\u001b[0m\u001b[0;34m\u001b[0m\u001b[0m\n\u001b[0m",
      "\u001b[0;31mTypeError\u001b[0m: must be str, not int"
     ]
    }
   ],
   "source": [
    "print(\"Lado izquierdo \" + 6)"
   ]
  },
  {
   "cell_type": "code",
   "execution_count": 18,
   "metadata": {},
   "outputs": [
    {
     "data": {
      "text/plain": [
       "str"
      ]
     },
     "execution_count": 18,
     "metadata": {},
     "output_type": "execute_result"
    }
   ],
   "source": [
    "type(str(6))"
   ]
  },
  {
   "cell_type": "code",
   "execution_count": 28,
   "metadata": {},
   "outputs": [
    {
     "name": "stdout",
     "output_type": "stream",
     "text": [
      "Lado izquierdo 6\n"
     ]
    }
   ],
   "source": [
    "print(\"Lado izquierdo \" + str(6))"
   ]
  },
  {
   "cell_type": "code",
   "execution_count": 35,
   "metadata": {},
   "outputs": [
    {
     "name": "stdout",
     "output_type": "stream",
     "text": [
      "lado izquierdo SEPARADOR 6 SEPARADOR False SEPARADOR hola\n"
     ]
    }
   ],
   "source": [
    "print(\"lado izquierdo\", 6, False, \"hola\", sep= \" SEPARADOR \")"
   ]
  },
  {
   "cell_type": "code",
   "execution_count": 21,
   "metadata": {},
   "outputs": [
    {
     "data": {
      "text/plain": [
       "5"
      ]
     },
     "execution_count": 21,
     "metadata": {},
     "output_type": "execute_result"
    }
   ],
   "source": [
    "a = 5\n",
    "a"
   ]
  },
  {
   "cell_type": "code",
   "execution_count": 19,
   "metadata": {},
   "outputs": [
    {
     "name": "stdout",
     "output_type": "stream",
     "text": [
      "Es 1 mayor que 5? False\n"
     ]
    }
   ],
   "source": [
    "print(\"Es 1 mayor que 5?\", 1>5)\n"
   ]
  },
  {
   "cell_type": "code",
   "execution_count": 23,
   "metadata": {},
   "outputs": [
    {
     "data": {
      "text/plain": [
       "False"
      ]
     },
     "execution_count": 23,
     "metadata": {},
     "output_type": "execute_result"
    }
   ],
   "source": [
    "#Duda 1\n",
    "condicion = 5>7\n",
    "condicion"
   ]
  },
  {
   "cell_type": "code",
   "execution_count": 25,
   "metadata": {},
   "outputs": [
    {
     "data": {
      "text/plain": [
       "True"
      ]
     },
     "execution_count": 25,
     "metadata": {},
     "output_type": "execute_result"
    }
   ],
   "source": [
    "condicion == False"
   ]
  },
  {
   "cell_type": "code",
   "execution_count": 26,
   "metadata": {},
   "outputs": [
    {
     "name": "stdout",
     "output_type": "stream",
     "text": [
      "No es cierto que 5 sea mayor a 7\n"
     ]
    }
   ],
   "source": [
    "#Duda 2\n",
    "if condicion == False:\n",
    "    print(\"No es cierto que 5 sea mayor a 7\")"
   ]
  },
  {
   "cell_type": "code",
   "execution_count": 39,
   "metadata": {},
   "outputs": [
    {
     "name": "stdout",
     "output_type": "stream",
     "text": [
      "Es 3 + 5 igual a 8 True\n"
     ]
    }
   ],
   "source": [
    "print(\"Es 3 + 5 igual a 8\", 3 + 5 == 8)"
   ]
  },
  {
   "cell_type": "code",
   "execution_count": 43,
   "metadata": {},
   "outputs": [
    {
     "data": {
      "text/plain": [
       "False"
      ]
     },
     "execution_count": 43,
     "metadata": {},
     "output_type": "execute_result"
    }
   ],
   "source": [
    "\"a\" == \"b\""
   ]
  },
  {
   "cell_type": "code",
   "execution_count": 42,
   "metadata": {},
   "outputs": [
    {
     "data": {
      "text/plain": [
       "False"
      ]
     },
     "execution_count": 42,
     "metadata": {},
     "output_type": "execute_result"
    }
   ],
   "source": [
    "# Duda 3\n",
    "\"7\" == \"3 + 4\""
   ]
  },
  {
   "cell_type": "code",
   "execution_count": 41,
   "metadata": {},
   "outputs": [
    {
     "data": {
      "text/plain": [
       "True"
      ]
     },
     "execution_count": 41,
     "metadata": {},
     "output_type": "execute_result"
    }
   ],
   "source": [
    "# Duda 4\n",
    "7 == 3 + 4"
   ]
  },
  {
   "cell_type": "code",
   "execution_count": 14,
   "metadata": {},
   "outputs": [
    {
     "name": "stdout",
     "output_type": "stream",
     "text": [
      "Así funciona el operador módulo: el resultado de 9%2 es 1\n"
     ]
    }
   ],
   "source": [
    "print(\"Así funciona el operador módulo: el resultado de 9%2 es\", 9%2)"
   ]
  },
  {
   "cell_type": "markdown",
   "metadata": {},
   "source": [
    "## Ejercicio 4"
   ]
  },
  {
   "cell_type": "code",
   "execution_count": 49,
   "metadata": {
    "scrolled": true
   },
   "outputs": [
    {
     "name": "stdout",
     "output_type": "stream",
     "text": [
      "13\n"
     ]
    }
   ],
   "source": [
    "num_coches = 13\n",
    "print(num_coches)"
   ]
  },
  {
   "cell_type": "code",
   "execution_count": 50,
   "metadata": {},
   "outputs": [],
   "source": [
    "coches_entran = 15\n",
    "coches_salen = 18"
   ]
  },
  {
   "cell_type": "code",
   "execution_count": 40,
   "metadata": {},
   "outputs": [
    {
     "data": {
      "text/plain": [
       "13"
      ]
     },
     "execution_count": 40,
     "metadata": {},
     "output_type": "execute_result"
    }
   ],
   "source": [
    "num_coches "
   ]
  },
  {
   "cell_type": "code",
   "execution_count": 41,
   "metadata": {},
   "outputs": [
    {
     "data": {
      "text/plain": [
       "28"
      ]
     },
     "execution_count": 41,
     "metadata": {},
     "output_type": "execute_result"
    }
   ],
   "source": [
    "num_coches + coches_entran"
   ]
  },
  {
   "cell_type": "code",
   "execution_count": 42,
   "metadata": {},
   "outputs": [],
   "source": [
    "num_coches = num_coches + coches_entran"
   ]
  },
  {
   "cell_type": "code",
   "execution_count": 43,
   "metadata": {},
   "outputs": [
    {
     "data": {
      "text/plain": [
       "28"
      ]
     },
     "execution_count": 43,
     "metadata": {},
     "output_type": "execute_result"
    }
   ],
   "source": [
    "num_coches"
   ]
  },
  {
   "cell_type": "code",
   "execution_count": 51,
   "metadata": {},
   "outputs": [
    {
     "data": {
      "text/plain": [
       "28"
      ]
     },
     "execution_count": 51,
     "metadata": {},
     "output_type": "execute_result"
    }
   ],
   "source": [
    "num_coches +=  coches_entran \n",
    "num_coches"
   ]
  },
  {
   "cell_type": "code",
   "execution_count": 52,
   "metadata": {},
   "outputs": [
    {
     "data": {
      "text/plain": [
       "10"
      ]
     },
     "execution_count": 52,
     "metadata": {},
     "output_type": "execute_result"
    }
   ],
   "source": [
    "num_coches -= coches_salen \n",
    "num_coches"
   ]
  },
  {
   "cell_type": "code",
   "execution_count": 19,
   "metadata": {},
   "outputs": [
    {
     "name": "stdout",
     "output_type": "stream",
     "text": [
      "10\n"
     ]
    }
   ],
   "source": [
    "print(num_coches)"
   ]
  },
  {
   "cell_type": "markdown",
   "metadata": {},
   "source": [
    "## Ejercicio 5"
   ]
  },
  {
   "cell_type": "code",
   "execution_count": 53,
   "metadata": {},
   "outputs": [],
   "source": [
    "carro = \"Tsuru\""
   ]
  },
  {
   "cell_type": "code",
   "execution_count": 54,
   "metadata": {},
   "outputs": [
    {
     "name": "stdout",
     "output_type": "stream",
     "text": [
      "Tengo un carro Tsuru\n"
     ]
    }
   ],
   "source": [
    "print(f\"Tengo un carro {carro}\")"
   ]
  },
  {
   "cell_type": "code",
   "execution_count": 55,
   "metadata": {},
   "outputs": [
    {
     "name": "stdout",
     "output_type": "stream",
     "text": [
      "Tengo un carro Tsuru\n"
     ]
    }
   ],
   "source": [
    "print(\"Tengo un carro \" + carro)"
   ]
  },
  {
   "cell_type": "code",
   "execution_count": 56,
   "metadata": {},
   "outputs": [
    {
     "name": "stdout",
     "output_type": "stream",
     "text": [
      "Hay un total de 10 coches en el estacionamiento\n"
     ]
    }
   ],
   "source": [
    "print(\"Hay un total de \" + str(num_coches) + \" coches en el estacionamiento\")"
   ]
  },
  {
   "cell_type": "code",
   "execution_count": 57,
   "metadata": {},
   "outputs": [
    {
     "name": "stdout",
     "output_type": "stream",
     "text": [
      "Yo soy un número float 1.6257898\n"
     ]
    }
   ],
   "source": [
    "num_x = 1.6257898\n",
    "print(\"Yo soy un número float\",num_x)"
   ]
  },
  {
   "cell_type": "code",
   "execution_count": 58,
   "metadata": {},
   "outputs": [
    {
     "name": "stdout",
     "output_type": "stream",
     "text": [
      "Y yo soy un número integer 1\n"
     ]
    }
   ],
   "source": [
    "print(\"Y yo soy un número integer\",int(num_x))"
   ]
  },
  {
   "cell_type": "code",
   "execution_count": 65,
   "metadata": {},
   "outputs": [
    {
     "name": "stdout",
     "output_type": "stream",
     "text": [
      "Mientras que yo soy el número float redondeado a dos decimales 1.63\n"
     ]
    }
   ],
   "source": [
    "print(\"Mientras que yo soy el número float redondeado a dos decimales\",round(num_x,2))"
   ]
  },
  {
   "cell_type": "code",
   "execution_count": 6,
   "metadata": {},
   "outputs": [
    {
     "name": "stdout",
     "output_type": "stream",
     "text": [
      "yo soy un número float: 1.6257898\n"
     ]
    }
   ],
   "source": [
    "print(f\"yo soy un número float: {num_x}\")"
   ]
  },
  {
   "cell_type": "markdown",
   "metadata": {},
   "source": [
    "## Ejercicio 6: Strings"
   ]
  },
  {
   "cell_type": "code",
   "execution_count": 66,
   "metadata": {},
   "outputs": [
    {
     "name": "stdout",
     "output_type": "stream",
     "text": [
      "Hola el número float es 1.6257898\n"
     ]
    }
   ],
   "source": [
    "texto1 = \"Hola el número float es \" + str(num_x)\n",
    "print(texto1)"
   ]
  },
  {
   "cell_type": "code",
   "execution_count": null,
   "metadata": {},
   "outputs": [],
   "source": []
  },
  {
   "cell_type": "code",
   "execution_count": 67,
   "metadata": {},
   "outputs": [
    {
     "name": "stdout",
     "output_type": "stream",
     "text": [
      "Puedes poner formato a tus strings\n"
     ]
    }
   ],
   "source": [
    "dar = \"poner\"\n",
    "a = \"a\"\n",
    "strings = \"strings\"\n",
    "\n",
    "print(f\"Puedes {dar} formato {a} tus {strings}\")"
   ]
  },
  {
   "cell_type": "code",
   "execution_count": 114,
   "metadata": {},
   "outputs": [
    {
     "name": "stdout",
     "output_type": "stream",
     "text": [
      "Puedes poner formato a tus strings\n"
     ]
    }
   ],
   "source": [
    "print(\"Puedes {} formato {} tus {}\".format(\"poner\",\"a\",\"strings\"))"
   ]
  },
  {
   "cell_type": "markdown",
   "metadata": {},
   "source": [
    "## Ejercicio 7"
   ]
  },
  {
   "cell_type": "code",
   "execution_count": 73,
   "metadata": {},
   "outputs": [
    {
     "name": "stdout",
     "output_type": "stream",
     "text": [
      "Me llamo FIN"
     ]
    }
   ],
   "source": [
    "print(\"Me\", \"llamo\", sep = \" SEPARADOR\", end = \" FIN\")"
   ]
  },
  {
   "cell_type": "code",
   "execution_count": 74,
   "metadata": {},
   "outputs": [
    {
     "name": "stdout",
     "output_type": "stream",
     "text": [
      "Mi nombre es Marcos"
     ]
    }
   ],
   "source": [
    "nombre = \"Marcos\"\n",
    "print (\"Mi nombre es \" , end = nombre)"
   ]
  },
  {
   "cell_type": "code",
   "execution_count": 75,
   "metadata": {},
   "outputs": [
    {
     "name": "stdout",
     "output_type": "stream",
     "text": [
      "No culpes a la noche.\n"
     ]
    }
   ],
   "source": [
    "print(\"No culpes a la {}.\".format('noche'))"
   ]
  },
  {
   "cell_type": "code",
   "execution_count": 129,
   "metadata": {},
   "outputs": [
    {
     "name": "stdout",
     "output_type": "stream",
     "text": [
      "Amor \n",
      "Amor \n",
      "Amor \n",
      "\n"
     ]
    }
   ],
   "source": [
    "print(\"Amor \\n\"*3)"
   ]
  },
  {
   "cell_type": "code",
   "execution_count": 77,
   "metadata": {
    "collapsed": true
   },
   "outputs": [
    {
     "name": "stdout",
     "output_type": "stream",
     "text": [
      "Te quiero Te quiero Te quiero Te quiero Te quiero Te quiero Te quiero Te quiero Te quiero Te quiero Te quiero Te quiero Te quiero Te quiero Te quiero Te quiero Te quiero Te quiero Te quiero Te quiero Te quiero Te quiero Te quiero Te quiero Te quiero Te quiero Te quiero Te quiero Te quiero Te quiero Te quiero Te quiero Te quiero Te quiero Te quiero Te quiero Te quiero Te quiero Te quiero Te quiero Te quiero Te quiero Te quiero Te quiero Te quiero Te quiero Te quiero Te quiero Te quiero Te quiero Te quiero Te quiero Te quiero Te quiero Te quiero Te quiero Te quiero Te quiero Te quiero Te quiero Te quiero Te quiero Te quiero Te quiero Te quiero Te quiero Te quiero Te quiero Te quiero Te quiero Te quiero Te quiero Te quiero Te quiero Te quiero Te quiero Te quiero Te quiero Te quiero Te quiero Te quiero Te quiero Te quiero Te quiero Te quiero Te quiero Te quiero Te quiero Te quiero Te quiero Te quiero Te quiero Te quiero Te quiero Te quiero Te quiero Te quiero Te quiero Te quiero Te quiero Te quiero Te quiero Te quiero Te quiero Te quiero Te quiero Te quiero Te quiero Te quiero Te quiero Te quiero Te quiero Te quiero Te quiero Te quiero Te quiero Te quiero Te quiero Te quiero Te quiero Te quiero Te quiero Te quiero Te quiero Te quiero Te quiero Te quiero Te quiero Te quiero Te quiero Te quiero Te quiero Te quiero Te quiero Te quiero Te quiero Te quiero Te quiero Te quiero Te quiero Te quiero Te quiero Te quiero Te quiero Te quiero Te quiero Te quiero Te quiero Te quiero Te quiero Te quiero Te quiero Te quiero Te quiero Te quiero Te quiero Te quiero Te quiero Te quiero Te quiero Te quiero Te quiero Te quiero Te quiero Te quiero Te quiero Te quiero Te quiero Te quiero Te quiero Te quiero Te quiero Te quiero Te quiero Te quiero Te quiero Te quiero Te quiero Te quiero Te quiero Te quiero Te quiero Te quiero Te quiero Te quiero Te quiero Te quiero Te quiero Te quiero Te quiero Te quiero Te quiero Te quiero Te quiero Te quiero Te quiero Te quiero Te quiero Te quiero Te quiero Te quiero Te quiero Te quiero Te quiero Te quiero Te quiero Te quiero Te quiero Te quiero Te quiero Te quiero Te quiero Te quiero Te quiero Te quiero Te quiero Te quiero Te quiero Te quiero Te quiero Te quiero Te quiero Te quiero Te quiero Te quiero Te quiero Te quiero Te quiero Te quiero Te quiero Te quiero Te quiero Te quiero Te quiero Te quiero Te quiero Te quiero Te quiero Te quiero Te quiero Te quiero Te quiero Te quiero Te quiero Te quiero Te quiero Te quiero Te quiero Te quiero Te quiero Te quiero Te quiero Te quiero Te quiero Te quiero Te quiero Te quiero Te quiero Te quiero Te quiero Te quiero Te quiero Te quiero Te quiero Te quiero Te quiero Te quiero Te quiero Te quiero Te quiero Te quiero Te quiero Te quiero Te quiero Te quiero Te quiero Te quiero Te quiero Te quiero Te quiero Te quiero Te quiero Te quiero Te quiero Te quiero Te quiero Te quiero Te quiero Te quiero Te quiero Te quiero Te quiero Te quiero Te quiero Te quiero Te quiero Te quiero Te quiero Te quiero Te quiero Te quiero Te quiero Te quiero Te quiero Te quiero Te quiero Te quiero Te quiero Te quiero Te quiero Te quiero Te quiero Te quiero Te quiero Te quiero Te quiero Te quiero Te quiero Te quiero Te quiero Te quiero Te quiero Te quiero Te quiero Te quiero Te quiero Te quiero Te quiero Te quiero Te quiero Te quiero Te quiero Te quiero Te quiero Te quiero Te quiero Te quiero Te quiero Te quiero Te quiero Te quiero Te quiero Te quiero Te quiero Te quiero Te quiero Te quiero Te quiero Te quiero Te quiero Te quiero Te quiero Te quiero Te quiero Te quiero Te quiero Te quiero Te quiero Te quiero Te quiero Te quiero Te quiero Te quiero Te quiero Te quiero Te quiero Te quiero Te quiero Te quiero Te quiero Te quiero Te quiero Te quiero Te quiero Te quiero Te quiero Te quiero Te quiero Te quiero Te quiero Te quiero Te quiero Te quiero Te quiero Te quiero Te quiero Te quiero Te quiero Te quiero Te quiero Te quiero Te quiero Te quiero Te quiero Te quiero Te quiero Te quiero Te quiero Te quiero Te quiero Te quiero Te quiero Te quiero Te quiero Te quiero Te quiero Te quiero Te quiero Te quiero Te quiero Te quiero Te quiero Te quiero Te quiero Te quiero Te quiero Te quiero Te quiero Te quiero Te quiero Te quiero Te quiero Te quiero Te quiero Te quiero Te quiero Te quiero Te quiero Te quiero Te quiero Te quiero Te quiero Te quiero Te quiero Te quiero Te quiero Te quiero Te quiero Te quiero Te quiero Te quiero Te quiero Te quiero Te quiero Te quiero Te quiero Te quiero Te quiero Te quiero Te quiero Te quiero Te quiero Te quiero Te quiero Te quiero Te quiero Te quiero Te quiero Te quiero Te quiero Te quiero Te quiero Te quiero Te quiero Te quiero Te quiero Te quiero Te quiero Te quiero Te quiero Te quiero Te quiero Te quiero Te quiero Te quiero Te quiero Te quiero Te quiero Te quiero Te quiero Te quiero Te quiero Te quiero Te quiero Te quiero Te quiero Te quiero Te quiero Te quiero Te quiero Te quiero Te quiero Te quiero Te quiero Te quiero Te quiero Te quiero Te quiero Te quiero Te quiero Te quiero Te quiero Te quiero Te quiero Te quiero Te quiero Te quiero Te quiero Te quiero Te quiero Te quiero Te quiero Te quiero Te quiero Te quiero Te quiero Te quiero Te quiero Te quiero Te quiero Te quiero Te quiero Te quiero Te quiero Te quiero Te quiero Te quiero Te quiero Te quiero Te quiero Te quiero Te quiero Te quiero Te quiero Te quiero Te quiero Te quiero Te quiero Te quiero Te quiero Te quiero Te quiero Te quiero Te quiero Te quiero Te quiero Te quiero Te quiero Te quiero Te quiero Te quiero Te quiero Te quiero Te quiero Te quiero Te quiero Te quiero Te quiero Te quiero Te quiero Te quiero Te quiero Te quiero Te quiero Te quiero Te quiero Te quiero Te quiero Te quiero Te quiero Te quiero Te quiero Te quiero Te quiero Te quiero Te quiero Te quiero Te quiero Te quiero Te quiero Te quiero Te quiero Te quiero Te quiero Te quiero Te quiero Te quiero Te quiero Te quiero Te quiero Te quiero Te quiero Te quiero Te quiero Te quiero Te quiero Te quiero Te quiero Te quiero Te quiero Te quiero Te quiero Te quiero Te quiero Te quiero Te quiero Te quiero Te quiero Te quiero Te quiero Te quiero Te quiero Te quiero Te quiero Te quiero Te quiero Te quiero Te quiero Te quiero Te quiero Te quiero Te quiero Te quiero Te quiero Te quiero Te quiero Te quiero Te quiero Te quiero Te quiero Te quiero Te quiero Te quiero Te quiero Te quiero Te quiero Te quiero Te quiero Te quiero Te quiero Te quiero Te quiero Te quiero Te quiero Te quiero Te quiero Te quiero Te quiero Te quiero Te quiero Te quiero Te quiero Te quiero Te quiero Te quiero Te quiero Te quiero Te quiero Te quiero Te quiero Te quiero Te quiero Te quiero Te quiero Te quiero Te quiero Te quiero Te quiero Te quiero Te quiero Te quiero Te quiero Te quiero Te quiero Te quiero Te quiero Te quiero Te quiero Te quiero Te quiero Te quiero Te quiero Te quiero Te quiero Te quiero Te quiero Te quiero Te quiero Te quiero Te quiero Te quiero Te quiero Te quiero Te quiero Te quiero Te quiero Te quiero Te quiero Te quiero Te quiero Te quiero Te quiero Te quiero Te quiero Te quiero Te quiero Te quiero Te quiero Te quiero Te quiero Te quiero Te quiero Te quiero Te quiero Te quiero Te quiero Te quiero Te quiero Te quiero Te quiero Te quiero Te quiero Te quiero Te quiero Te quiero Te quiero Te quiero Te quiero Te quiero Te quiero Te quiero Te quiero Te quiero Te quiero Te quiero Te quiero Te quiero Te quiero Te quiero Te quiero Te quiero Te quiero Te quiero Te quiero Te quiero Te quiero Te quiero Te quiero Te quiero Te quiero Te quiero Te quiero Te quiero Te quiero Te quiero Te quiero Te quiero Te quiero Te quiero Te quiero Te quiero Te quiero Te quiero Te quiero Te quiero Te quiero Te quiero Te quiero Te quiero Te quiero Te quiero Te quiero Te quiero Te quiero Te quiero Te quiero Te quiero Te quiero Te quiero Te quiero Te quiero Te quiero Te quiero Te quiero Te quiero Te quiero Te quiero Te quiero Te quiero Te quiero Te quiero Te quiero Te quiero Te quiero Te quiero Te quiero Te quiero Te quiero Te quiero Te quiero Te quiero Te quiero Te quiero Te quiero Te quiero Te quiero Te quiero Te quiero Te quiero Te quiero Te quiero Te quiero Te quiero Te quiero Te quiero Te quiero Te quiero Te quiero Te quiero Te quiero Te quiero Te quiero Te quiero Te quiero Te quiero Te quiero Te quiero Te quiero Te quiero Te quiero Te quiero Te quiero Te quiero Te quiero Te quiero Te quiero Te quiero Te quiero Te quiero Te quiero Te quiero Te quiero Te quiero Te quiero Te quiero Te quiero Te quiero Te quiero Te quiero Te quiero Te quiero Te quiero Te quiero Te quiero Te quiero Te quiero Te quiero Te quiero Te quiero Te quiero Te quiero Te quiero Te quiero Te quiero Te quiero Te quiero Te quiero Te quiero Te quiero Te quiero Te quiero Te quiero Te quiero Te quiero Te quiero Te quiero Te quiero Te quiero Te quiero Te quiero Te quiero Te quiero Te quiero Te quiero Te quiero Te quiero Te quiero Te quiero Te quiero Te quiero Te quiero Te quiero Te quiero Te quiero Te quiero Te quiero Te quiero Te quiero Te quiero Te quiero Te quiero Te quiero Te quiero Te quiero Te quiero Te quiero Te quiero Te quiero Te quiero Te quiero Te quiero Te quiero Te quiero Te quiero Te quiero Te quiero Te quiero Te quiero Te quiero Te quiero Te quiero Te quiero Te quiero Te quiero Te quiero Te quiero Te quiero Te quiero Te quiero Te quiero Te quiero Te quiero Te quiero Te quiero Te quiero Te quiero Te quiero Te quiero Te quiero Te quiero Te quiero Te quiero Te quiero Te quiero Te quiero Te quiero Te quiero Te quiero Te quiero Te quiero Te quiero Te quiero Te quiero Te quiero Te quiero Te quiero Te quiero Te quiero Te quiero Te quiero Te quiero Te quiero Te quiero Te quiero Te quiero Te quiero Te quiero Te quiero Te quiero Te quiero Te quiero Te quiero Te quiero Te quiero Te quiero Te quiero Te quiero Te quiero Te quiero Te quiero Te quiero Te quiero Te quiero Te quiero Te quiero Te quiero Te quiero Te quiero Te quiero Te quiero Te quiero Te quiero Te quiero Te quiero Te quiero Te quiero Te quiero Te quiero Te quiero Te quiero Te quiero Te quiero Te quiero Te quiero Te quiero Te quiero Te quiero Te quiero Te quiero Te quiero Te quiero Te quiero Te quiero Te quiero Te quiero Te quiero Te quiero Te quiero Te quiero Te quiero Te quiero Te quiero Te quiero Te quiero Te quiero Te quiero Te quiero Te quiero Te quiero Te quiero Te quiero Te quiero Te quiero Te quiero Te quiero Te quiero Te quiero Te quiero Te quiero Te quiero Te quiero Te quiero Te quiero Te quiero Te quiero Te quiero Te quiero Te quiero Te quiero Te quiero Te quiero Te quiero Te quiero Te quiero Te quiero Te quiero Te quiero Te quiero Te quiero Te quiero Te quiero Te quiero Te quiero Te quiero Te quiero Te quiero Te quiero Te quiero Te quiero Te quiero Te quiero Te quiero Te quiero Te quiero Te quiero Te quiero Te quiero Te quiero Te quiero Te quiero Te quiero Te quiero Te quiero Te quiero Te quiero Te quiero Te quiero Te quiero Te quiero Te quiero Te quiero Te quiero Te quiero Te quiero Te quiero Te quiero Te quiero Te quiero Te quiero Te quiero Te quiero Te quiero Te quiero Te quiero Te quiero Te quiero Te quiero Te quiero Te quiero Te quiero Te quiero Te quiero Te quiero Te quiero Te quiero Te quiero Te quiero Te quiero Te quiero Te quiero Te quiero Te quiero Te quiero Te quiero Te quiero Te quiero Te quiero Te quiero Te quiero Te quiero Te quiero Te quiero Te quiero Te quiero Te quiero Te quiero Te quiero Te quiero Te quiero Te quiero Te quiero Te quiero Te quiero Te quiero Te quiero Te quiero Te quiero Te quiero Te quiero Te quiero Te quiero Te quiero Te quiero Te quiero Te quiero Te quiero Te quiero Te quiero Te quiero Te quiero Te quiero Te quiero Te quiero Te quiero Te quiero Te quiero Te quiero Te quiero Te quiero Te quiero Te quiero Te quiero Te quiero Te quiero Te quiero Te quiero Te quiero Te quiero Te quiero Te quiero Te quiero Te quiero Te quiero Te quiero Te quiero Te quiero Te quiero Te quiero Te quiero Te quiero Te quiero Te quiero Te quiero Te quiero Te quiero Te quiero Te quiero Te quiero Te quiero Te quiero Te quiero Te quiero Te quiero Te quiero Te quiero Te quiero Te quiero Te quiero Te quiero Te quiero Te quiero Te quiero Te quiero Te quiero Te quiero Te quiero Te quiero Te quiero Te quiero Te quiero Te quiero Te quiero Te quiero Te quiero Te quiero Te quiero Te quiero Te quiero Te quiero Te quiero Te quiero Te quiero Te quiero Te quiero Te quiero Te quiero Te quiero Te quiero Te quiero Te quiero Te quiero Te quiero Te quiero Te quiero Te quiero Te quiero Te quiero Te quiero Te quiero Te quiero Te quiero Te quiero Te quiero Te quiero Te quiero Te quiero Te quiero Te quiero Te quiero Te quiero Te quiero Te quiero Te quiero Te quiero Te quiero Te quiero Te quiero Te quiero Te quiero Te quiero Te quiero Te quiero Te quiero Te quiero Te quiero Te quiero Te quiero Te quiero Te quiero Te quiero Te quiero Te quiero Te quiero Te quiero Te quiero Te quiero Te quiero Te quiero Te quiero Te quiero Te quiero Te quiero Te quiero Te quiero Te quiero Te quiero Te quiero Te quiero Te quiero Te quiero Te quiero Te quiero Te quiero Te quiero Te quiero Te quiero Te quiero Te quiero Te quiero Te quiero Te quiero Te quiero Te quiero Te quiero Te quiero Te quiero Te quiero Te quiero Te quiero Te quiero Te quiero Te quiero Te quiero Te quiero Te quiero Te quiero Te quiero Te quiero Te quiero Te quiero Te quiero Te quiero Te quiero Te quiero Te quiero Te quiero Te quiero Te quiero Te quiero Te quiero Te quiero Te quiero Te quiero Te quiero Te quiero Te quiero Te quiero Te quiero Te quiero Te quiero Te quiero Te quiero Te quiero Te quiero Te quiero Te quiero Te quiero Te quiero Te quiero Te quiero Te quiero Te quiero Te quiero Te quiero Te quiero Te quiero Te quiero Te quiero Te quiero Te quiero Te quiero Te quiero Te quiero Te quiero Te quiero Te quiero Te quiero Te quiero Te quiero Te quiero Te quiero Te quiero Te quiero Te quiero Te quiero Te quiero Te quiero Te quiero Te quiero Te quiero Te quiero Te quiero Te quiero Te quiero Te quiero Te quiero Te quiero Te quiero Te quiero Te quiero Te quiero Te quiero Te quiero Te quiero Te quiero Te quiero Te quiero Te quiero Te quiero Te quiero Te quiero Te quiero Te quiero Te quiero Te quiero Te quiero Te quiero Te quiero Te quiero Te quiero Te quiero Te quiero Te quiero Te quiero Te quiero Te quiero Te quiero Te quiero Te quiero Te quiero Te quiero Te quiero Te quiero Te quiero Te quiero Te quiero Te quiero Te quiero Te quiero Te quiero Te quiero Te quiero Te quiero Te quiero Te quiero Te quiero Te quiero Te quiero Te quiero Te quiero Te quiero Te quiero Te quiero Te quiero Te quiero Te quiero Te quiero Te quiero Te quiero Te quiero Te quiero Te quiero Te quiero Te quiero Te quiero Te quiero Te quiero Te quiero Te quiero Te quiero Te quiero Te quiero Te quiero Te quiero Te quiero Te quiero Te quiero Te quiero Te quiero Te quiero Te quiero Te quiero Te quiero Te quiero Te quiero Te quiero Te quiero Te quiero Te quiero Te quiero Te quiero Te quiero Te quiero Te quiero Te quiero Te quiero Te quiero Te quiero Te quiero Te quiero Te quiero Te quiero Te quiero Te quiero Te quiero Te quiero Te quiero Te quiero Te quiero Te quiero Te quiero Te quiero Te quiero Te quiero Te quiero Te quiero Te quiero Te quiero Te quiero Te quiero Te quiero Te quiero Te quiero Te quiero Te quiero Te quiero Te quiero Te quiero Te quiero Te quiero Te quiero Te quiero Te quiero Te quiero Te quiero Te quiero Te quiero Te quiero Te quiero Te quiero Te quiero Te quiero Te quiero Te quiero Te quiero Te quiero Te quiero Te quiero Te quiero Te quiero Te quiero Te quiero Te quiero Te quiero Te quiero Te quiero Te quiero Te quiero Te quiero Te quiero Te quiero Te quiero Te quiero Te quiero Te quiero Te quiero Te quiero Te quiero Te quiero Te quiero Te quiero Te quiero Te quiero Te quiero Te quiero Te quiero Te quiero Te quiero Te quiero Te quiero Te quiero Te quiero Te quiero Te quiero Te quiero Te quiero Te quiero Te quiero Te quiero Te quiero Te quiero Te quiero Te quiero Te quiero Te quiero Te quiero Te quiero Te quiero Te quiero Te quiero Te quiero Te quiero Te quiero Te quiero Te quiero Te quiero Te quiero Te quiero Te quiero Te quiero Te quiero Te quiero Te quiero Te quiero Te quiero Te quiero Te quiero Te quiero Te quiero Te quiero Te quiero Te quiero Te quiero Te quiero Te quiero Te quiero Te quiero Te quiero Te quiero Te quiero Te quiero Te quiero Te quiero Te quiero Te quiero Te quiero Te quiero Te quiero Te quiero Te quiero Te quiero Te quiero Te quiero Te quiero Te quiero Te quiero Te quiero Te quiero Te quiero Te quiero Te quiero Te quiero Te quiero Te quiero Te quiero Te quiero Te quiero Te quiero Te quiero Te quiero Te quiero Te quiero Te quiero Te quiero Te quiero Te quiero Te quiero Te quiero Te quiero Te quiero Te quiero Te quiero Te quiero Te quiero Te quiero Te quiero Te quiero Te quiero Te quiero Te quiero Te quiero Te quiero Te quiero Te quiero Te quiero Te quiero Te quiero Te quiero Te quiero Te quiero Te quiero Te quiero Te quiero Te quiero Te quiero Te quiero Te quiero Te quiero Te quiero Te quiero Te quiero Te quiero Te quiero Te quiero Te quiero Te quiero Te quiero Te quiero Te quiero Te quiero Te quiero Te quiero Te quiero Te quiero Te quiero Te quiero Te quiero Te quiero Te quiero Te quiero Te quiero Te quiero Te quiero Te quiero Te quiero Te quiero Te quiero Te quiero Te quiero Te quiero Te quiero Te quiero Te quiero Te quiero Te quiero Te quiero Te quiero Te quiero Te quiero Te quiero Te quiero Te quiero Te quiero Te quiero Te quiero Te quiero Te quiero Te quiero Te quiero Te quiero Te quiero Te quiero Te quiero Te quiero Te quiero Te quiero Te quiero Te quiero Te quiero Te quiero Te quiero Te quiero Te quiero Te quiero Te quiero Te quiero Te quiero Te quiero Te quiero Te quiero Te quiero Te quiero Te quiero Te quiero Te quiero Te quiero Te quiero Te quiero Te quiero Te quiero Te quiero Te quiero Te quiero Te quiero Te quiero Te quiero Te quiero Te quiero Te quiero Te quiero Te quiero Te quiero Te quiero Te quiero Te quiero Te quiero Te quiero Te quiero Te quiero Te quiero Te quiero Te quiero Te quiero Te quiero Te quiero Te quiero Te quiero Te quiero Te quiero Te quiero Te quiero Te quiero Te quiero Te quiero Te quiero Te quiero Te quiero Te quiero Te quiero Te quiero Te quiero Te quiero Te quiero Te quiero Te quiero Te quiero Te quiero Te quiero Te quiero Te quiero Te quiero Te quiero Te quiero Te quiero Te quiero Te quiero Te quiero Te quiero Te quiero Te quiero Te quiero Te quiero Te quiero Te quiero Te quiero Te quiero Te quiero Te quiero Te quiero Te quiero Te quiero Te quiero Te quiero Te quiero Te quiero Te quiero Te quiero Te quiero Te quiero Te quiero Te quiero Te quiero Te quiero Te quiero Te quiero Te quiero Te quiero Te quiero Te quiero Te quiero Te quiero Te quiero Te quiero Te quiero Te quiero Te quiero Te quiero Te quiero Te quiero Te quiero Te quiero Te quiero Te quiero Te quiero Te quiero Te quiero Te quiero Te quiero Te quiero Te quiero Te quiero Te quiero Te quiero Te quiero Te quiero Te quiero Te quiero Te quiero Te quiero Te quiero Te quiero Te quiero Te quiero Te quiero Te quiero Te quiero Te quiero Te quiero Te quiero Te quiero Te quiero Te quiero Te quiero Te quiero Te quiero Te quiero Te quiero Te quiero Te quiero Te quiero Te quiero Te quiero Te quiero Te quiero Te quiero Te quiero Te quiero Te quiero Te quiero Te quiero Te quiero Te quiero Te quiero Te quiero Te quiero Te quiero Te quiero Te quiero Te quiero Te quiero Te quiero Te quiero Te quiero Te quiero Te quiero Te quiero Te quiero Te quiero Te quiero Te quiero Te quiero Te quiero Te quiero Te quiero Te quiero Te quiero Te quiero Te quiero Te quiero Te quiero Te quiero Te quiero Te quiero Te quiero Te quiero Te quiero Te quiero Te quiero Te quiero Te quiero Te quiero Te quiero Te quiero Te quiero Te quiero Te quiero Te quiero Te quiero Te quiero Te quiero Te quiero Te quiero Te quiero Te quiero Te quiero Te quiero Te quiero Te quiero Te quiero Te quiero Te quiero Te quiero Te quiero Te quiero Te quiero Te quiero Te quiero Te quiero Te quiero Te quiero Te quiero Te quiero Te quiero Te quiero Te quiero Te quiero Te quiero Te quiero Te quiero Te quiero Te quiero Te quiero Te quiero Te quiero Te quiero Te quiero Te quiero Te quiero Te quiero Te quiero Te quiero Te quiero Te quiero Te quiero Te quiero Te quiero Te quiero Te quiero Te quiero Te quiero Te quiero Te quiero Te quiero Te quiero Te quiero Te quiero Te quiero Te quiero Te quiero Te quiero Te quiero Te quiero Te quiero Te quiero Te quiero Te quiero Te quiero Te quiero Te quiero Te quiero Te quiero Te quiero Te quiero Te quiero Te quiero Te quiero Te quiero Te quiero Te quiero Te quiero Te quiero Te quiero Te quiero Te quiero Te quiero Te quiero Te quiero Te quiero Te quiero Te quiero Te quiero Te quiero Te quiero Te quiero Te quiero Te quiero Te quiero Te quiero Te quiero Te quiero Te quiero Te quiero Te quiero Te quiero Te quiero Te quiero Te quiero Te quiero Te quiero Te quiero Te quiero Te quiero Te quiero Te quiero Te quiero Te quiero Te quiero Te quiero Te quiero Te quiero Te quiero Te quiero Te quiero Te quiero Te quiero Te quiero Te quiero Te quiero Te quiero Te quiero Te quiero Te quiero Te quiero Te quiero Te quiero Te quiero Te quiero Te quiero Te quiero Te quiero Te quiero Te quiero Te quiero Te quiero Te quiero Te quiero Te quiero Te quiero Te quiero Te quiero Te quiero Te quiero Te quiero Te quiero Te quiero Te quiero Te quiero Te quiero Te quiero Te quiero Te quiero Te quiero Te quiero Te quiero Te quiero Te quiero Te quiero Te quiero Te quiero Te quiero Te quiero Te quiero Te quiero Te quiero Te quiero Te quiero Te quiero Te quiero Te quiero Te quiero Te quiero Te quiero Te quiero Te quiero Te quiero Te quiero Te quiero Te quiero Te quiero Te quiero Te quiero Te quiero Te quiero Te quiero Te quiero Te quiero Te quiero Te quiero Te quiero Te quiero Te quiero Te quiero Te quiero Te quiero Te quiero Te quiero Te quiero Te quiero Te quiero Te quiero Te quiero Te quiero Te quiero Te quiero Te quiero Te quiero Te quiero Te quiero Te quiero Te quiero Te quiero Te quiero Te quiero Te quiero Te quiero Te quiero Te quiero Te quiero Te quiero Te quiero Te quiero Te quiero Te quiero Te quiero Te quiero Te quiero Te quiero Te quiero Te quiero Te quiero Te quiero Te quiero Te quiero Te quiero Te quiero Te quiero Te quiero Te quiero Te quiero Te quiero Te quiero Te quiero Te quiero Te quiero Te quiero Te quiero Te quiero Te quiero Te quiero Te quiero Te quiero Te quiero Te quiero Te quiero Te quiero Te quiero Te quiero Te quiero Te quiero Te quiero Te quiero Te quiero Te quiero Te quiero Te quiero Te quiero Te quiero Te quiero Te quiero Te quiero Te quiero Te quiero Te quiero Te quiero Te quiero Te quiero Te quiero Te quiero Te quiero Te quiero Te quiero Te quiero Te quiero Te quiero Te quiero Te quiero Te quiero Te quiero Te quiero Te quiero Te quiero Te quiero Te quiero Te quiero Te quiero Te quiero Te quiero Te quiero Te quiero Te quiero Te quiero Te quiero Te quiero Te quiero Te quiero Te quiero Te quiero Te quiero Te quiero Te quiero Te quiero Te quiero Te quiero Te quiero Te quiero Te quiero Te quiero Te quiero Te quiero Te quiero Te quiero Te quiero Te quiero Te quiero Te quiero Te quiero Te quiero Te quiero Te quiero Te quiero Te quiero Te quiero Te quiero Te quiero Te quiero Te quiero Te quiero Te quiero Te quiero Te quiero Te quiero Te quiero Te quiero Te quiero Te quiero Te quiero Te quiero Te quiero Te quiero Te quiero Te quiero Te quiero Te quiero Te quiero Te quiero Te quiero Te quiero Te quiero Te quiero Te quiero Te quiero Te quiero Te quiero Te quiero Te quiero Te quiero Te quiero Te quiero Te quiero Te quiero Te quiero Te quiero Te quiero Te quiero Te quiero Te quiero Te quiero Te quiero Te quiero Te quiero Te quiero Te quiero Te quiero Te quiero Te quiero Te quiero Te quiero Te quiero Te quiero Te quiero Te quiero Te quiero Te quiero Te quiero Te quiero Te quiero Te quiero Te quiero Te quiero Te quiero Te quiero Te quiero Te quiero Te quiero Te quiero Te quiero Te quiero Te quiero Te quiero Te quiero Te quiero Te quiero Te quiero Te quiero Te quiero Te quiero Te quiero Te quiero Te quiero Te quiero Te quiero Te quiero Te quiero Te quiero Te quiero Te quiero Te quiero Te quiero Te quiero Te quiero Te quiero Te quiero Te quiero Te quiero Te quiero Te quiero Te quiero Te quiero Te quiero Te quiero Te quiero Te quiero Te quiero Te quiero Te quiero Te quiero Te quiero Te quiero Te quiero Te quiero Te quiero Te quiero Te quiero Te quiero Te quiero Te quiero Te quiero Te quiero Te quiero Te quiero Te quiero Te quiero Te quiero Te quiero Te quiero Te quiero Te quiero Te quiero Te quiero Te quiero Te quiero Te quiero Te quiero Te quiero Te quiero Te quiero Te quiero Te quiero Te quiero Te quiero Te quiero Te quiero Te quiero Te quiero Te quiero Te quiero Te quiero Te quiero Te quiero Te quiero Te quiero Te quiero Te quiero Te quiero Te quiero Te quiero Te quiero Te quiero Te quiero Te quiero Te quiero Te quiero Te quiero Te quiero Te quiero Te quiero Te quiero Te quiero Te quiero Te quiero Te quiero Te quiero Te quiero Te quiero Te quiero Te quiero Te quiero Te quiero Te quiero Te quiero Te quiero Te quiero Te quiero Te quiero Te quiero Te quiero Te quiero Te quiero Te quiero Te quiero Te quiero Te quiero Te quiero Te quiero Te quiero Te quiero Te quiero Te quiero Te quiero Te quiero Te quiero Te quiero Te quiero Te quiero Te quiero Te quiero Te quiero Te quiero Te quiero Te quiero Te quiero Te quiero Te quiero Te quiero Te quiero Te quiero Te quiero Te quiero Te quiero Te quiero Te quiero Te quiero Te quiero Te quiero Te quiero Te quiero Te quiero Te quiero Te quiero Te quiero Te quiero Te quiero Te quiero Te quiero Te quiero Te quiero Te quiero Te quiero Te quiero Te quiero Te quiero Te quiero Te quiero Te quiero Te quiero Te quiero Te quiero Te quiero Te quiero Te quiero Te quiero Te quiero Te quiero Te quiero Te quiero Te quiero Te quiero Te quiero Te quiero Te quiero Te quiero Te quiero Te quiero Te quiero Te quiero Te quiero Te quiero Te quiero Te quiero Te quiero Te quiero Te quiero Te quiero Te quiero Te quiero Te quiero Te quiero Te quiero Te quiero Te quiero Te quiero Te quiero Te quiero Te quiero Te quiero Te quiero Te quiero Te quiero Te quiero Te quiero Te quiero Te quiero Te quiero Te quiero Te quiero Te quiero Te quiero Te quiero Te quiero Te quiero Te quiero Te quiero Te quiero Te quiero Te quiero Te quiero Te quiero Te quiero Te quiero Te quiero Te quiero Te quiero Te quiero Te quiero Te quiero Te quiero Te quiero Te quiero Te quiero Te quiero Te quiero Te quiero Te quiero Te quiero Te quiero Te quiero Te quiero Te quiero Te quiero Te quiero Te quiero Te quiero Te quiero Te quiero Te quiero Te quiero Te quiero Te quiero Te quiero Te quiero Te quiero Te quiero Te quiero Te quiero Te quiero Te quiero Te quiero Te quiero Te quiero Te quiero Te quiero Te quiero Te quiero Te quiero Te quiero Te quiero Te quiero Te quiero Te quiero Te quiero Te quiero Te quiero Te quiero Te quiero Te quiero Te quiero Te quiero Te quiero Te quiero Te quiero Te quiero Te quiero Te quiero Te quiero Te quiero Te quiero Te quiero Te quiero Te quiero Te quiero Te quiero Te quiero Te quiero Te quiero Te quiero Te quiero Te quiero Te quiero Te quiero Te quiero Te quiero Te quiero Te quiero Te quiero Te quiero Te quiero Te quiero Te quiero Te quiero Te quiero Te quiero Te quiero Te quiero Te quiero Te quiero Te quiero Te quiero Te quiero Te quiero Te quiero Te quiero Te quiero Te quiero Te quiero Te quiero Te quiero Te quiero Te quiero Te quiero Te quiero Te quiero Te quiero Te quiero Te quiero Te quiero Te quiero Te quiero Te quiero Te quiero Te quiero Te quiero Te quiero Te quiero Te quiero Te quiero Te quiero Te quiero Te quiero Te quiero Te quiero Te quiero Te quiero Te quiero Te quiero Te quiero Te quiero Te quiero Te quiero Te quiero Te quiero Te quiero Te quiero Te quiero Te quiero Te quiero Te quiero Te quiero Te quiero Te quiero Te quiero Te quiero Te quiero Te quiero Te quiero Te quiero Te quiero Te quiero Te quiero Te quiero Te quiero Te quiero Te quiero Te quiero Te quiero Te quiero Te quiero Te quiero Te quiero Te quiero Te quiero Te quiero Te quiero Te quiero Te quiero Te quiero Te quiero Te quiero Te quiero Te quiero Te quiero Te quiero Te quiero Te quiero Te quiero Te quiero Te quiero Te quiero Te quiero Te quiero Te quiero Te quiero Te quiero Te quiero Te quiero Te quiero Te quiero Te quiero Te quiero Te quiero Te quiero Te quiero Te quiero Te quiero Te quiero Te quiero Te quiero Te quiero Te quiero Te quiero Te quiero Te quiero Te quiero Te quiero Te quiero Te quiero Te quiero Te quiero Te quiero Te quiero Te quiero Te quiero Te quiero Te quiero Te quiero Te quiero Te quiero Te quiero Te quiero Te quiero Te quiero Te quiero Te quiero Te quiero Te quiero Te quiero Te quiero Te quiero Te quiero Te quiero Te quiero Te quiero Te quiero Te quiero Te quiero Te quiero Te quiero Te quiero Te quiero Te quiero Te quiero Te quiero Te quiero Te quiero Te quiero Te quiero Te quiero Te quiero Te quiero Te quiero Te quiero Te quiero Te quiero Te quiero Te quiero Te quiero Te quiero Te quiero Te quiero Te quiero Te quiero Te quiero Te quiero Te quiero Te quiero Te quiero Te quiero Te quiero Te quiero Te quiero Te quiero Te quiero Te quiero Te quiero Te quiero Te quiero Te quiero Te quiero Te quiero Te quiero Te quiero Te quiero Te quiero Te quiero Te quiero Te quiero Te quiero Te quiero Te quiero Te quiero Te quiero Te quiero Te quiero Te quiero Te quiero Te quiero Te quiero Te quiero Te quiero Te quiero Te quiero Te quiero Te quiero Te quiero Te quiero Te quiero Te quiero Te quiero Te quiero Te quiero Te quiero Te quiero Te quiero Te quiero Te quiero Te quiero Te quiero Te quiero Te quiero Te quiero Te quiero Te quiero Te quiero Te quiero Te quiero Te quiero Te quiero Te quiero Te quiero Te quiero Te quiero Te quiero Te quiero Te quiero Te quiero Te quiero Te quiero Te quiero Te quiero Te quiero Te quiero Te quiero Te quiero Te quiero Te quiero Te quiero Te quiero Te quiero Te quiero Te quiero Te quiero Te quiero Te quiero Te quiero Te quiero Te quiero Te quiero Te quiero Te quiero Te quiero Te quiero Te quiero Te quiero Te quiero Te quiero Te quiero Te quiero Te quiero Te quiero Te quiero Te quiero Te quiero Te quiero Te quiero Te quiero Te quiero Te quiero Te quiero Te quiero Te quiero Te quiero Te quiero Te quiero Te quiero Te quiero Te quiero Te quiero Te quiero Te quiero Te quiero Te quiero Te quiero Te quiero Te quiero Te quiero Te quiero Te quiero Te quiero Te quiero Te quiero Te quiero Te quiero Te quiero Te quiero Te quiero Te quiero Te quiero Te quiero Te quiero Te quiero Te quiero Te quiero Te quiero Te quiero Te quiero Te quiero Te quiero Te quiero Te quiero Te quiero Te quiero Te quiero Te quiero Te quiero Te quiero Te quiero Te quiero Te quiero Te quiero Te quiero Te quiero Te quiero Te quiero Te quiero Te quiero Te quiero Te quiero Te quiero Te quiero Te quiero Te quiero Te quiero Te quiero Te quiero Te quiero Te quiero Te quiero Te quiero Te quiero Te quiero Te quiero Te quiero Te quiero Te quiero Te quiero Te quiero Te quiero Te quiero Te quiero Te quiero Te quiero Te quiero Te quiero Te quiero Te quiero Te quiero Te quiero Te quiero Te quiero Te quiero Te quiero Te quiero Te quiero Te quiero Te quiero Te quiero Te quiero Te quiero Te quiero Te quiero Te quiero Te quiero Te quiero Te quiero Te quiero Te quiero Te quiero Te quiero Te quiero Te quiero Te quiero Te quiero Te quiero Te quiero Te quiero Te quiero Te quiero Te quiero Te quiero Te quiero Te quiero Te quiero Te quiero Te quiero Te quiero Te quiero Te quiero Te quiero Te quiero Te quiero Te quiero Te quiero Te quiero Te quiero Te quiero Te quiero Te quiero Te quiero Te quiero Te quiero Te quiero Te quiero Te quiero Te quiero Te quiero Te quiero Te quiero Te quiero Te quiero Te quiero Te quiero Te quiero Te quiero Te quiero Te quiero Te quiero Te quiero Te quiero Te quiero Te quiero Te quiero Te quiero Te quiero Te quiero Te quiero Te quiero Te quiero Te quiero Te quiero Te quiero Te quiero Te quiero Te quiero Te quiero Te quiero Te quiero Te quiero Te quiero Te quiero Te quiero Te quiero Te quiero Te quiero Te quiero Te quiero Te quiero Te quiero Te quiero Te quiero Te quiero Te quiero Te quiero Te quiero Te quiero Te quiero Te quiero Te quiero Te quiero Te quiero Te quiero Te quiero Te quiero Te quiero Te quiero Te quiero Te quiero Te quiero Te quiero Te quiero Te quiero Te quiero Te quiero Te quiero Te quiero Te quiero Te quiero Te quiero Te quiero Te quiero Te quiero Te quiero Te quiero Te quiero Te quiero Te quiero Te quiero Te quiero Te quiero Te quiero Te quiero Te quiero Te quiero Te quiero Te quiero Te quiero Te quiero Te quiero Te quiero Te quiero Te quiero Te quiero Te quiero Te quiero Te quiero Te quiero Te quiero Te quiero Te quiero Te quiero Te quiero Te quiero Te quiero Te quiero Te quiero Te quiero Te quiero Te quiero Te quiero Te quiero Te quiero Te quiero Te quiero Te quiero Te quiero Te quiero Te quiero Te quiero Te quiero Te quiero Te quiero Te quiero Te quiero Te quiero Te quiero Te quiero Te quiero Te quiero Te quiero Te quiero Te quiero Te quiero Te quiero Te quiero Te quiero Te quiero Te quiero Te quiero Te quiero Te quiero Te quiero Te quiero Te quiero Te quiero Te quiero Te quiero Te quiero Te quiero Te quiero Te quiero Te quiero Te quiero Te quiero Te quiero Te quiero Te quiero Te quiero Te quiero Te quiero Te quiero Te quiero Te quiero Te quiero Te quiero Te quiero Te quiero Te quiero Te quiero Te quiero Te quiero Te quiero Te quiero Te quiero Te quiero Te quiero Te quiero Te quiero Te quiero Te quiero Te quiero Te quiero Te quiero Te quiero Te quiero Te quiero Te quiero Te quiero Te quiero Te quiero Te quiero Te quiero Te quiero Te quiero Te quiero Te quiero Te quiero Te quiero Te quiero Te quiero Te quiero Te quiero Te quiero Te quiero Te quiero Te quiero Te quiero Te quiero Te quiero Te quiero Te quiero Te quiero Te quiero Te quiero Te quiero Te quiero Te quiero Te quiero Te quiero Te quiero Te quiero Te quiero Te quiero Te quiero Te quiero Te quiero Te quiero Te quiero Te quiero Te quiero Te quiero Te quiero Te quiero Te quiero Te quiero Te quiero Te quiero Te quiero Te quiero Te quiero Te quiero Te quiero Te quiero Te quiero Te quiero Te quiero Te quiero Te quiero Te quiero Te quiero Te quiero Te quiero Te quiero Te quiero Te quiero Te quiero Te quiero Te quiero Te quiero Te quiero Te quiero Te quiero Te quiero Te quiero Te quiero Te quiero Te quiero Te quiero Te quiero Te quiero Te quiero Te quiero Te quiero Te quiero Te quiero Te quiero Te quiero Te quiero Te quiero Te quiero Te quiero Te quiero Te quiero Te quiero Te quiero Te quiero Te quiero Te quiero Te quiero Te quiero Te quiero Te quiero Te quiero Te quiero Te quiero Te quiero Te quiero Te quiero Te quiero Te quiero Te quiero Te quiero Te quiero Te quiero Te quiero Te quiero Te quiero Te quiero Te quiero Te quiero Te quiero Te quiero Te quiero Te quiero Te quiero Te quiero Te quiero Te quiero Te quiero Te quiero Te quiero Te quiero Te quiero Te quiero Te quiero Te quiero Te quiero Te quiero Te quiero Te quiero Te quiero Te quiero Te quiero Te quiero Te quiero Te quiero Te quiero Te quiero Te quiero Te quiero Te quiero Te quiero Te quiero Te quiero Te quiero Te quiero Te quiero Te quiero Te quiero Te quiero Te quiero Te quiero Te quiero Te quiero Te quiero Te quiero Te quiero Te quiero Te quiero Te quiero Te quiero Te quiero Te quiero Te quiero Te quiero Te quiero Te quiero Te quiero Te quiero Te quiero Te quiero Te quiero Te quiero Te quiero Te quiero Te quiero Te quiero Te quiero Te quiero Te quiero Te quiero Te quiero Te quiero Te quiero Te quiero Te quiero Te quiero Te quiero Te quiero Te quiero Te quiero Te quiero Te quiero Te quiero Te quiero Te quiero Te quiero Te quiero Te quiero Te quiero Te quiero Te quiero Te quiero Te quiero Te quiero Te quiero Te quiero Te quiero Te quiero Te quiero Te quiero Te quiero Te quiero Te quiero Te quiero Te quiero Te quiero Te quiero Te quiero Te quiero Te quiero Te quiero Te quiero Te quiero Te quiero Te quiero Te quiero Te quiero Te quiero Te quiero Te quiero Te quiero Te quiero Te quiero Te quiero Te quiero Te quiero Te quiero Te quiero Te quiero Te quiero Te quiero Te quiero Te quiero Te quiero Te quiero Te quiero Te quiero Te quiero Te quiero Te quiero Te quiero Te quiero Te quiero Te quiero Te quiero Te quiero Te quiero Te quiero Te quiero Te quiero Te quiero Te quiero Te quiero Te quiero Te quiero Te quiero Te quiero Te quiero Te quiero Te quiero Te quiero Te quiero Te quiero Te quiero Te quiero Te quiero Te quiero Te quiero Te quiero Te quiero Te quiero Te quiero Te quiero Te quiero Te quiero Te quiero Te quiero Te quiero Te quiero Te quiero Te quiero Te quiero Te quiero Te quiero Te quiero Te quiero Te quiero Te quiero Te quiero Te quiero Te quiero Te quiero Te quiero Te quiero Te quiero Te quiero Te quiero Te quiero Te quiero Te quiero Te quiero Te quiero Te quiero Te quiero Te quiero Te quiero Te quiero Te quiero Te quiero Te quiero Te quiero Te quiero Te quiero Te quiero Te quiero Te quiero Te quiero Te quiero Te quiero Te quiero Te quiero Te quiero Te quiero Te quiero Te quiero Te quiero Te quiero Te quiero Te quiero Te quiero Te quiero Te quiero Te quiero Te quiero Te quiero Te quiero Te quiero Te quiero Te quiero Te quiero Te quiero Te quiero Te quiero Te quiero Te quiero Te quiero Te quiero Te quiero Te quiero Te quiero Te quiero Te quiero Te quiero Te quiero Te quiero Te quiero Te quiero Te quiero Te quiero Te quiero Te quiero Te quiero Te quiero Te quiero Te quiero Te quiero Te quiero Te quiero Te quiero Te quiero Te quiero Te quiero Te quiero Te quiero Te quiero Te quiero Te quiero Te quiero Te quiero Te quiero Te quiero Te quiero Te quiero Te quiero Te quiero Te quiero Te quiero Te quiero Te quiero Te quiero Te quiero Te quiero Te quiero Te quiero Te quiero Te quiero Te quiero Te quiero Te quiero Te quiero Te quiero Te quiero Te quiero Te quiero Te quiero Te quiero Te quiero Te quiero Te quiero Te quiero Te quiero Te quiero Te quiero Te quiero Te quiero Te quiero Te quiero Te quiero Te quiero Te quiero Te quiero Te quiero Te quiero Te quiero Te quiero Te quiero Te quiero Te quiero Te quiero Te quiero Te quiero Te quiero Te quiero Te quiero Te quiero Te quiero Te quiero Te quiero Te quiero Te quiero Te quiero Te quiero Te quiero Te quiero Te quiero Te quiero Te quiero Te quiero Te quiero Te quiero Te quiero Te quiero Te quiero Te quiero Te quiero Te quiero Te quiero Te quiero Te quiero Te quiero Te quiero Te quiero Te quiero Te quiero Te quiero Te quiero Te quiero Te quiero Te quiero Te quiero Te quiero Te quiero Te quiero Te quiero Te quiero Te quiero Te quiero Te quiero Te quiero Te quiero Te quiero Te quiero Te quiero Te quiero Te quiero Te quiero Te quiero Te quiero Te quiero Te quiero Te quiero Te quiero Te quiero Te quiero Te quiero Te quiero Te quiero Te quiero Te quiero Te quiero Te quiero Te quiero Te quiero Te quiero Te quiero Te quiero Te quiero Te quiero Te quiero Te quiero Te quiero Te quiero Te quiero Te quiero Te quiero Te quiero Te quiero Te quiero Te quiero Te quiero Te quiero Te quiero Te quiero Te quiero Te quiero Te quiero Te quiero Te quiero Te quiero Te quiero Te quiero Te quiero Te quiero Te quiero Te quiero Te quiero Te quiero Te quiero Te quiero Te quiero Te quiero Te quiero Te quiero Te quiero Te quiero Te quiero Te quiero Te quiero Te quiero Te quiero Te quiero Te quiero Te quiero Te quiero Te quiero Te quiero Te quiero Te quiero Te quiero Te quiero Te quiero Te quiero Te quiero Te quiero Te quiero Te quiero Te quiero Te quiero Te quiero Te quiero Te quiero Te quiero Te quiero Te quiero Te quiero Te quiero Te quiero Te quiero Te quiero Te quiero Te quiero Te quiero Te quiero Te quiero Te quiero Te quiero Te quiero Te quiero Te quiero Te quiero Te quiero Te quiero Te quiero Te quiero Te quiero Te quiero Te quiero Te quiero Te quiero Te quiero Te quiero Te quiero Te quiero Te quiero Te quiero Te quiero Te quiero Te quiero Te quiero Te quiero Te quiero Te quiero Te quiero Te quiero Te quiero Te quiero Te quiero Te quiero Te quiero Te quiero Te quiero Te quiero Te quiero Te quiero Te quiero Te quiero Te quiero Te quiero Te quiero Te quiero Te quiero Te quiero Te quiero Te quiero Te quiero Te quiero Te quiero Te quiero Te quiero Te quiero Te quiero Te quiero Te quiero Te quiero Te quiero Te quiero Te quiero Te quiero Te quiero Te quiero Te quiero Te quiero Te quiero Te quiero Te quiero Te quiero Te quiero Te quiero Te quiero Te quiero Te quiero Te quiero Te quiero Te quiero Te quiero Te quiero Te quiero Te quiero Te quiero Te quiero Te quiero Te quiero Te quiero Te quiero Te quiero Te quiero Te quiero Te quiero Te quiero Te quiero Te quiero Te quiero Te quiero Te quiero Te quiero Te quiero Te quiero Te quiero Te quiero Te quiero Te quiero Te quiero Te quiero Te quiero Te quiero Te quiero Te quiero Te quiero Te quiero Te quiero Te quiero Te quiero Te quiero Te quiero Te quiero Te quiero Te quiero Te quiero Te quiero Te quiero Te quiero Te quiero Te quiero Te quiero Te quiero Te quiero Te quiero Te quiero Te quiero Te quiero Te quiero Te quiero Te quiero Te quiero Te quiero Te quiero Te quiero Te quiero Te quiero Te quiero Te quiero Te quiero Te quiero Te quiero Te quiero Te quiero Te quiero Te quiero Te quiero Te quiero Te quiero Te quiero Te quiero Te quiero Te quiero Te quiero Te quiero Te quiero Te quiero Te quiero Te quiero Te quiero Te quiero Te quiero Te quiero Te quiero Te quiero Te quiero Te quiero Te quiero Te quiero Te quiero Te quiero Te quiero Te quiero Te quiero Te quiero Te quiero Te quiero Te quiero Te quiero Te quiero Te quiero Te quiero Te quiero Te quiero Te quiero Te quiero Te quiero Te quiero Te quiero Te quiero Te quiero Te quiero Te quiero Te quiero Te quiero Te quiero Te quiero Te quiero Te quiero Te quiero Te quiero Te quiero Te quiero Te quiero Te quiero Te quiero Te quiero Te quiero Te quiero Te quiero Te quiero Te quiero Te quiero Te quiero Te quiero Te quiero Te quiero Te quiero Te quiero Te quiero Te quiero Te quiero Te quiero Te quiero Te quiero Te quiero Te quiero Te quiero Te quiero Te quiero Te quiero Te quiero Te quiero Te quiero Te quiero Te quiero Te quiero Te quiero Te quiero Te quiero Te quiero Te quiero Te quiero Te quiero Te quiero Te quiero Te quiero Te quiero Te quiero Te quiero Te quiero Te quiero Te quiero Te quiero Te quiero Te quiero Te quiero Te quiero Te quiero Te quiero Te quiero Te quiero Te quiero Te quiero Te quiero Te quiero Te quiero Te quiero Te quiero Te quiero Te quiero Te quiero Te quiero Te quiero Te quiero Te quiero Te quiero Te quiero Te quiero Te quiero Te quiero Te quiero Te quiero Te quiero Te quiero Te quiero Te quiero Te quiero Te quiero Te quiero Te quiero Te quiero Te quiero Te quiero Te quiero Te quiero Te quiero Te quiero Te quiero Te quiero Te quiero Te quiero Te quiero Te quiero Te quiero Te quiero Te quiero Te quiero Te quiero Te quiero Te quiero Te quiero Te quiero Te quiero Te quiero Te quiero Te quiero Te quiero Te quiero Te quiero Te quiero Te quiero Te quiero Te quiero Te quiero Te quiero Te quiero Te quiero Te quiero Te quiero Te quiero Te quiero Te quiero Te quiero Te quiero Te quiero Te quiero Te quiero Te quiero Te quiero Te quiero Te quiero Te quiero Te quiero Te quiero Te quiero Te quiero Te quiero Te quiero Te quiero Te quiero Te quiero Te quiero Te quiero Te quiero Te quiero Te quiero Te quiero Te quiero Te quiero Te quiero Te quiero Te quiero Te quiero Te quiero Te quiero Te quiero Te quiero Te quiero Te quiero Te quiero Te quiero Te quiero Te quiero Te quiero Te quiero Te quiero Te quiero Te quiero Te quiero Te quiero Te quiero Te quiero Te quiero Te quiero Te quiero Te quiero Te quiero Te quiero Te quiero Te quiero Te quiero Te quiero Te quiero Te quiero Te quiero Te quiero Te quiero Te quiero Te quiero Te quiero Te quiero Te quiero Te quiero Te quiero Te quiero Te quiero Te quiero Te quiero Te quiero Te quiero Te quiero Te quiero Te quiero Te quiero Te quiero Te quiero Te quiero Te quiero Te quiero Te quiero Te quiero Te quiero Te quiero Te quiero Te quiero Te quiero Te quiero Te quiero Te quiero Te quiero Te quiero Te quiero Te quiero Te quiero Te quiero Te quiero Te quiero Te quiero Te quiero Te quiero Te quiero Te quiero Te quiero Te quiero Te quiero Te quiero Te quiero Te quiero Te quiero Te quiero Te quiero Te quiero Te quiero Te quiero Te quiero Te quiero Te quiero Te quiero Te quiero Te quiero Te quiero Te quiero Te quiero Te quiero Te quiero Te quiero Te quiero Te quiero Te quiero Te quiero Te quiero Te quiero Te quiero Te quiero Te quiero Te quiero Te quiero Te quiero Te quiero Te quiero Te quiero Te quiero Te quiero Te quiero Te quiero Te quiero Te quiero Te quiero Te quiero Te quiero Te quiero Te quiero Te quiero Te quiero Te quiero Te quiero Te quiero Te quiero Te quiero Te quiero Te quiero Te quiero Te quiero Te quiero Te quiero Te quiero Te quiero Te quiero Te quiero Te quiero Te quiero Te quiero Te quiero Te quiero Te quiero Te quiero Te quiero Te quiero Te quiero Te quiero Te quiero Te quiero Te quiero Te quiero Te quiero Te quiero Te quiero Te quiero Te quiero Te quiero Te quiero Te quiero Te quiero Te quiero Te quiero Te quiero Te quiero Te quiero Te quiero Te quiero Te quiero Te quiero Te quiero Te quiero Te quiero Te quiero Te quiero Te quiero Te quiero Te quiero Te quiero Te quiero Te quiero Te quiero Te quiero Te quiero Te quiero Te quiero Te quiero Te quiero Te quiero Te quiero Te quiero Te quiero Te quiero Te quiero Te quiero Te quiero Te quiero Te quiero Te quiero Te quiero Te quiero Te quiero Te quiero Te quiero Te quiero Te quiero Te quiero Te quiero Te quiero Te quiero Te quiero Te quiero Te quiero Te quiero Te quiero Te quiero Te quiero Te quiero Te quiero Te quiero Te quiero Te quiero Te quiero Te quiero Te quiero Te quiero Te quiero Te quiero Te quiero Te quiero Te quiero Te quiero Te quiero Te quiero Te quiero Te quiero Te quiero Te quiero Te quiero Te quiero Te quiero Te quiero Te quiero Te quiero Te quiero Te quiero Te quiero Te quiero Te quiero Te quiero Te quiero Te quiero Te quiero Te quiero Te quiero Te quiero Te quiero Te quiero Te quiero Te quiero Te quiero Te quiero Te quiero Te quiero Te quiero Te quiero Te quiero Te quiero Te quiero Te quiero Te quiero Te quiero Te quiero Te quiero Te quiero Te quiero Te quiero Te quiero Te quiero Te quiero Te quiero Te quiero Te quiero Te quiero Te quiero Te quiero Te quiero Te quiero Te quiero Te quiero Te quiero Te quiero Te quiero Te quiero Te quiero Te quiero Te quiero Te quiero Te quiero Te quiero Te quiero Te quiero Te quiero Te quiero Te quiero Te quiero Te quiero Te quiero Te quiero Te quiero Te quiero Te quiero Te quiero Te quiero Te quiero Te quiero Te quiero Te quiero Te quiero Te quiero Te quiero Te quiero Te quiero Te quiero Te quiero Te quiero Te quiero Te quiero Te quiero Te quiero Te quiero Te quiero Te quiero Te quiero Te quiero Te quiero Te quiero Te quiero Te quiero Te quiero Te quiero Te quiero Te quiero Te quiero Te quiero Te quiero Te quiero Te quiero Te quiero Te quiero Te quiero Te quiero Te quiero Te quiero Te quiero Te quiero Te quiero Te quiero Te quiero Te quiero Te quiero Te quiero Te quiero Te quiero Te quiero Te quiero Te quiero Te quiero Te quiero Te quiero Te quiero Te quiero Te quiero Te quiero Te quiero Te quiero Te quiero Te quiero Te quiero Te quiero Te quiero Te quiero Te quiero Te quiero Te quiero Te quiero Te quiero Te quiero Te quiero Te quiero Te quiero Te quiero Te quiero Te quiero Te quiero Te quiero Te quiero Te quiero Te quiero Te quiero Te quiero Te quiero Te quiero Te quiero Te quiero Te quiero Te quiero Te quiero Te quiero Te quiero Te quiero Te quiero Te quiero Te quiero Te quiero Te quiero Te quiero Te quiero Te quiero Te quiero Te quiero Te quiero Te quiero Te quiero Te quiero Te quiero Te quiero Te quiero Te quiero Te quiero Te quiero Te quiero Te quiero Te quiero Te quiero Te quiero Te quiero Te quiero Te quiero Te quiero Te quiero Te quiero Te quiero Te quiero Te quiero Te quiero Te quiero Te quiero Te quiero Te quiero Te quiero Te quiero Te quiero Te quiero Te quiero Te quiero Te quiero Te quiero Te quiero Te quiero Te quiero Te quiero Te quiero Te quiero Te quiero Te quiero Te quiero Te quiero Te quiero Te quiero Te quiero Te quiero Te quiero Te quiero Te quiero Te quiero Te quiero Te quiero Te quiero Te quiero Te quiero Te quiero Te quiero Te quiero Te quiero Te quiero Te quiero Te quiero Te quiero Te quiero Te quiero Te quiero Te quiero Te quiero Te quiero Te quiero Te quiero Te quiero Te quiero Te quiero Te quiero Te quiero Te quiero Te quiero Te quiero Te quiero Te quiero Te quiero Te quiero Te quiero Te quiero Te quiero Te quiero Te quiero Te quiero Te quiero Te quiero Te quiero Te quiero Te quiero Te quiero Te quiero Te quiero Te quiero Te quiero Te quiero Te quiero Te quiero Te quiero Te quiero Te quiero Te quiero Te quiero Te quiero Te quiero Te quiero Te quiero Te quiero Te quiero Te quiero Te quiero Te quiero Te quiero Te quiero Te quiero Te quiero Te quiero Te quiero Te quiero Te quiero Te quiero Te quiero Te quiero Te quiero Te quiero Te quiero Te quiero Te quiero Te quiero Te quiero Te quiero Te quiero Te quiero Te quiero Te quiero Te quiero Te quiero Te quiero Te quiero Te quiero Te quiero Te quiero Te quiero Te quiero Te quiero Te quiero Te quiero Te quiero Te quiero Te quiero Te quiero Te quiero Te quiero Te quiero Te quiero Te quiero Te quiero Te quiero Te quiero Te quiero Te quiero Te quiero Te quiero Te quiero Te quiero Te quiero Te quiero Te quiero Te quiero Te quiero Te quiero Te quiero Te quiero Te quiero Te quiero Te quiero Te quiero Te quiero Te quiero Te quiero Te quiero Te quiero Te quiero Te quiero Te quiero Te quiero Te quiero Te quiero Te quiero Te quiero Te quiero Te quiero Te quiero Te quiero Te quiero Te quiero Te quiero Te quiero Te quiero Te quiero Te quiero Te quiero Te quiero Te quiero Te quiero Te quiero Te quiero Te quiero Te quiero Te quiero Te quiero Te quiero Te quiero Te quiero Te quiero Te quiero Te quiero Te quiero Te quiero Te quiero Te quiero Te quiero Te quiero Te quiero Te quiero Te quiero Te quiero Te quiero Te quiero Te quiero Te quiero Te quiero Te quiero Te quiero Te quiero Te quiero Te quiero Te quiero Te quiero Te quiero Te quiero Te quiero Te quiero Te quiero Te quiero Te quiero Te quiero Te quiero Te quiero Te quiero Te quiero Te quiero Te quiero Te quiero Te quiero Te quiero Te quiero Te quiero Te quiero Te quiero Te quiero Te quiero Te quiero Te quiero Te quiero Te quiero Te quiero Te quiero Te quiero Te quiero Te quiero Te quiero Te quiero Te quiero Te quiero Te quiero Te quiero Te quiero Te quiero Te quiero Te quiero Te quiero Te quiero Te quiero Te quiero Te quiero Te quiero Te quiero Te quiero Te quiero Te quiero Te quiero Te quiero Te quiero Te quiero Te quiero Te quiero Te quiero Te quiero Te quiero Te quiero Te quiero Te quiero Te quiero Te quiero Te quiero Te quiero Te quiero Te quiero Te quiero Te quiero Te quiero Te quiero Te quiero Te quiero Te quiero Te quiero Te quiero Te quiero Te quiero Te quiero Te quiero Te quiero Te quiero Te quiero Te quiero Te quiero Te quiero Te quiero Te quiero Te quiero Te quiero Te quiero Te quiero Te quiero Te quiero Te quiero Te quiero Te quiero Te quiero Te quiero Te quiero Te quiero Te quiero Te quiero Te quiero Te quiero Te quiero Te quiero Te quiero Te quiero Te quiero Te quiero Te quiero Te quiero Te quiero Te quiero Te quiero Te quiero Te quiero Te quiero Te quiero Te quiero Te quiero Te quiero Te quiero Te quiero Te quiero Te quiero Te quiero Te quiero Te quiero Te quiero Te quiero Te quiero Te quiero Te quiero Te quiero Te quiero Te quiero Te quiero Te quiero Te quiero Te quiero Te quiero Te quiero Te quiero Te quiero Te quiero Te quiero Te quiero Te quiero Te quiero Te quiero Te quiero Te quiero Te quiero Te quiero Te quiero Te quiero Te quiero Te quiero Te quiero Te quiero Te quiero Te quiero Te quiero Te quiero Te quiero Te quiero Te quiero Te quiero Te quiero Te quiero Te quiero Te quiero Te quiero Te quiero Te quiero Te quiero Te quiero Te quiero Te quiero Te quiero Te quiero Te quiero Te quiero Te quiero Te quiero Te quiero Te quiero Te quiero Te quiero Te quiero Te quiero Te quiero Te quiero Te quiero Te quiero Te quiero Te quiero Te quiero Te quiero Te quiero Te quiero Te quiero Te quiero Te quiero Te quiero Te quiero Te quiero Te quiero Te quiero Te quiero Te quiero Te quiero Te quiero Te quiero Te quiero Te quiero Te quiero Te quiero Te quiero Te quiero Te quiero Te quiero Te quiero Te quiero Te quiero Te quiero Te quiero Te quiero Te quiero Te quiero Te quiero Te quiero Te quiero Te quiero Te quiero Te quiero Te quiero Te quiero Te quiero Te quiero Te quiero Te quiero Te quiero Te quiero Te quiero Te quiero Te quiero Te quiero Te quiero Te quiero Te quiero Te quiero Te quiero Te quiero Te quiero Te quiero Te quiero Te quiero Te quiero Te quiero Te quiero Te quiero Te quiero Te quiero Te quiero Te quiero Te quiero Te quiero Te quiero Te quiero Te quiero Te quiero Te quiero Te quiero Te quiero Te quiero Te quiero Te quiero Te quiero Te quiero Te quiero Te quiero Te quiero Te quiero Te quiero Te quiero Te quiero Te quiero Te quiero Te quiero Te quiero Te quiero Te quiero Te quiero Te quiero Te quiero Te quiero Te quiero Te quiero Te quiero Te quiero Te quiero Te quiero Te quiero Te quiero Te quiero Te quiero Te quiero Te quiero Te quiero Te quiero Te quiero Te quiero Te quiero Te quiero Te quiero Te quiero Te quiero Te quiero Te quiero Te quiero Te quiero Te quiero Te quiero Te quiero Te quiero Te quiero Te quiero Te quiero Te quiero Te quiero Te quiero Te quiero Te quiero Te quiero Te quiero Te quiero Te quiero Te quiero Te quiero Te quiero Te quiero Te quiero Te quiero Te quiero Te quiero Te quiero Te quiero Te quiero Te quiero Te quiero Te quiero Te quiero Te quiero Te quiero Te quiero Te quiero Te quiero Te quiero Te quiero Te quiero Te quiero Te quiero Te quiero Te quiero Te quiero Te quiero Te quiero Te quiero Te quiero Te quiero Te quiero Te quiero Te quiero Te quiero Te quiero Te quiero Te quiero Te quiero Te quiero Te quiero Te quiero Te quiero Te quiero Te quiero Te quiero Te quiero Te quiero Te quiero Te quiero Te quiero Te quiero Te quiero Te quiero Te quiero Te quiero Te quiero Te quiero Te quiero Te quiero Te quiero Te quiero Te quiero Te quiero Te quiero Te quiero Te quiero Te quiero Te quiero Te quiero Te quiero Te quiero Te quiero Te quiero Te quiero Te quiero Te quiero Te quiero Te quiero Te quiero Te quiero Te quiero Te quiero Te quiero Te quiero Te quiero Te quiero Te quiero Te quiero Te quiero Te quiero Te quiero Te quiero Te quiero Te quiero Te quiero Te quiero Te quiero Te quiero Te quiero Te quiero Te quiero Te quiero Te quiero Te quiero Te quiero Te quiero Te quiero Te quiero Te quiero Te quiero Te quiero Te quiero Te quiero Te quiero Te quiero Te quiero Te quiero Te quiero Te quiero Te quiero Te quiero Te quiero Te quiero Te quiero Te quiero Te quiero Te quiero Te quiero Te quiero Te quiero Te quiero Te quiero Te quiero Te quiero Te quiero Te quiero Te quiero Te quiero Te quiero Te quiero Te quiero Te quiero Te quiero Te quiero Te quiero Te quiero Te quiero Te quiero Te quiero Te quiero Te quiero Te quiero Te quiero Te quiero Te quiero Te quiero Te quiero Te quiero Te quiero Te quiero Te quiero Te quiero Te quiero Te quiero Te quiero Te quiero Te quiero Te quiero Te quiero Te quiero Te quiero Te quiero Te quiero Te quiero Te quiero Te quiero Te quiero Te quiero Te quiero Te quiero Te quiero Te quiero Te quiero Te quiero Te quiero Te quiero Te quiero Te quiero Te quiero Te quiero Te quiero Te quiero Te quiero Te quiero Te quiero Te quiero Te quiero Te quiero Te quiero Te quiero Te quiero Te quiero Te quiero Te quiero Te quiero Te quiero Te quiero Te quiero Te quiero Te quiero Te quiero Te quiero Te quiero Te quiero Te quiero Te quiero Te quiero Te quiero Te quiero Te quiero Te quiero Te quiero Te quiero Te quiero Te quiero Te quiero Te quiero Te quiero Te quiero Te quiero Te quiero Te quiero Te quiero Te quiero Te quiero Te quiero Te quiero Te quiero Te quiero Te quiero Te quiero Te quiero Te quiero Te quiero Te quiero Te quiero Te quiero Te quiero Te quiero Te quiero Te quiero Te quiero Te quiero Te quiero Te quiero Te quiero Te quiero Te quiero Te quiero Te quiero Te quiero Te quiero Te quiero Te quiero Te quiero Te quiero Te quiero Te quiero Te quiero Te quiero Te quiero Te quiero Te quiero Te quiero Te quiero Te quiero Te quiero Te quiero Te quiero Te quiero Te quiero Te quiero Te quiero Te quiero Te quiero Te quiero Te quiero Te quiero Te quiero Te quiero Te quiero Te quiero Te quiero Te quiero Te quiero Te quiero Te quiero Te quiero Te quiero Te quiero Te quiero Te quiero Te quiero Te quiero Te quiero Te quiero Te quiero Te quiero Te quiero Te quiero Te quiero Te quiero Te quiero Te quiero Te quiero Te quiero Te quiero Te quiero Te quiero Te quiero Te quiero Te quiero Te quiero Te quiero Te quiero Te quiero Te quiero Te quiero Te quiero Te quiero Te quiero Te quiero Te quiero Te quiero Te quiero Te quiero Te quiero Te quiero Te quiero Te quiero Te quiero Te quiero Te quiero Te quiero Te quiero Te quiero Te quiero Te quiero Te quiero Te quiero Te quiero Te quiero Te quiero Te quiero Te quiero Te quiero Te quiero Te quiero Te quiero Te quiero Te quiero Te quiero Te quiero Te quiero Te quiero Te quiero Te quiero Te quiero Te quiero Te quiero Te quiero Te quiero Te quiero Te quiero Te quiero Te quiero Te quiero Te quiero Te quiero Te quiero Te quiero Te quiero Te quiero Te quiero Te quiero Te quiero Te quiero Te quiero Te quiero Te quiero Te quiero Te quiero Te quiero Te quiero Te quiero Te quiero Te quiero Te quiero Te quiero Te quiero Te quiero Te quiero Te quiero Te quiero Te quiero Te quiero Te quiero Te quiero Te quiero Te quiero Te quiero Te quiero Te quiero Te quiero Te quiero Te quiero Te quiero Te quiero Te quiero Te quiero Te quiero Te quiero Te quiero Te quiero Te quiero Te quiero Te quiero Te quiero Te quiero Te quiero Te quiero Te quiero Te quiero Te quiero Te quiero Te quiero Te quiero Te quiero Te quiero Te quiero Te quiero Te quiero Te quiero Te quiero Te quiero Te quiero Te quiero Te quiero Te quiero Te quiero Te quiero Te quiero Te quiero Te quiero Te quiero Te quiero Te quiero Te quiero Te quiero Te quiero Te quiero Te quiero Te quiero Te quiero Te quiero Te quiero Te quiero Te quiero Te quiero Te quiero Te quiero Te quiero Te quiero Te quiero Te quiero Te quiero Te quiero Te quiero Te quiero Te quiero Te quiero Te quiero Te quiero Te quiero Te quiero Te quiero Te quiero Te quiero Te quiero Te quiero Te quiero Te quiero Te quiero Te quiero Te quiero Te quiero Te quiero Te quiero Te quiero Te quiero Te quiero Te quiero Te quiero Te quiero Te quiero Te quiero Te quiero Te quiero Te quiero Te quiero Te quiero Te quiero Te quiero Te quiero Te quiero Te quiero Te quiero Te quiero Te quiero Te quiero Te quiero Te quiero Te quiero Te quiero Te quiero Te quiero Te quiero Te quiero Te quiero Te quiero Te quiero Te quiero Te quiero Te quiero Te quiero Te quiero Te quiero Te quiero Te quiero Te quiero Te quiero Te quiero Te quiero Te quiero Te quiero Te quiero Te quiero Te quiero Te quiero Te quiero Te quiero Te quiero Te quiero Te quiero Te quiero Te quiero Te quiero Te quiero Te quiero Te quiero Te quiero Te quiero Te quiero Te quiero Te quiero Te quiero Te quiero Te quiero Te quiero Te quiero Te quiero Te quiero Te quiero Te quiero Te quiero Te quiero Te quiero Te quiero Te quiero Te quiero Te quiero Te quiero Te quiero Te quiero Te quiero Te quiero Te quiero Te quiero Te quiero Te quiero Te quiero Te quiero Te quiero Te quiero Te quiero Te quiero Te quiero Te quiero Te quiero Te quiero Te quiero Te quiero Te quiero Te quiero Te quiero Te quiero Te quiero Te quiero Te quiero Te quiero Te quiero Te quiero Te quiero Te quiero Te quiero Te quiero Te quiero Te quiero Te quiero Te quiero Te quiero Te quiero Te quiero Te quiero Te quiero Te quiero Te quiero Te quiero Te quiero Te quiero Te quiero Te quiero Te quiero Te quiero Te quiero Te quiero Te quiero Te quiero Te quiero Te quiero Te quiero Te quiero Te quiero Te quiero Te quiero Te quiero Te quiero Te quiero Te quiero Te quiero Te quiero Te quiero Te quiero Te quiero Te quiero Te quiero Te quiero Te quiero Te quiero Te quiero Te quiero Te quiero Te quiero Te quiero Te quiero Te quiero Te quiero Te quiero Te quiero Te quiero Te quiero Te quiero Te quiero Te quiero Te quiero Te quiero Te quiero Te quiero Te quiero Te quiero Te quiero Te quiero Te quiero Te quiero Te quiero Te quiero Te quiero Te quiero Te quiero Te quiero Te quiero Te quiero Te quiero Te quiero Te quiero Te quiero Te quiero Te quiero Te quiero Te quiero Te quiero Te quiero Te quiero Te quiero Te quiero Te quiero Te quiero Te quiero Te quiero Te quiero Te quiero Te quiero Te quiero Te quiero Te quiero Te quiero Te quiero Te quiero Te quiero Te quiero Te quiero Te quiero Te quiero Te quiero Te quiero Te quiero Te quiero Te quiero Te quiero Te quiero Te quiero Te quiero Te quiero Te quiero Te quiero Te quiero Te quiero Te quiero Te quiero Te quiero Te quiero Te quiero Te quiero Te quiero Te quiero Te quiero Te quiero Te quiero Te quiero Te quiero Te quiero Te quiero Te quiero Te quiero Te quiero Te quiero Te quiero Te quiero Te quiero Te quiero Te quiero Te quiero Te quiero Te quiero Te quiero Te quiero Te quiero Te quiero Te quiero Te quiero Te quiero Te quiero Te quiero Te quiero Te quiero Te quiero Te quiero Te quiero Te quiero Te quiero Te quiero Te quiero Te quiero Te quiero Te quiero Te quiero Te quiero Te quiero Te quiero Te quiero Te quiero Te quiero Te quiero Te quiero Te quiero Te quiero Te quiero Te quiero Te quiero Te quiero Te quiero Te quiero Te quiero Te quiero Te quiero Te quiero Te quiero Te quiero Te quiero Te quiero Te quiero Te quiero Te quiero Te quiero Te quiero Te quiero Te quiero Te quiero Te quiero Te quiero Te quiero Te quiero Te quiero Te quiero Te quiero Te quiero Te quiero Te quiero Te quiero Te quiero Te quiero Te quiero Te quiero Te quiero Te quiero Te quiero Te quiero Te quiero Te quiero Te quiero Te quiero Te quiero Te quiero Te quiero Te quiero Te quiero Te quiero Te quiero Te quiero Te quiero Te quiero Te quiero Te quiero Te quiero Te quiero Te quiero Te quiero Te quiero Te quiero Te quiero Te quiero Te quiero Te quiero Te quiero Te quiero Te quiero Te quiero Te quiero Te quiero Te quiero Te quiero Te quiero Te quiero Te quiero Te quiero Te quiero Te quiero Te quiero Te quiero Te quiero Te quiero Te quiero Te quiero Te quiero Te quiero Te quiero Te quiero Te quiero Te quiero Te quiero Te quiero Te quiero Te quiero Te quiero Te quiero Te quiero Te quiero Te quiero Te quiero Te quiero Te quiero Te quiero Te quiero Te quiero Te quiero Te quiero Te quiero Te quiero Te quiero Te quiero Te quiero Te quiero Te quiero Te quiero Te quiero Te quiero Te quiero Te quiero Te quiero Te quiero Te quiero Te quiero Te quiero Te quiero Te quiero Te quiero Te quiero Te quiero Te quiero Te quiero Te quiero Te quiero Te quiero Te quiero Te quiero Te quiero Te quiero Te quiero Te quiero Te quiero Te quiero Te quiero Te quiero Te quiero Te quiero Te quiero Te quiero Te quiero Te quiero Te quiero Te quiero Te quiero Te quiero Te quiero Te quiero Te quiero Te quiero Te quiero Te quiero Te quiero Te quiero Te quiero Te quiero Te quiero Te quiero Te quiero Te quiero Te quiero Te quiero Te quiero Te quiero Te quiero Te quiero Te quiero Te quiero Te quiero Te quiero Te quiero Te quiero Te quiero Te quiero Te quiero Te quiero Te quiero Te quiero Te quiero Te quiero Te quiero Te quiero Te quiero Te quiero Te quiero Te quiero Te quiero Te quiero Te quiero Te quiero Te quiero Te quiero Te quiero Te quiero Te quiero Te quiero Te quiero Te quiero Te quiero Te quiero Te quiero Te quiero Te quiero Te quiero Te quiero Te quiero Te quiero Te quiero Te quiero Te quiero Te quiero Te quiero Te quiero Te quiero Te quiero Te quiero Te quiero Te quiero Te quiero Te quiero Te quiero Te quiero Te quiero Te quiero Te quiero Te quiero Te quiero Te quiero Te quiero Te quiero Te quiero Te quiero Te quiero Te quiero Te quiero Te quiero Te quiero Te quiero Te quiero Te quiero Te quiero Te quiero Te quiero Te quiero Te quiero Te quiero Te quiero Te quiero Te quiero Te quiero Te quiero Te quiero Te quiero Te quiero Te quiero Te quiero Te quiero Te quiero Te quiero Te quiero Te quiero Te quiero Te quiero Te quiero Te quiero Te quiero Te quiero Te quiero Te quiero Te quiero Te quiero Te quiero Te quiero Te quiero Te quiero Te quiero Te quiero Te quiero Te quiero Te quiero Te quiero Te quiero Te quiero Te quiero Te quiero Te quiero Te quiero Te quiero Te quiero Te quiero Te quiero Te quiero Te quiero Te quiero Te quiero Te quiero Te quiero Te quiero Te quiero Te quiero Te quiero Te quiero Te quiero Te quiero Te quiero Te quiero Te quiero Te quiero Te quiero Te quiero Te quiero Te quiero Te quiero Te quiero Te quiero Te quiero Te quiero Te quiero Te quiero Te quiero Te quiero Te quiero Te quiero Te quiero Te quiero Te quiero Te quiero Te quiero Te quiero Te quiero Te quiero Te quiero Te quiero Te quiero Te quiero Te quiero Te quiero Te quiero Te quiero Te quiero Te quiero Te quiero Te quiero Te quiero Te quiero Te quiero Te quiero Te quiero Te quiero Te quiero Te quiero Te quiero Te quiero Te quiero Te quiero Te quiero Te quiero Te quiero Te quiero Te quiero Te quiero Te quiero Te quiero Te quiero Te quiero Te quiero Te quiero Te quiero Te quiero Te quiero Te quiero Te quiero Te quiero Te quiero Te quiero Te quiero Te quiero Te quiero Te quiero Te quiero Te quiero Te quiero Te quiero Te quiero Te quiero Te quiero Te quiero Te quiero Te quiero Te quiero Te quiero Te quiero Te quiero Te quiero Te quiero Te quiero Te quiero Te quiero Te quiero Te quiero Te quiero Te quiero Te quiero Te quiero Te quiero Te quiero Te quiero Te quiero Te quiero Te quiero Te quiero Te quiero Te quiero Te quiero Te quiero Te quiero Te quiero Te quiero Te quiero Te quiero Te quiero Te quiero Te quiero Te quiero Te quiero Te quiero Te quiero Te quiero Te quiero Te quiero Te quiero Te quiero Te quiero Te quiero Te quiero Te quiero Te quiero Te quiero Te quiero Te quiero Te quiero Te quiero Te quiero Te quiero Te quiero Te quiero Te quiero Te quiero Te quiero Te quiero Te quiero Te quiero Te quiero Te quiero Te quiero Te quiero Te quiero Te quiero Te quiero Te quiero Te quiero Te quiero Te quiero Te quiero Te quiero Te quiero Te quiero Te quiero Te quiero Te quiero Te quiero Te quiero Te quiero Te quiero Te quiero Te quiero Te quiero Te quiero Te quiero Te quiero Te quiero Te quiero Te quiero Te quiero Te quiero Te quiero Te quiero Te quiero Te quiero Te quiero Te quiero Te quiero Te quiero Te quiero Te quiero Te quiero Te quiero Te quiero Te quiero Te quiero Te quiero Te quiero Te quiero Te quiero Te quiero Te quiero Te quiero Te quiero Te quiero Te quiero Te quiero Te quiero Te quiero Te quiero Te quiero Te quiero Te quiero Te quiero Te quiero Te quiero Te quiero Te quiero Te quiero Te quiero Te quiero Te quiero Te quiero Te quiero Te quiero Te quiero Te quiero Te quiero Te quiero Te quiero Te quiero Te quiero Te quiero Te quiero Te quiero Te quiero Te quiero Te quiero Te quiero Te quiero Te quiero Te quiero Te quiero Te quiero Te quiero Te quiero Te quiero Te quiero Te quiero Te quiero Te quiero Te quiero Te quiero Te quiero Te quiero Te quiero Te quiero Te quiero Te quiero Te quiero Te quiero Te quiero Te quiero Te quiero Te quiero Te quiero Te quiero Te quiero Te quiero Te quiero Te quiero Te quiero Te quiero Te quiero Te quiero Te quiero Te quiero Te quiero Te quiero Te quiero Te quiero Te quiero Te quiero Te quiero Te quiero Te quiero Te quiero Te quiero Te quiero Te quiero Te quiero Te quiero Te quiero Te quiero Te quiero Te quiero Te quiero Te quiero Te quiero Te quiero Te quiero Te quiero Te quiero Te quiero Te quiero Te quiero Te quiero Te quiero Te quiero Te quiero Te quiero Te quiero Te quiero Te quiero Te quiero Te quiero Te quiero Te quiero Te quiero Te quiero Te quiero Te quiero Te quiero Te quiero Te quiero Te quiero Te quiero Te quiero Te quiero Te quiero Te quiero Te quiero Te quiero Te quiero Te quiero Te quiero Te quiero Te quiero Te quiero Te quiero Te quiero Te quiero Te quiero Te quiero Te quiero Te quiero Te quiero Te quiero Te quiero Te quiero Te quiero Te quiero Te quiero Te quiero Te quiero Te quiero Te quiero Te quiero Te quiero Te quiero Te quiero Te quiero Te quiero Te quiero Te quiero Te quiero Te quiero Te quiero Te quiero Te quiero Te quiero Te quiero Te quiero Te quiero Te quiero Te quiero Te quiero Te quiero Te quiero Te quiero Te quiero Te quiero Te quiero Te quiero Te quiero Te quiero Te quiero Te quiero Te quiero Te quiero Te quiero Te quiero Te quiero Te quiero Te quiero Te quiero Te quiero Te quiero Te quiero Te quiero Te quiero Te quiero Te quiero Te quiero Te quiero Te quiero Te quiero Te quiero Te quiero Te quiero Te quiero Te quiero Te quiero Te quiero Te quiero Te quiero Te quiero Te quiero Te quiero Te quiero Te quiero Te quiero Te quiero Te quiero Te quiero Te quiero Te quiero Te quiero Te quiero Te quiero Te quiero Te quiero Te quiero Te quiero Te quiero Te quiero Te quiero Te quiero Te quiero Te quiero Te quiero Te quiero Te quiero Te quiero Te quiero Te quiero Te quiero Te quiero Te quiero Te quiero Te quiero Te quiero Te quiero Te quiero Te quiero Te quiero Te quiero Te quiero Te quiero Te quiero Te quiero Te quiero Te quiero Te quiero Te quiero Te quiero Te quiero Te quiero Te quiero Te quiero Te quiero Te quiero Te quiero Te quiero Te quiero Te quiero Te quiero Te quiero Te quiero Te quiero Te quiero Te quiero Te quiero Te quiero Te quiero Te quiero Te quiero Te quiero Te quiero Te quiero Te quiero Te quiero Te quiero Te quiero Te quiero Te quiero Te quiero Te quiero Te quiero Te quiero Te quiero Te quiero Te quiero Te quiero Te quiero Te quiero Te quiero Te quiero Te quiero Te quiero Te quiero Te quiero Te quiero Te quiero Te quiero Te quiero Te quiero Te quiero Te quiero Te quiero Te quiero Te quiero Te quiero Te quiero Te quiero Te quiero Te quiero Te quiero Te quiero Te quiero Te quiero Te quiero Te quiero Te quiero Te quiero Te quiero Te quiero Te quiero Te quiero Te quiero Te quiero Te quiero Te quiero Te quiero Te quiero Te quiero Te quiero Te quiero Te quiero Te quiero Te quiero Te quiero Te quiero Te quiero Te quiero Te quiero Te quiero Te quiero Te quiero Te quiero Te quiero Te quiero Te quiero Te quiero Te quiero Te quiero Te quiero Te quiero Te quiero Te quiero Te quiero Te quiero Te quiero Te quiero Te quiero Te quiero Te quiero Te quiero Te quiero Te quiero Te quiero Te quiero Te quiero Te quiero Te quiero Te quiero Te quiero Te quiero Te quiero Te quiero Te quiero Te quiero Te quiero Te quiero Te quiero Te quiero Te quiero Te quiero Te quiero Te quiero Te quiero Te quiero Te quiero Te quiero Te quiero Te quiero Te quiero Te quiero Te quiero Te quiero Te quiero Te quiero Te quiero Te quiero Te quiero Te quiero Te quiero Te quiero Te quiero Te quiero Te quiero Te quiero Te quiero Te quiero Te quiero Te quiero Te quiero Te quiero Te quiero Te quiero Te quiero Te quiero Te quiero Te quiero Te quiero Te quiero Te quiero Te quiero Te quiero Te quiero Te quiero Te quiero Te quiero Te quiero Te quiero Te quiero Te quiero Te quiero Te quiero Te quiero Te quiero Te quiero Te quiero Te quiero Te quiero Te quiero Te quiero Te quiero Te quiero Te quiero Te quiero Te quiero Te quiero Te quiero Te quiero Te quiero Te quiero Te quiero Te quiero Te quiero Te quiero Te quiero Te quiero Te quiero Te quiero Te quiero Te quiero Te quiero Te quiero Te quiero Te quiero Te quiero Te quiero Te quiero Te quiero Te quiero Te quiero Te quiero Te quiero Te quiero Te quiero Te quiero Te quiero Te quiero Te quiero Te quiero Te quiero Te quiero Te quiero Te quiero Te quiero Te quiero Te quiero Te quiero Te quiero Te quiero Te quiero Te quiero Te quiero Te quiero Te quiero Te quiero Te quiero Te quiero Te quiero Te quiero Te quiero Te quiero Te quiero Te quiero Te quiero Te quiero Te quiero Te quiero Te quiero Te quiero Te quiero Te quiero Te quiero Te quiero Te quiero Te quiero Te quiero Te quiero Te quiero Te quiero Te quiero Te quiero Te quiero Te quiero Te quiero Te quiero Te quiero Te quiero Te quiero Te quiero Te quiero Te quiero Te quiero Te quiero Te quiero Te quiero Te quiero Te quiero Te quiero Te quiero Te quiero Te quiero Te quiero Te quiero Te quiero Te quiero Te quiero Te quiero Te quiero Te quiero Te quiero Te quiero Te quiero Te quiero Te quiero Te quiero Te quiero Te quiero Te quiero Te quiero Te quiero Te quiero Te quiero Te quiero Te quiero Te quiero Te quiero Te quiero Te quiero Te quiero Te quiero Te quiero Te quiero Te quiero Te quiero Te quiero Te quiero Te quiero Te quiero Te quiero Te quiero Te quiero Te quiero Te quiero Te quiero Te quiero Te quiero Te quiero Te quiero Te quiero Te quiero Te quiero Te quiero Te quiero Te quiero Te quiero Te quiero Te quiero Te quiero Te quiero Te quiero Te quiero Te quiero Te quiero Te quiero Te quiero Te quiero Te quiero Te quiero Te quiero Te quiero Te quiero Te quiero Te quiero Te quiero Te quiero Te quiero Te quiero Te quiero Te quiero Te quiero Te quiero Te quiero Te quiero Te quiero Te quiero Te quiero Te quiero Te quiero Te quiero Te quiero Te quiero Te quiero Te quiero Te quiero Te quiero Te quiero Te quiero Te quiero Te quiero Te quiero Te quiero Te quiero Te quiero Te quiero Te quiero Te quiero Te quiero Te quiero Te quiero Te quiero Te quiero Te quiero Te quiero Te quiero Te quiero Te quiero Te quiero Te quiero Te quiero Te quiero Te quiero Te quiero Te quiero Te quiero Te quiero Te quiero Te quiero Te quiero Te quiero Te quiero Te quiero Te quiero Te quiero Te quiero Te quiero Te quiero Te quiero Te quiero Te quiero Te quiero Te quiero Te quiero Te quiero Te quiero Te quiero Te quiero Te quiero Te quiero Te quiero Te quiero Te quiero Te quiero Te quiero Te quiero Te quiero Te quiero Te quiero Te quiero Te quiero Te quiero Te quiero Te quiero Te quiero Te quiero Te quiero Te quiero Te quiero Te quiero Te quiero Te quiero Te quiero Te quiero Te quiero Te quiero Te quiero Te quiero Te quiero Te quiero Te quiero Te quiero Te quiero Te quiero Te quiero Te quiero Te quiero Te quiero Te quiero Te quiero Te quiero Te quiero Te quiero Te quiero Te quiero Te quiero Te quiero Te quiero Te quiero Te quiero Te quiero Te quiero Te quiero Te quiero Te quiero Te quiero Te quiero Te quiero Te quiero Te quiero Te quiero Te quiero Te quiero Te quiero Te quiero Te quiero Te quiero Te quiero Te quiero Te quiero Te quiero Te quiero Te quiero Te quiero Te quiero Te quiero Te quiero Te quiero Te quiero Te quiero Te quiero Te quiero Te quiero Te quiero Te quiero Te quiero Te quiero Te quiero Te quiero Te quiero Te quiero Te quiero Te quiero Te quiero Te quiero Te quiero Te quiero Te quiero Te quiero Te quiero Te quiero Te quiero Te quiero Te quiero Te quiero Te quiero Te quiero Te quiero Te quiero Te quiero Te quiero Te quiero Te quiero Te quiero Te quiero Te quiero Te quiero Te quiero Te quiero Te quiero Te quiero Te quiero Te quiero Te quiero Te quiero Te quiero Te quiero Te quiero Te quiero Te quiero Te quiero Te quiero Te quiero Te quiero Te quiero Te quiero Te quiero Te quiero Te quiero Te quiero Te quiero Te quiero Te quiero Te quiero Te quiero Te quiero Te quiero Te quiero Te quiero Te quiero Te quiero Te quiero Te quiero Te quiero Te quiero Te quiero Te quiero Te quiero Te quiero Te quiero Te quiero Te quiero Te quiero Te quiero Te quiero Te quiero Te quiero Te quiero Te quiero Te quiero Te quiero Te quiero Te quiero Te quiero Te quiero Te quiero Te quiero Te quiero Te quiero Te quiero Te quiero Te quiero Te quiero Te quiero Te quiero Te quiero Te quiero Te quiero Te quiero Te quiero Te quiero Te quiero Te quiero Te quiero Te quiero Te quiero Te quiero Te quiero Te quiero Te quiero Te quiero Te quiero Te quiero Te quiero Te quiero Te quiero Te quiero Te quiero Te quiero Te quiero Te quiero Te quiero Te quiero Te quiero Te quiero Te quiero Te quiero Te quiero Te quiero Te quiero Te quiero Te quiero Te quiero Te quiero Te quiero Te quiero Te quiero Te quiero Te quiero Te quiero Te quiero Te quiero Te quiero Te quiero Te quiero Te quiero Te quiero Te quiero Te quiero Te quiero Te quiero Te quiero Te quiero Te quiero Te quiero Te quiero Te quiero Te quiero Te quiero Te quiero Te quiero Te quiero Te quiero Te quiero Te quiero Te quiero Te quiero Te quiero Te quiero Te quiero Te quiero Te quiero Te quiero Te quiero Te quiero Te quiero Te quiero Te quiero Te quiero Te quiero Te quiero Te quiero Te quiero Te quiero Te quiero Te quiero Te quiero Te quiero Te quiero Te quiero Te quiero Te quiero Te quiero Te quiero Te quiero Te quiero Te quiero Te quiero Te quiero Te quiero Te quiero Te quiero Te quiero Te quiero Te quiero Te quiero Te quiero Te quiero Te quiero Te quiero Te quiero Te quiero Te quiero Te quiero Te quiero Te quiero Te quiero Te quiero Te quiero Te quiero Te quiero Te quiero Te quiero Te quiero Te quiero Te quiero Te quiero Te quiero Te quiero Te quiero Te quiero Te quiero Te quiero Te quiero Te quiero Te quiero Te quiero Te quiero Te quiero Te quiero Te quiero Te quiero Te quiero Te quiero Te quiero Te quiero Te quiero Te quiero Te quiero Te quiero Te quiero Te quiero Te quiero Te quiero Te quiero Te quiero Te quiero Te quiero Te quiero Te quiero Te quiero Te quiero Te quiero Te quiero Te quiero Te quiero Te quiero Te quiero Te quiero Te quiero Te quiero Te quiero Te quiero Te quiero Te quiero Te quiero Te quiero Te quiero Te quiero Te quiero Te quiero Te quiero Te quiero Te quiero Te quiero Te quiero Te quiero Te quiero Te quiero Te quiero Te quiero Te quiero Te quiero Te quiero Te quiero Te quiero Te quiero Te quiero Te quiero Te quiero Te quiero Te quiero Te quiero Te quiero Te quiero Te quiero Te quiero Te quiero Te quiero Te quiero Te quiero Te quiero Te quiero Te quiero Te quiero Te quiero Te quiero Te quiero Te quiero Te quiero Te quiero Te quiero Te quiero Te quiero Te quiero Te quiero Te quiero Te quiero Te quiero Te quiero Te quiero Te quiero Te quiero Te quiero Te quiero Te quiero Te quiero Te quiero Te quiero Te quiero Te quiero Te quiero Te quiero Te quiero Te quiero Te quiero Te quiero Te quiero Te quiero Te quiero Te quiero Te quiero Te quiero Te quiero Te quiero Te quiero Te quiero Te quiero Te quiero Te quiero Te quiero Te quiero Te quiero Te quiero Te quiero Te quiero Te quiero Te quiero Te quiero Te quiero Te quiero Te quiero Te quiero Te quiero Te quiero Te quiero Te quiero Te quiero Te quiero Te quiero Te quiero Te quiero Te quiero Te quiero Te quiero Te quiero Te quiero Te quiero Te quiero Te quiero Te quiero Te quiero Te quiero Te quiero Te quiero Te quiero Te quiero Te quiero Te quiero Te quiero Te quiero Te quiero Te quiero Te quiero Te quiero Te quiero Te quiero Te quiero Te quiero Te quiero Te quiero Te quiero Te quiero Te quiero Te quiero Te quiero Te quiero Te quiero Te quiero Te quiero Te quiero Te quiero Te quiero Te quiero Te quiero Te quiero Te quiero Te quiero Te quiero Te quiero Te quiero Te quiero Te quiero Te quiero Te quiero Te quiero Te quiero Te quiero Te quiero Te quiero Te quiero Te quiero Te quiero Te quiero Te quiero Te quiero Te quiero Te quiero Te quiero Te quiero Te quiero Te quiero Te quiero Te quiero Te quiero Te quiero Te quiero Te quiero Te quiero Te quiero Te quiero Te quiero Te quiero Te quiero Te quiero Te quiero Te quiero Te quiero Te quiero Te quiero Te quiero Te quiero Te quiero Te quiero Te quiero Te quiero Te quiero Te quiero Te quiero Te quiero Te quiero Te quiero Te quiero Te quiero Te quiero Te quiero Te quiero Te quiero Te quiero Te quiero Te quiero Te quiero Te quiero Te quiero Te quiero Te quiero Te quiero Te quiero Te quiero Te quiero Te quiero Te quiero Te quiero Te quiero Te quiero Te quiero Te quiero Te quiero Te quiero Te quiero Te quiero Te quiero Te quiero Te quiero Te quiero Te quiero Te quiero Te quiero Te quiero Te quiero Te quiero Te quiero Te quiero Te quiero Te quiero Te quiero Te quiero Te quiero Te quiero Te quiero Te quiero Te quiero Te quiero Te quiero Te quiero Te quiero Te quiero Te quiero Te quiero Te quiero Te quiero Te quiero Te quiero Te quiero Te quiero Te quiero Te quiero Te quiero Te quiero Te quiero Te quiero Te quiero Te quiero Te quiero Te quiero Te quiero Te quiero Te quiero Te quiero Te quiero Te quiero Te quiero Te quiero Te quiero Te quiero Te quiero Te quiero Te quiero Te quiero Te quiero Te quiero Te quiero Te quiero Te quiero Te quiero Te quiero Te quiero Te quiero Te quiero Te quiero Te quiero Te quiero Te quiero Te quiero Te quiero Te quiero Te quiero Te quiero Te quiero Te quiero Te quiero Te quiero Te quiero Te quiero Te quiero Te quiero Te quiero Te quiero Te quiero Te quiero Te quiero Te quiero Te quiero Te quiero Te quiero Te quiero Te quiero Te quiero Te quiero Te quiero Te quiero Te quiero Te quiero Te quiero Te quiero Te quiero Te quiero Te quiero Te quiero Te quiero Te quiero Te quiero Te quiero Te quiero Te quiero Te quiero Te quiero Te quiero Te quiero Te quiero Te quiero Te quiero Te quiero Te quiero Te quiero Te quiero Te quiero Te quiero Te quiero Te quiero Te quiero Te quiero Te quiero Te quiero Te quiero Te quiero Te quiero Te quiero Te quiero Te quiero Te quiero Te quiero Te quiero Te quiero Te quiero Te quiero Te quiero Te quiero Te quiero Te quiero Te quiero Te quiero Te quiero Te quiero Te quiero Te quiero Te quiero Te quiero Te quiero Te quiero Te quiero Te quiero Te quiero Te quiero Te quiero Te quiero Te quiero Te quiero Te quiero Te quiero Te quiero Te quiero Te quiero Te quiero Te quiero Te quiero Te quiero Te quiero Te quiero Te quiero Te quiero Te quiero Te quiero Te quiero Te quiero Te quiero Te quiero Te quiero Te quiero Te quiero Te quiero Te quiero Te quiero Te quiero Te quiero Te quiero Te quiero Te quiero Te quiero Te quiero Te quiero Te quiero Te quiero Te quiero Te quiero Te quiero Te quiero Te quiero Te quiero Te quiero Te quiero Te quiero Te quiero Te quiero Te quiero Te quiero Te quiero Te quiero Te quiero Te quiero Te quiero Te quiero Te quiero Te quiero Te quiero Te quiero Te quiero Te quiero Te quiero Te quiero Te quiero Te quiero Te quiero Te quiero Te quiero Te quiero Te quiero Te quiero Te quiero Te quiero Te quiero Te quiero Te quiero Te quiero Te quiero Te quiero Te quiero Te quiero Te quiero Te quiero Te quiero Te quiero Te quiero Te quiero Te quiero Te quiero Te quiero Te quiero Te quiero Te quiero Te quiero Te quiero Te quiero Te quiero Te quiero Te quiero Te quiero Te quiero Te quiero Te quiero Te quiero Te quiero Te quiero Te quiero Te quiero Te quiero Te quiero Te quiero Te quiero Te quiero Te quiero Te quiero Te quiero Te quiero Te quiero Te quiero Te quiero Te quiero Te quiero Te quiero Te quiero Te quiero Te quiero Te quiero Te quiero Te quiero Te quiero Te quiero Te quiero Te quiero Te quiero Te quiero Te quiero Te quiero Te quiero Te quiero Te quiero Te quiero Te quiero Te quiero Te quiero Te quiero Te quiero Te quiero Te quiero Te quiero Te quiero Te quiero Te quiero Te quiero Te quiero Te quiero Te quiero Te quiero Te quiero Te quiero Te quiero Te quiero Te quiero Te quiero Te quiero Te quiero Te quiero Te quiero Te quiero Te quiero Te quiero Te quiero Te quiero Te quiero Te quiero Te quiero Te quiero Te quiero Te quiero Te quiero Te quiero Te quiero Te quiero Te quiero Te quiero Te quiero Te quiero Te quiero Te quiero Te quiero Te quiero Te quiero Te quiero Te quiero Te quiero Te quiero Te quiero Te quiero Te quiero Te quiero Te quiero Te quiero Te quiero Te quiero Te quiero Te quiero Te quiero Te quiero Te quiero Te quiero Te quiero Te quiero Te quiero Te quiero Te quiero Te quiero Te quiero Te quiero Te quiero Te quiero Te quiero Te quiero Te quiero Te quiero Te quiero Te quiero Te quiero Te quiero Te quiero Te quiero Te quiero Te quiero Te quiero Te quiero Te quiero Te quiero Te quiero Te quiero Te quiero Te quiero Te quiero Te quiero Te quiero Te quiero Te quiero Te quiero Te quiero Te quiero Te quiero Te quiero Te quiero Te quiero Te quiero Te quiero Te quiero Te quiero Te quiero Te quiero Te quiero Te quiero Te quiero Te quiero Te quiero Te quiero Te quiero Te quiero Te quiero Te quiero Te quiero Te quiero Te quiero Te quiero Te quiero Te quiero Te quiero Te quiero Te quiero Te quiero Te quiero Te quiero Te quiero Te quiero Te quiero Te quiero Te quiero Te quiero Te quiero Te quiero Te quiero Te quiero Te quiero Te quiero Te quiero Te quiero Te quiero Te quiero Te quiero Te quiero Te quiero Te quiero Te quiero Te quiero Te quiero Te quiero Te quiero Te quiero Te quiero Te quiero Te quiero Te quiero Te quiero Te quiero Te quiero Te quiero Te quiero Te quiero Te quiero Te quiero Te quiero Te quiero Te quiero Te quiero Te quiero Te quiero Te quiero Te quiero Te quiero Te quiero Te quiero Te quiero Te quiero Te quiero Te quiero Te quiero Te quiero Te quiero Te quiero Te quiero Te quiero Te quiero Te quiero Te quiero Te quiero Te quiero Te quiero Te quiero Te quiero Te quiero Te quiero Te quiero Te quiero Te quiero Te quiero Te quiero Te quiero Te quiero Te quiero Te quiero Te quiero Te quiero Te quiero Te quiero Te quiero Te quiero Te quiero Te quiero Te quiero Te quiero Te quiero Te quiero Te quiero Te quiero Te quiero Te quiero Te quiero Te quiero Te quiero Te quiero Te quiero Te quiero Te quiero Te quiero Te quiero Te quiero Te quiero Te quiero Te quiero Te quiero Te quiero Te quiero Te quiero Te quiero Te quiero Te quiero Te quiero Te quiero Te quiero Te quiero Te quiero Te quiero Te quiero Te quiero Te quiero Te quiero Te quiero Te quiero Te quiero Te quiero Te quiero Te quiero Te quiero Te quiero Te quiero Te quiero Te quiero Te quiero Te quiero Te quiero Te quiero Te quiero Te quiero Te quiero Te quiero Te quiero Te quiero Te quiero Te quiero Te quiero Te quiero Te quiero Te quiero Te quiero Te quiero Te quiero Te quiero Te quiero Te quiero Te quiero Te quiero Te quiero Te quiero Te quiero Te quiero Te quiero Te quiero Te quiero Te quiero Te quiero Te quiero Te quiero Te quiero Te quiero Te quiero Te quiero Te quiero Te quiero Te quiero Te quiero Te quiero Te quiero Te quiero Te quiero Te quiero Te quiero Te quiero Te quiero Te quiero Te quiero Te quiero Te quiero Te quiero Te quiero Te quiero Te quiero Te quiero Te quiero Te quiero Te quiero Te quiero Te quiero Te quiero Te quiero Te quiero Te quiero Te quiero Te quiero Te quiero Te quiero Te quiero Te quiero Te quiero Te quiero Te quiero Te quiero Te quiero Te quiero Te quiero Te quiero Te quiero Te quiero Te quiero Te quiero Te quiero Te quiero Te quiero Te quiero Te quiero Te quiero Te quiero Te quiero Te quiero Te quiero Te quiero Te quiero Te quiero Te quiero Te quiero Te quiero Te quiero Te quiero Te quiero Te quiero Te quiero Te quiero Te quiero Te quiero Te quiero Te quiero Te quiero Te quiero Te quiero Te quiero Te quiero Te quiero Te quiero Te quiero Te quiero Te quiero Te quiero Te quiero Te quiero Te quiero Te quiero Te quiero Te quiero Te quiero Te quiero Te quiero Te quiero Te quiero Te quiero Te quiero Te quiero Te quiero Te quiero Te quiero Te quiero Te quiero Te quiero Te quiero Te quiero Te quiero Te quiero Te quiero Te quiero Te quiero Te quiero Te quiero Te quiero Te quiero Te quiero Te quiero Te quiero Te quiero Te quiero Te quiero Te quiero Te quiero Te quiero Te quiero Te quiero Te quiero Te quiero Te quiero Te quiero Te quiero Te quiero Te quiero Te quiero Te quiero Te quiero Te quiero Te quiero Te quiero Te quiero Te quiero Te quiero Te quiero Te quiero Te quiero Te quiero Te quiero Te quiero Te quiero Te quiero Te quiero Te quiero Te quiero Te quiero Te quiero Te quiero Te quiero Te quiero Te quiero Te quiero Te quiero Te quiero Te quiero Te quiero Te quiero Te quiero Te quiero Te quiero Te quiero Te quiero Te quiero Te quiero Te quiero Te quiero Te quiero Te quiero Te quiero Te quiero Te quiero Te quiero Te quiero Te quiero Te quiero Te quiero Te quiero Te quiero Te quiero Te quiero Te quiero Te quiero Te quiero Te quiero Te quiero Te quiero Te quiero Te quiero Te quiero Te quiero Te quiero Te quiero Te quiero Te quiero Te quiero Te quiero Te quiero Te quiero Te quiero Te quiero Te quiero Te quiero Te quiero Te quiero Te quiero Te quiero Te quiero Te quiero Te quiero Te quiero Te quiero Te quiero Te quiero Te quiero Te quiero Te quiero Te quiero Te quiero Te quiero Te quiero Te quiero Te quiero Te quiero Te quiero Te quiero Te quiero Te quiero Te quiero Te quiero Te quiero Te quiero Te quiero Te quiero Te quiero Te quiero Te quiero Te quiero Te quiero Te quiero Te quiero Te quiero Te quiero Te quiero Te quiero Te quiero Te quiero Te quiero Te quiero Te quiero Te quiero Te quiero Te quiero Te quiero Te quiero Te quiero Te quiero Te quiero Te quiero Te quiero Te quiero Te quiero Te quiero Te quiero Te quiero Te quiero Te quiero Te quiero Te quiero Te quiero Te quiero Te quiero Te quiero Te quiero Te quiero Te quiero Te quiero Te quiero Te quiero Te quiero Te quiero Te quiero Te quiero Te quiero Te quiero Te quiero Te quiero Te quiero Te quiero Te quiero Te quiero Te quiero Te quiero Te quiero Te quiero Te quiero Te quiero Te quiero Te quiero Te quiero Te quiero Te quiero Te quiero Te quiero Te quiero Te quiero Te quiero Te quiero Te quiero Te quiero Te quiero Te quiero Te quiero Te quiero Te quiero Te quiero Te quiero Te quiero Te quiero Te quiero Te quiero Te quiero Te quiero Te quiero Te quiero Te quiero Te quiero Te quiero Te quiero Te quiero Te quiero Te quiero Te quiero Te quiero Te quiero Te quiero Te quiero Te quiero Te quiero Te quiero Te quiero Te quiero Te quiero Te quiero Te quiero Te quiero Te quiero Te quiero Te quiero Te quiero Te quiero Te quiero Te quiero Te quiero Te quiero Te quiero Te quiero Te quiero Te quiero Te quiero Te quiero Te quiero Te quiero Te quiero Te quiero Te quiero Te quiero Te quiero Te quiero Te quiero Te quiero Te quiero Te quiero Te quiero Te quiero Te quiero Te quiero Te quiero Te quiero Te quiero Te quiero Te quiero Te quiero Te quiero Te quiero Te quiero Te quiero Te quiero Te quiero Te quiero Te quiero Te quiero Te quiero Te quiero Te quiero Te quiero Te quiero Te quiero Te quiero Te quiero Te quiero Te quiero Te quiero Te quiero Te quiero Te quiero Te quiero Te quiero Te quiero Te quiero Te quiero Te quiero Te quiero Te quiero Te quiero Te quiero Te quiero Te quiero Te quiero Te quiero Te quiero Te quiero Te quiero Te quiero Te quiero Te quiero Te quiero Te quiero Te quiero Te quiero Te quiero Te quiero Te quiero Te quiero Te quiero Te quiero Te quiero Te quiero Te quiero Te quiero Te quiero Te quiero Te quiero Te quiero Te quiero Te quiero Te quiero Te quiero Te quiero Te quiero Te quiero Te quiero Te quiero Te quiero Te quiero Te quiero Te quiero Te quiero Te quiero Te quiero Te quiero Te quiero Te quiero Te quiero Te quiero Te quiero Te quiero Te quiero Te quiero Te quiero Te quiero Te quiero Te quiero Te quiero Te quiero Te quiero Te quiero Te quiero Te quiero Te quiero Te quiero Te quiero Te quiero Te quiero Te quiero Te quiero Te quiero Te quiero Te quiero Te quiero Te quiero Te quiero Te quiero Te quiero Te quiero Te quiero Te quiero Te quiero Te quiero Te quiero Te quiero Te quiero Te quiero Te quiero Te quiero Te quiero Te quiero Te quiero Te quiero Te quiero Te quiero Te quiero Te quiero Te quiero Te quiero Te quiero Te quiero Te quiero Te quiero Te quiero Te quiero Te quiero Te quiero Te quiero Te quiero Te quiero Te quiero Te quiero Te quiero Te quiero Te quiero Te quiero Te quiero Te quiero Te quiero Te quiero Te quiero Te quiero Te quiero Te quiero Te quiero Te quiero Te quiero Te quiero Te quiero Te quiero Te quiero Te quiero Te quiero Te quiero Te quiero Te quiero Te quiero Te quiero Te quiero Te quiero Te quiero Te quiero Te quiero Te quiero Te quiero Te quiero Te quiero Te quiero Te quiero Te quiero Te quiero Te quiero Te quiero Te quiero Te quiero Te quiero Te quiero Te quiero Te quiero Te quiero Te quiero Te quiero Te quiero Te quiero Te quiero Te quiero Te quiero Te quiero Te quiero Te quiero Te quiero Te quiero Te quiero Te quiero Te quiero Te quiero Te quiero Te quiero Te quiero Te quiero Te quiero Te quiero Te quiero Te quiero Te quiero Te quiero Te quiero Te quiero Te quiero Te quiero Te quiero Te quiero Te quiero Te quiero Te quiero Te quiero Te quiero Te quiero Te quiero Te quiero Te quiero Te quiero Te quiero Te quiero Te quiero Te quiero Te quiero Te quiero Te quiero Te quiero Te quiero Te quiero Te quiero Te quiero Te quiero Te quiero Te quiero Te quiero Te quiero Te quiero Te quiero Te quiero Te quiero Te quiero Te quiero Te quiero Te quiero Te quiero Te quiero Te quiero Te quiero Te quiero Te quiero Te quiero Te quiero Te quiero Te quiero Te quiero Te quiero Te quiero Te quiero Te quiero Te quiero Te quiero Te quiero Te quiero Te quiero Te quiero Te quiero Te quiero Te quiero Te quiero Te quiero Te quiero Te quiero Te quiero Te quiero Te quiero Te quiero Te quiero Te quiero Te quiero Te quiero Te quiero Te quiero Te quiero Te quiero Te quiero Te quiero Te quiero Te quiero Te quiero Te quiero Te quiero Te quiero Te quiero Te quiero Te quiero Te quiero Te quiero Te quiero Te quiero Te quiero Te quiero Te quiero Te quiero Te quiero Te quiero Te quiero Te quiero Te quiero Te quiero Te quiero Te quiero Te quiero Te quiero Te quiero Te quiero Te quiero Te quiero Te quiero Te quiero Te quiero Te quiero Te quiero Te quiero Te quiero Te quiero Te quiero Te quiero Te quiero Te quiero Te quiero Te quiero Te quiero Te quiero Te quiero Te quiero Te quiero Te quiero Te quiero Te quiero Te quiero Te quiero Te quiero Te quiero Te quiero Te quiero Te quiero Te quiero Te quiero Te quiero Te quiero Te quiero Te quiero Te quiero Te quiero Te quiero Te quiero Te quiero Te quiero Te quiero Te quiero Te quiero Te quiero Te quiero Te quiero Te quiero Te quiero Te quiero Te quiero Te quiero Te quiero Te quiero Te quiero Te quiero Te quiero Te quiero Te quiero Te quiero Te quiero Te quiero Te quiero Te quiero Te quiero Te quiero Te quiero Te quiero Te quiero Te quiero Te quiero Te quiero Te quiero Te quiero Te quiero Te quiero Te quiero Te quiero Te quiero Te quiero Te quiero Te quiero Te quiero Te quiero Te quiero Te quiero Te quiero Te quiero Te quiero Te quiero Te quiero Te quiero Te quiero Te quiero Te quiero Te quiero Te quiero Te quiero Te quiero Te quiero Te quiero Te quiero Te quiero Te quiero Te quiero Te quiero Te quiero Te quiero Te quiero Te quiero Te quiero Te quiero Te quiero Te quiero Te quiero Te quiero Te quiero Te quiero Te quiero Te quiero Te quiero Te quiero Te quiero Te quiero Te quiero Te quiero Te quiero Te quiero Te quiero Te quiero Te quiero Te quiero Te quiero Te quiero Te quiero Te quiero Te quiero Te quiero Te quiero Te quiero Te quiero Te quiero Te quiero Te quiero Te quiero Te quiero Te quiero Te quiero Te quiero Te quiero Te quiero Te quiero Te quiero Te quiero Te quiero Te quiero Te quiero Te quiero Te quiero Te quiero Te quiero Te quiero Te quiero Te quiero Te quiero Te quiero Te quiero Te quiero Te quiero Te quiero Te quiero Te quiero Te quiero Te quiero Te quiero Te quiero Te quiero Te quiero Te quiero Te quiero Te quiero Te quiero Te quiero Te quiero Te quiero Te quiero Te quiero Te quiero Te quiero Te quiero Te quiero Te quiero Te quiero Te quiero Te quiero Te quiero Te quiero Te quiero Te quiero Te quiero Te quiero Te quiero Te quiero Te quiero Te quiero Te quiero Te quiero Te quiero Te quiero Te quiero Te quiero Te quiero Te quiero Te quiero Te quiero Te quiero Te quiero Te quiero Te quiero Te quiero Te quiero Te quiero Te quiero Te quiero Te quiero Te quiero Te quiero Te quiero Te quiero Te quiero Te quiero Te quiero Te quiero Te quiero Te quiero Te quiero Te quiero Te quiero Te quiero Te quiero Te quiero Te quiero Te quiero Te quiero Te quiero Te quiero Te quiero Te quiero Te quiero Te quiero Te quiero Te quiero Te quiero Te quiero Te quiero Te quiero Te quiero Te quiero Te quiero Te quiero Te quiero Te quiero Te quiero Te quiero Te quiero Te quiero Te quiero Te quiero Te quiero Te quiero Te quiero Te quiero Te quiero Te quiero Te quiero Te quiero Te quiero Te quiero Te quiero Te quiero Te quiero Te quiero Te quiero Te quiero Te quiero Te quiero Te quiero Te quiero Te quiero Te quiero Te quiero Te quiero Te quiero Te quiero Te quiero Te quiero Te quiero Te quiero Te quiero Te quiero Te quiero Te quiero Te quiero Te quiero Te quiero Te quiero Te quiero Te quiero Te quiero Te quiero Te quiero Te quiero Te quiero Te quiero Te quiero Te quiero Te quiero Te quiero Te quiero Te quiero Te quiero Te quiero Te quiero Te quiero Te quiero Te quiero Te quiero Te quiero Te quiero Te quiero Te quiero Te quiero Te quiero Te quiero Te quiero Te quiero Te quiero Te quiero Te quiero Te quiero Te quiero Te quiero Te quiero Te quiero Te quiero Te quiero Te quiero Te quiero Te quiero Te quiero Te quiero Te quiero Te quiero Te quiero Te quiero Te quiero Te quiero Te quiero Te quiero Te quiero Te quiero Te quiero Te quiero Te quiero Te quiero Te quiero Te quiero Te quiero Te quiero Te quiero Te quiero Te quiero Te quiero Te quiero Te quiero Te quiero Te quiero Te quiero Te quiero Te quiero Te quiero Te quiero Te quiero Te quiero Te quiero Te quiero Te quiero Te quiero Te quiero Te quiero Te quiero Te quiero Te quiero Te quiero Te quiero Te quiero Te quiero Te quiero Te quiero Te quiero Te quiero Te quiero Te quiero Te quiero Te quiero Te quiero Te quiero Te quiero Te quiero Te quiero Te quiero Te quiero Te quiero Te quiero Te quiero Te quiero Te quiero Te quiero Te quiero Te quiero Te quiero Te quiero Te quiero Te quiero Te quiero Te quiero Te quiero Te quiero Te quiero Te quiero Te quiero Te quiero Te quiero Te quiero Te quiero Te quiero Te quiero Te quiero Te quiero Te quiero Te quiero Te quiero Te quiero Te quiero Te quiero Te quiero Te quiero Te quiero Te quiero Te quiero Te quiero Te quiero Te quiero Te quiero Te quiero Te quiero Te quiero Te quiero Te quiero Te quiero Te quiero Te quiero Te quiero Te quiero Te quiero Te quiero Te quiero Te quiero Te quiero Te quiero Te quiero Te quiero Te quiero Te quiero Te quiero Te quiero Te quiero Te quiero Te quiero Te quiero Te quiero Te quiero Te quiero Te quiero Te quiero Te quiero Te quiero Te quiero Te quiero Te quiero Te quiero Te quiero Te quiero Te quiero Te quiero Te quiero Te quiero Te quiero Te quiero Te quiero Te quiero Te quiero Te quiero Te quiero Te quiero Te quiero Te quiero Te quiero Te quiero Te quiero Te quiero Te quiero Te quiero Te quiero Te quiero Te quiero Te quiero Te quiero Te quiero Te quiero Te quiero Te quiero Te quiero Te quiero Te quiero Te quiero Te quiero Te quiero Te quiero Te quiero Te quiero Te quiero Te quiero Te quiero Te quiero Te quiero Te quiero Te quiero Te quiero Te quiero Te quiero Te quiero Te quiero Te quiero Te quiero Te quiero Te quiero Te quiero Te quiero Te quiero Te quiero Te quiero Te quiero Te quiero Te quiero Te quiero Te quiero Te quiero Te quiero Te quiero Te quiero Te quiero Te quiero Te quiero Te quiero Te quiero Te quiero Te quiero Te quiero Te quiero Te quiero Te quiero Te quiero Te quiero Te quiero Te quiero Te quiero Te quiero Te quiero Te quiero Te quiero Te quiero Te quiero Te quiero Te quiero Te quiero Te quiero Te quiero Te quiero Te quiero Te quiero Te quiero Te quiero Te quiero Te quiero Te quiero Te quiero Te quiero Te quiero Te quiero Te quiero Te quiero Te quiero Te quiero Te quiero Te quiero Te quiero Te quiero Te quiero Te quiero Te quiero Te quiero Te quiero Te quiero Te quiero Te quiero Te quiero Te quiero Te quiero Te quiero Te quiero Te quiero Te quiero Te quiero Te quiero Te quiero Te quiero Te quiero Te quiero Te quiero Te quiero Te quiero Te quiero Te quiero Te quiero Te quiero Te quiero Te quiero Te quiero Te quiero Te quiero Te quiero Te quiero Te quiero Te quiero Te quiero Te quiero Te quiero Te quiero Te quiero Te quiero Te quiero Te quiero Te quiero Te quiero Te quiero Te quiero Te quiero Te quiero Te quiero Te quiero Te quiero Te quiero Te quiero Te quiero Te quiero Te quiero Te quiero Te quiero Te quiero Te quiero Te quiero \n"
     ]
    }
   ],
   "source": [
    "print(\"Te quiero \"*10000)"
   ]
  },
  {
   "cell_type": "code",
   "execution_count": 83,
   "metadata": {},
   "outputs": [
    {
     "name": "stdout",
     "output_type": "stream",
     "text": [
      "Amor, \n",
      "Amor, \n",
      "Amor, \n",
      " Nació de ti, nació de mi, de la esperanza\n"
     ]
    }
   ],
   "source": [
    "print(\"Amor, \\n\"*3,\"Nació de ti, nació de mi, de la esperanza\", sep=\" \")"
   ]
  },
  {
   "cell_type": "raw",
   "metadata": {},
   "source": [
    "Tip de la vida: Anotar cada error que tengan, qué tipo de error es: a fin de entenderlo."
   ]
  },
  {
   "cell_type": "code",
   "execution_count": 135,
   "metadata": {
    "collapsed": true
   },
   "outputs": [
    {
     "data": {
      "text/plain": [
       "'te amo te amo te amo te amo te amo te amo te amo te amo te amo te amo te amo te amo te amo te amo te amo te amo te amo te amo te amo te amo te amo te amo te amo te amo te amo te amo te amo te amo te amo te amo te amo te amo te amo te amo te amo te amo te amo te amo te amo te amo te amo te amo te amo te amo te amo te amo te amo te amo te amo te amo te amo te amo te amo te amo te amo te amo te amo te amo te amo te amo te amo te amo te amo te amo te amo te amo te amo te amo te amo te amo te amo te amo te amo te amo te amo te amo te amo te amo te amo te amo te amo te amo te amo te amo te amo te amo te amo te amo te amo te amo te amo te amo te amo te amo te amo te amo te amo te amo te amo te amo te amo te amo te amo te amo te amo te amo te amo te amo te amo te amo te amo te amo te amo te amo te amo te amo te amo te amo te amo te amo te amo te amo te amo te amo te amo te amo te amo te amo te amo te amo te amo te amo te amo te amo te amo te amo te amo te amo te amo te amo te amo te amo te amo te amo te amo te amo te amo te amo te amo te amo te amo te amo te amo te amo te amo te amo te amo te amo te amo te amo te amo te amo te amo te amo te amo te amo te amo te amo te amo te amo te amo te amo te amo te amo te amo te amo te amo te amo te amo te amo te amo te amo te amo te amo te amo te amo te amo te amo te amo te amo te amo te amo te amo te amo te amo te amo te amo te amo te amo te amo te amo te amo te amo te amo te amo te amo te amo te amo te amo te amo te amo te amo te amo te amo te amo te amo te amo te amo te amo te amo te amo te amo te amo te amo te amo te amo te amo te amo te amo te amo te amo te amo te amo te amo te amo te amo te amo te amo te amo te amo te amo te amo te amo te amo te amo te amo te amo te amo te amo te amo te amo te amo te amo te amo te amo te amo te amo te amo te amo te amo te amo te amo te amo te amo te amo te amo te amo te amo te amo te amo te amo te amo te amo te amo te amo te amo te amo te amo te amo te amo te amo te amo te amo te amo te amo te amo te amo te amo te amo te amo te amo te amo te amo te amo te amo te amo te amo te amo te amo te amo te amo te amo te amo te amo te amo te amo te amo te amo te amo te amo te amo te amo te amo te amo te amo te amo te amo te amo te amo te amo te amo te amo te amo te amo te amo te amo te amo te amo te amo te amo te amo te amo te amo te amo te amo te amo te amo te amo te amo te amo te amo te amo te amo te amo te amo te amo te amo te amo te amo te amo te amo te amo te amo te amo te amo te amo te amo te amo te amo te amo te amo te amo te amo te amo te amo te amo te amo te amo te amo te amo te amo te amo te amo te amo te amo te amo te amo te amo te amo te amo te amo te amo te amo te amo te amo te amo te amo te amo te amo te amo te amo te amo te amo te amo te amo te amo te amo te amo te amo te amo te amo te amo te amo te amo te amo te amo te amo te amo te amo te amo te amo te amo te amo te amo te amo te amo te amo te amo te amo te amo te amo te amo te amo te amo te amo te amo te amo te amo te amo te amo te amo te amo te amo te amo te amo te amo te amo te amo te amo te amo te amo te amo te amo te amo te amo te amo te amo te amo te amo te amo te amo te amo te amo te amo te amo te amo te amo te amo te amo te amo te amo te amo te amo te amo te amo te amo te amo te amo te amo te amo te amo te amo te amo te amo te amo te amo te amo te amo te amo te amo te amo te amo te amo te amo te amo te amo te amo te amo te amo te amo te amo te amo te amo te amo te amo te amo te amo te amo te amo te amo te amo te amo te amo te amo te amo te amo te amo te amo te amo te amo te amo te amo te amo te amo te amo te amo te amo te amo te amo te amo te amo te amo te amo te amo te amo te amo te amo te amo te amo te amo te amo te amo te amo te amo te amo te amo te amo te amo te amo te amo te amo te amo te amo te amo te amo te amo te amo te amo te amo te amo te amo te amo te amo te amo te amo te amo te amo te amo te amo te amo te amo te amo te amo te amo te amo te amo te amo te amo te amo te amo te amo te amo te amo te amo te amo te amo te amo te amo te amo te amo te amo te amo te amo te amo te amo te amo te amo te amo te amo te amo te amo te amo te amo te amo te amo te amo te amo te amo te amo te amo te amo te amo te amo te amo te amo te amo te amo te amo te amo te amo te amo te amo te amo te amo te amo te amo te amo te amo te amo te amo te amo te amo te amo te amo te amo te amo te amo te amo te amo te amo te amo te amo te amo te amo te amo te amo te amo te amo te amo te amo te amo te amo te amo te amo te amo te amo te amo te amo te amo te amo te amo te amo te amo te amo te amo te amo te amo te amo te amo te amo te amo te amo te amo te amo te amo te amo te amo te amo te amo te amo te amo te amo te amo te amo te amo te amo te amo te amo te amo te amo te amo te amo te amo te amo te amo te amo te amo te amo te amo te amo te amo te amo te amo te amo te amo te amo te amo te amo te amo te amo te amo te amo te amo te amo te amo te amo te amo te amo te amo te amo te amo te amo te amo te amo te amo te amo te amo te amo te amo te amo te amo te amo te amo te amo te amo te amo te amo te amo te amo te amo te amo te amo te amo te amo te amo te amo te amo te amo te amo te amo te amo te amo te amo te amo te amo te amo te amo te amo te amo te amo te amo te amo te amo te amo te amo te amo te amo te amo te amo te amo te amo te amo te amo te amo te amo te amo te amo te amo te amo te amo te amo te amo te amo te amo te amo te amo te amo te amo te amo te amo te amo te amo te amo te amo te amo te amo te amo te amo te amo te amo te amo te amo te amo te amo te amo te amo te amo te amo te amo te amo te amo te amo te amo te amo te amo te amo te amo te amo te amo te amo te amo te amo te amo te amo te amo te amo te amo te amo te amo te amo te amo te amo te amo te amo te amo te amo te amo te amo te amo te amo te amo te amo te amo te amo te amo te amo te amo te amo te amo te amo te amo te amo te amo te amo te amo te amo te amo te amo te amo te amo te amo te amo te amo te amo te amo te amo te amo te amo te amo te amo te amo te amo te amo te amo te amo te amo te amo te amo te amo te amo te amo te amo te amo te amo te amo te amo te amo te amo te amo te amo te amo te amo te amo te amo te amo te amo te amo te amo te amo te amo te amo te amo te amo te amo te amo te amo te amo te amo te amo te amo te amo te amo te amo te amo te amo te amo te amo te amo te amo te amo te amo te amo te amo te amo te amo te amo te amo te amo te amo te amo te amo te amo te amo te amo te amo te amo te amo te amo te amo te amo te amo te amo te amo te amo te amo te amo te amo te amo te amo te amo te amo te amo te amo te amo te amo te amo te amo te amo te amo te amo te amo te amo te amo te amo te amo te amo te amo te amo te amo te amo te amo te amo te amo te amo te amo te amo te amo te amo te amo te amo te amo te amo te amo te amo te amo te amo te amo te amo te amo te amo te amo te amo te amo te amo te amo te amo te amo te amo te amo te amo te amo te amo te amo te amo te amo te amo te amo te amo te amo te amo '"
      ]
     },
     "execution_count": 135,
     "metadata": {},
     "output_type": "execute_result"
    }
   ],
   "source": [
    "#Duda 5\n",
    "novio = \"te amo \"*1000\n",
    "novio"
   ]
  },
  {
   "cell_type": "markdown",
   "metadata": {
    "collapsed": true
   },
   "source": [
    "## Ejercicio 9"
   ]
  },
  {
   "cell_type": "code",
   "execution_count": 84,
   "metadata": {},
   "outputs": [
    {
     "name": "stdout",
     "output_type": "stream",
     "text": [
      "Months: \n",
      "Jan\n",
      "Feb\n",
      "March\n",
      "April\n"
     ]
    }
   ],
   "source": [
    "months = \"\\nJan\\nFeb\\nMarch\\nApril\"\n",
    "print(\"Months:\",months)"
   ]
  },
  {
   "cell_type": "code",
   "execution_count": 85,
   "metadata": {},
   "outputs": [
    {
     "name": "stdout",
     "output_type": "stream",
     "text": [
      "\n",
      "Algo curioso pasa con esto.\n",
      "Puedo imprimir múltiples líneas de código\n",
      "sin tener que estar abriendo y cerrando comillas\n",
      "ni poniendo caracteres especiales\n",
      "\n"
     ]
    }
   ],
   "source": [
    "print(\"\"\"\n",
    "Algo curioso pasa con esto.\n",
    "Puedo imprimir múltiples líneas de código\n",
    "sin tener que estar abriendo y cerrando comillas\n",
    "ni poniendo caracteres especiales\n",
    "\"\"\")"
   ]
  },
  {
   "cell_type": "code",
   "execution_count": null,
   "metadata": {},
   "outputs": [],
   "source": []
  },
  {
   "cell_type": "markdown",
   "metadata": {},
   "source": [
    "## Ejercicio 11"
   ]
  },
  {
   "cell_type": "code",
   "execution_count": 138,
   "metadata": {},
   "outputs": [
    {
     "name": "stdout",
     "output_type": "stream",
     "text": [
      "hola cómo estas?"
     ]
    }
   ],
   "source": [
    "print(\"hola\",\"cómo estas\",end='?')"
   ]
  },
  {
   "cell_type": "code",
   "execution_count": 140,
   "metadata": {},
   "outputs": [
    {
     "data": {
      "text/plain": [
       "5"
      ]
     },
     "execution_count": 140,
     "metadata": {},
     "output_type": "execute_result"
    }
   ],
   "source": [
    "5"
   ]
  },
  {
   "cell_type": "code",
   "execution_count": 86,
   "metadata": {},
   "outputs": [
    {
     "name": "stdout",
     "output_type": "stream",
     "text": [
      "55\n"
     ]
    }
   ],
   "source": [
    "variable1 = input()"
   ]
  },
  {
   "cell_type": "code",
   "execution_count": 87,
   "metadata": {},
   "outputs": [
    {
     "data": {
      "text/plain": [
       "'55'"
      ]
     },
     "execution_count": 87,
     "metadata": {},
     "output_type": "execute_result"
    }
   ],
   "source": [
    "variable1"
   ]
  },
  {
   "cell_type": "code",
   "execution_count": 145,
   "metadata": {},
   "outputs": [
    {
     "name": "stdout",
     "output_type": "stream",
     "text": [
      "¿Qué edad tienes?\n",
      "10\n"
     ]
    }
   ],
   "source": [
    "print(\"¿Qué edad tienes?\")\n",
    "edad = input()"
   ]
  },
  {
   "cell_type": "code",
   "execution_count": 88,
   "metadata": {},
   "outputs": [],
   "source": [
    "input?"
   ]
  },
  {
   "cell_type": "code",
   "execution_count": 146,
   "metadata": {},
   "outputs": [
    {
     "data": {
      "text/plain": [
       "'10'"
      ]
     },
     "execution_count": 146,
     "metadata": {},
     "output_type": "execute_result"
    }
   ],
   "source": [
    "edad"
   ]
  },
  {
   "cell_type": "code",
   "execution_count": 148,
   "metadata": {},
   "outputs": [
    {
     "name": "stdout",
     "output_type": "stream",
     "text": [
      "<class 'str'>\n"
     ]
    }
   ],
   "source": [
    "print(type(edad))"
   ]
  },
  {
   "cell_type": "code",
   "execution_count": 89,
   "metadata": {},
   "outputs": [
    {
     "name": "stdout",
     "output_type": "stream",
     "text": [
      "How old are you? 26\n",
      "How tall are you? 1.72\n",
      "How much do you weigh? 00\n",
      "<class 'str'>\n",
      "<class 'str'>\n",
      "<class 'str'>\n",
      "So, you're  26  years old,  1.72 tall and  00  heavy.\n"
     ]
    }
   ],
   "source": [
    "print(\"How old are you\", end='? ')\n",
    "age = input()\n",
    "print(\"How tall are you?\", end=' ')\n",
    "height = input()\n",
    "print(\"How much do you weigh?\", end=' ')\n",
    "weight = input()\n",
    "print(type(age))\n",
    "print(type(height))\n",
    "print(type(weight))\n",
    "print(\"So, you're \", str(age),\" years old, \",str(height),\"tall and \",str(weight),\" heavy.\")"
   ]
  },
  {
   "cell_type": "code",
   "execution_count": 90,
   "metadata": {},
   "outputs": [],
   "source": [
    "edad = \"hola\""
   ]
  },
  {
   "cell_type": "code",
   "execution_count": 91,
   "metadata": {},
   "outputs": [
    {
     "data": {
      "text/plain": [
       "str"
      ]
     },
     "execution_count": 91,
     "metadata": {},
     "output_type": "execute_result"
    }
   ],
   "source": [
    "type(edad)"
   ]
  },
  {
   "cell_type": "code",
   "execution_count": 3,
   "metadata": {},
   "outputs": [
    {
     "data": {
      "text/plain": [
       "False"
      ]
     },
     "execution_count": 3,
     "metadata": {},
     "output_type": "execute_result"
    }
   ],
   "source": [
    "type(edad) == int"
   ]
  },
  {
   "cell_type": "code",
   "execution_count": 4,
   "metadata": {},
   "outputs": [
    {
     "data": {
      "text/plain": [
       "True"
      ]
     },
     "execution_count": 4,
     "metadata": {},
     "output_type": "execute_result"
    }
   ],
   "source": [
    "type(edad) != int"
   ]
  },
  {
   "cell_type": "markdown",
   "metadata": {},
   "source": [
    "## Ejercicio 12"
   ]
  },
  {
   "cell_type": "code",
   "execution_count": 12,
   "metadata": {},
   "outputs": [
    {
     "name": "stdout",
     "output_type": "stream",
     "text": [
      "How old are you?a\n",
      "How tall are you?a\n",
      "How much do you weigh?a\n",
      "So, you're  a  years old,  a tall and  a  heavy.\n"
     ]
    }
   ],
   "source": [
    "age = input(\"How old are you?\")\n",
    "height = input(\"How tall are you?\")\n",
    "weight = input(\"How much do you weigh?\")\n",
    "\n",
    "print(\"So, you're \", str(age),\" years old, \",str(height),\"tall and \",str(weight),\" heavy.\")"
   ]
  },
  {
   "cell_type": "code",
   "execution_count": null,
   "metadata": {},
   "outputs": [],
   "source": []
  }
 ],
 "metadata": {
  "kernelspec": {
   "display_name": "Python 3",
   "language": "python",
   "name": "python3"
  },
  "language_info": {
   "codemirror_mode": {
    "name": "ipython",
    "version": 3
   },
   "file_extension": ".py",
   "mimetype": "text/x-python",
   "name": "python",
   "nbconvert_exporter": "python",
   "pygments_lexer": "ipython3",
   "version": "3.6.3"
  }
 },
 "nbformat": 4,
 "nbformat_minor": 2
}
