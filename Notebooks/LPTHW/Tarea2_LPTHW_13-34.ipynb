{
 "cells": [
  {
   "cell_type": "markdown",
   "metadata": {},
   "source": [
    "# Tarea 2: Ejercicios Learn Python the Hard Way 13 al 34\n",
    "\n",
    "(Python 3) "
   ]
  },
  {
   "cell_type": "markdown",
   "metadata": {},
   "source": [
    "Al igual que la ves anterior vamos a utilizar este notebook para comentar las dudas de la tarea y poner los ejemplos más destacados para repasar. No pretendemos ser exhaustivos respecto a los ejemplos del libro"
   ]
  },
  {
   "cell_type": "code",
   "execution_count": 1,
   "metadata": {},
   "outputs": [
    {
     "name": "stdout",
     "output_type": "stream",
     "text": [
      "/Users/jpdebotton/Google Drive_jp_jpdebotton.com/JPdeBotton/Cursos/Intro a Ciencia de Datos - Mayo 2018/Open-Content/Semana_3/Tarea_revision\r\n"
     ]
    }
   ],
   "source": [
    "!pwd"
   ]
  },
  {
   "cell_type": "markdown",
   "metadata": {},
   "source": [
    "## Ejercicio 13"
   ]
  },
  {
   "cell_type": "markdown",
   "metadata": {},
   "source": [
    "Vamos a checar como hacer unpacking de variables utilizando scripts y terminando regresamos a nuestro libro. El unpacking no funciona dentro de Jupyter porque las variables no están empacadas, Jupyter es un ambiente donde todas las variables que hemos corrido se encuentran cargadas en el ambiente."
   ]
  },
  {
   "cell_type": "markdown",
   "metadata": {},
   "source": [
    "Tal vez la lección más importante que quiere hacer el libro es el hecho de que los módulos te dan \"features\", es decir, te dan la habilidad pre-programada de hacer ciertas cosas."
   ]
  },
  {
   "cell_type": "markdown",
   "metadata": {},
   "source": [
    "## Ejercicio 15"
   ]
  },
  {
   "cell_type": "markdown",
   "metadata": {},
   "source": [
    "Primero, vamos a nuestro editor de texto favorito (Sublime Text 2 o Atom) y creamos un archivo .txt que guardamos con el nombre \"ex15_sample.txt\" en la misma carpeta donde se encuentra nuestro libro de Jupyter. "
   ]
  },
  {
   "cell_type": "markdown",
   "metadata": {},
   "source": [
    "El siguiente paso es leer el archivo y eso se logra con la siguiente sintaxis open(\"filename\",\"mode\"). Esto crea un objeto del tipo \"file\" que contiene el contenido de nuestro archivo dentro de Python (valga la redundancia). Así:"
   ]
  },
  {
   "cell_type": "code",
   "execution_count": 3,
   "metadata": {},
   "outputs": [],
   "source": [
    "txt = open(\"ex15_sample.txt\",\"r\")"
   ]
  },
  {
   "cell_type": "markdown",
   "metadata": {},
   "source": [
    "Podemos utilizar el método read() que pertenece al objeto que guardamos en la variable txt para leer su contenido."
   ]
  },
  {
   "cell_type": "code",
   "execution_count": 4,
   "metadata": {},
   "outputs": [
    {
     "name": "stdout",
     "output_type": "stream",
     "text": [
      "Hola yo soy el archivo .txt de Juan Pablo.\n",
      "Vamos a aprender primero como crearme y leerme\n",
      "para posteriormente manipularme :)Como podemos ver se pueden escribir\n",
      "múltiples líneas de código\n",
      "y agregarlas al final de nuestro archivo dentro de Python\n"
     ]
    }
   ],
   "source": [
    "print(txt.read()) "
   ]
  },
  {
   "cell_type": "code",
   "execution_count": 6,
   "metadata": {},
   "outputs": [
    {
     "name": "stdout",
     "output_type": "stream",
     "text": [
      "Este es un texto super padre, bueno... la verdad no :'(\n"
     ]
    }
   ],
   "source": [
    "txt2 = open(\"ex15_maria.txt\",\"r\")\n",
    "print(txt2.read()) "
   ]
  },
  {
   "cell_type": "markdown",
   "metadata": {},
   "source": [
    "Una vez que terminamos de utilizar el archivo debemos cerrarlo para liberar los recursos que utiliza el archivo en el sistema y evitar posibles errores (como borrar el archivo por ejemplo)."
   ]
  },
  {
   "cell_type": "code",
   "execution_count": 8,
   "metadata": {},
   "outputs": [],
   "source": [
    "txt2.close()"
   ]
  },
  {
   "cell_type": "markdown",
   "metadata": {},
   "source": [
    "De esta manear si intentamos volver a leer el archivo nos marcará error porque el objeto se ha borrado de memoria."
   ]
  },
  {
   "cell_type": "code",
   "execution_count": 9,
   "metadata": {},
   "outputs": [
    {
     "ename": "ValueError",
     "evalue": "I/O operation on closed file.",
     "output_type": "error",
     "traceback": [
      "\u001b[0;31m-----------------------------------------------------\u001b[0m",
      "\u001b[0;31mValueError\u001b[0m          Traceback (most recent call last)",
      "\u001b[0;32m<ipython-input-9-3443aeaa05cc>\u001b[0m in \u001b[0;36m<module>\u001b[0;34m()\u001b[0m\n\u001b[0;32m----> 1\u001b[0;31m \u001b[0mprint\u001b[0m\u001b[0;34m(\u001b[0m\u001b[0mtxt\u001b[0m\u001b[0;34m.\u001b[0m\u001b[0mread\u001b[0m\u001b[0;34m(\u001b[0m\u001b[0;34m)\u001b[0m\u001b[0;34m)\u001b[0m\u001b[0;34m\u001b[0m\u001b[0m\n\u001b[0m",
      "\u001b[0;31mValueError\u001b[0m: I/O operation on closed file."
     ]
    }
   ],
   "source": [
    "print(txt.read())"
   ]
  },
  {
   "cell_type": "markdown",
   "metadata": {},
   "source": [
    "Volvemos a abrir el archivo esta vez para escribir en él, pero esta vez lo abriremos en modo Append ('a'). En total hay 4 modos posibles para abrir archivos: read, write y append"
   ]
  },
  {
   "cell_type": "code",
   "execution_count": 15,
   "metadata": {},
   "outputs": [],
   "source": [
    "texto = open('ex15_sample.txt','a')"
   ]
  },
  {
   "cell_type": "code",
   "execution_count": 16,
   "metadata": {},
   "outputs": [
    {
     "data": {
      "text/plain": [
       "121"
      ]
     },
     "execution_count": 16,
     "metadata": {},
     "output_type": "execute_result"
    }
   ],
   "source": [
    "texto.write(\"\\nComo podemos ver se pueden escribir\\nmúltiples líneas de código\\ny agregarlas al final de nuestro archivo dentro de Python\")"
   ]
  },
  {
   "cell_type": "code",
   "execution_count": 17,
   "metadata": {},
   "outputs": [],
   "source": [
    "texto.close()"
   ]
  },
  {
   "cell_type": "code",
   "execution_count": 46,
   "metadata": {},
   "outputs": [
    {
     "name": "stdout",
     "output_type": "stream",
     "text": [
      "Hola yo soy el archivo .txt de Juan Pablo.\n",
      "Vamos a aprender primero como crearme y leerme\n",
      "para posteriormente manipularme :)Como podemos ver se pueden escribir\n",
      "múltiples líneas de código\n",
      "y agregarlas al final de nuestro archivo dentro de Python\n"
     ]
    }
   ],
   "source": [
    "texto = open('ex15_sample.txt')\n",
    "print(texto.read())\n",
    "texto.close()"
   ]
  },
  {
   "cell_type": "code",
   "execution_count": 47,
   "metadata": {},
   "outputs": [
    {
     "ename": "ValueError",
     "evalue": "must have exactly one of create/read/write/append mode",
     "output_type": "error",
     "traceback": [
      "\u001b[0;31m---------------------------------------------------------------------------\u001b[0m",
      "\u001b[0;31mValueError\u001b[0m                                Traceback (most recent call last)",
      "\u001b[0;32m<ipython-input-47-7db0f9a11b81>\u001b[0m in \u001b[0;36m<module>\u001b[0;34m()\u001b[0m\n\u001b[0;32m----> 1\u001b[0;31m \u001b[0mtexto\u001b[0m \u001b[0;34m=\u001b[0m \u001b[0mopen\u001b[0m\u001b[0;34m(\u001b[0m\u001b[0;34m'ex15_sample.txt'\u001b[0m\u001b[0;34m,\u001b[0m\u001b[0;34m'rw'\u001b[0m\u001b[0;34m)\u001b[0m\u001b[0;34m\u001b[0m\u001b[0m\n\u001b[0m",
      "\u001b[0;31mValueError\u001b[0m: must have exactly one of create/read/write/append mode"
     ]
    }
   ],
   "source": [
    "texto = open('ex15_sample.txt','rw') #Vamos a leer el mensaje de error. Que cool! \n",
    "#Los 4 modos posibles para abrir un objeto tipo file"
   ]
  },
  {
   "cell_type": "markdown",
   "metadata": {},
   "source": [
    "## Ejercicio 17"
   ]
  },
  {
   "cell_type": "code",
   "execution_count": 12,
   "metadata": {
    "collapsed": true
   },
   "outputs": [],
   "source": [
    "texto_copiar = open(\"from_file.txt\").read()"
   ]
  },
  {
   "cell_type": "code",
   "execution_count": 13,
   "metadata": {
    "collapsed": true
   },
   "outputs": [
    {
     "name": "stdout",
     "output_type": "stream",
     "text": [
      "- ¿Bueno?\n",
      "- si, ¿si, Thalía?, ¿hablas tú?\n",
      "- sí, ¿Quién habla?\n",
      "- Erick, ¿Cómo estás?\n",
      "- Bien, ¿Y tú?\n",
      "- Oye, pues hoy hay una función muy buena,\n",
      "quería ver si querías ir al cine.\n",
      "- ¿Ahorita?\n",
      "- Es a las ocho.\n",
      "- Es que me da pena.\n",
      "- pero ¿Por qué?\n",
      "- pues porque hace mucho no te veo.\n",
      "- Yo tampoco pero vamos, ¿no?\n",
      "- No sé, déjame ver.\n",
      "- ¿Qué tienes qué ver?\n",
      "- Tengo ver..., que ver, pues... ¡Pedir permiso!.\n",
      "- ¿Y a quién?, pues pídele permiso.\n",
      "- Es que ahorita no está mi mamá.\n",
      "- Entonces, ¿me hablas o te hablo al rato?\n",
      "- ¡No, no háblame al rato!\n",
      "- O.k.\n",
      "- ¡Oye!, pero no me cuelgues.\n",
      "- ¿Porqué no?\n",
      "- Porque quiero oir tu voz. - !Ay! - (risas)\n"
     ]
    }
   ],
   "source": [
    "print(texto_copiar)"
   ]
  },
  {
   "cell_type": "code",
   "execution_count": 15,
   "metadata": {},
   "outputs": [
    {
     "data": {
      "text/plain": [
       "638"
      ]
     },
     "execution_count": 15,
     "metadata": {},
     "output_type": "execute_result"
    }
   ],
   "source": [
    "open(mode=\"w\",file=\"to_file.txt\").write(texto_copiar)"
   ]
  },
  {
   "cell_type": "code",
   "execution_count": 16,
   "metadata": {
    "collapsed": true
   },
   "outputs": [
    {
     "name": "stdout",
     "output_type": "stream",
     "text": [
      "- ¿Bueno?\n",
      "- si, ¿si, Thalía?, ¿hablas tú?\n",
      "- sí, ¿Quién habla?\n",
      "- Erick, ¿Cómo estás?\n",
      "- Bien, ¿Y tú?\n",
      "- Oye, pues hoy hay una función muy buena,\n",
      "quería ver si querías ir al cine.\n",
      "- ¿Ahorita?\n",
      "- Es a las ocho.\n",
      "- Es que me da pena.\n",
      "- pero ¿Por qué?\n",
      "- pues porque hace mucho no te veo.\n",
      "- Yo tampoco pero vamos, ¿no?\n",
      "- No sé, déjame ver.\n",
      "- ¿Qué tienes qué ver?\n",
      "- Tengo ver..., que ver, pues... ¡Pedir permiso!.\n",
      "- ¿Y a quién?, pues pídele permiso.\n",
      "- Es que ahorita no está mi mamá.\n",
      "- Entonces, ¿me hablas o te hablo al rato?\n",
      "- ¡No, no háblame al rato!\n",
      "- O.k.\n",
      "- ¡Oye!, pero no me cuelgues.\n",
      "- ¿Porqué no?\n",
      "- Porque quiero oir tu voz. - !Ay! - (risas)\n"
     ]
    }
   ],
   "source": [
    "nuevo_archivo = open(\"to_file.txt\",\"r\")\n",
    "print(nuevo_archivo.read())\n",
    "nuevo_archivo.close()"
   ]
  },
  {
   "cell_type": "code",
   "execution_count": 101,
   "metadata": {
    "collapsed": true
   },
   "outputs": [
    {
     "name": "stdout",
     "output_type": "stream",
     "text": [
      "- ¿Bueno?\n",
      "- si, ¿si, Thalía?, ¿hablas tú?\n",
      "- sí, ¿Quién habla?\n",
      "- Erick, ¿Cómo estás?\n",
      "- Bien, ¿Y tú?\n",
      "- Oye, pues hoy hay una función muy buena,\n",
      "quería ver si querías ir al cine.\n",
      "- ¿Ahorita?\n",
      "- Es a las ocho.\n",
      "- Es que me da pena.\n",
      "- pero ¿Por qué?\n",
      "- pues porque hace mucho no te veo.\n",
      "- Yo tampoco pero vamos, ¿no?\n",
      "- No sé, déjame ver.\n",
      "- ¿Qué tienes qué ver?\n",
      "- Tengo ver..., que ver, pues... ¡Pedir permiso!.\n",
      "- ¿Y a quién?, pues pídele permiso.\n",
      "- Es que ahorita no está mi mamá.\n",
      "- Entonces, ¿me hablas o te hablo al rato?\n",
      "- ¡No, no háblame al rato!\n",
      "- O.k.\n",
      "- ¡Oye!, pero no me cuelgues.\n",
      "- ¿Porqué no?\n",
      "- Porque quiero oir tu voz. - !Ay! - (risas)\n"
     ]
    }
   ],
   "source": [
    "#Es equivalente a lo de arriba\n",
    "open(mode=\"w\",file=\"to_file.txt\").write(texto_copiar)\n",
    "print(open(mode=\"r\",file=\"to_file.txt\").read())"
   ]
  },
  {
   "cell_type": "code",
   "execution_count": 97,
   "metadata": {
    "collapsed": true
   },
   "outputs": [
    {
     "name": "stdout",
     "output_type": "stream",
     "text": [
      "- ¿Bueno?\n",
      "- si, ¿si, Thalía?, ¿hablas tú?\n",
      "- sí, ¿Quién habla?\n",
      "- Erick, ¿Cómo estás?\n",
      "- Bien, ¿Y tú?\n",
      "- Oye, pues hoy hay una función muy buena,\n",
      "quería ver si querías ir al cine.\n",
      "- ¿Ahorita?\n",
      "- Es a las ocho.\n",
      "- Es que me da pena.\n",
      "- pero ¿Por qué?\n",
      "- pues porque hace mucho no te veo.\n",
      "- Yo tampoco pero vamos, ¿no?\n",
      "- No sé, déjame ver.\n",
      "- ¿Qué tienes qué ver?\n",
      "- Tengo ver..., que ver, pues... ¡Pedir permiso!.\n",
      "- ¿Y a quién?, pues pídele permiso.\n",
      "- Es que ahorita no está mi mamá.\n",
      "- Entonces, ¿me hablas o te hablo al rato?\n",
      "- ¡No, no háblame al rato!\n",
      "- O.k.\n",
      "- ¡Oye!, pero no me cuelgues.\n",
      "- ¿Porqué no?\n",
      "- Porque quiero oir tu voz. - !Ay! - (risas)\n"
     ]
    }
   ],
   "source": [
    "print(texto_copiar)"
   ]
  },
  {
   "cell_type": "markdown",
   "metadata": {},
   "source": [
    "## Ejercicio 20"
   ]
  },
  {
   "cell_type": "code",
   "execution_count": 17,
   "metadata": {},
   "outputs": [],
   "source": [
    "def print_file_contents(filename):\n",
    "    #Imprime el contenido del archivo que pases como parámetro\n",
    "    contenido = open(filename,\"r\").read()\n",
    "    print(contenido)\n",
    "    return contenido"
   ]
  },
  {
   "cell_type": "code",
   "execution_count": 18,
   "metadata": {},
   "outputs": [
    {
     "name": "stdout",
     "output_type": "stream",
     "text": [
      "La gente dice sincera \n",
      "cada que se hace un casorio \n",
      "Que el novio que entre la quiera \n",
      "Si no que le hagan velorio. \n",
      "\n",
      "Para esta novia no hay pena \n",
      "puede ser un buen marido \n",
      "Por que Bueno es cosa buena \n",
      "por lo menos de apellido. \n",
      "\n",
      "Jorge Bueno es muy bueno \n",
      "hijo de Bueno también \n",
      "y tu abuelo hay que bueno \n",
      "que se llamara como él. \n"
     ]
    },
    {
     "data": {
      "text/plain": [
       "'La gente dice sincera \\ncada que se hace un casorio \\nQue el novio que entre la quiera \\nSi no que le hagan velorio. \\n\\nPara esta novia no hay pena \\npuede ser un buen marido \\nPor que Bueno es cosa buena \\npor lo menos de apellido. \\n\\nJorge Bueno es muy bueno \\nhijo de Bueno también \\ny tu abuelo hay que bueno \\nque se llamara como él. '"
      ]
     },
     "execution_count": 18,
     "metadata": {},
     "output_type": "execute_result"
    }
   ],
   "source": [
    "print_file_contents(\"sample1.txt\")"
   ]
  },
  {
   "cell_type": "code",
   "execution_count": 19,
   "metadata": {
    "collapsed": true
   },
   "outputs": [
    {
     "name": "stdout",
     "output_type": "stream",
     "text": [
      "La gente dice sincera \n",
      "cada que se hace un casorio \n",
      "Que el novio que entre la quiera \n",
      "Si no que le hagan velorio. \n",
      "\n",
      "Para esta novia no hay pena \n",
      "puede ser un buen marido \n",
      "Por que Bueno es cosa buena \n",
      "por lo menos de apellido. \n",
      "\n",
      "Jorge Bueno es muy bueno \n",
      "hijo de Bueno también \n",
      "y tu abuelo hay que bueno \n",
      "que se llamara como él. \n"
     ]
    }
   ],
   "source": [
    "texto_string = print_file_contents(\"sample1.txt\")"
   ]
  },
  {
   "cell_type": "code",
   "execution_count": 20,
   "metadata": {
    "collapsed": true
   },
   "outputs": [
    {
     "data": {
      "text/plain": [
       "'La gente dice sincera \\ncada que se hace un casorio \\nQue el novio que entre la quiera \\nSi no que le hagan velorio. \\n\\nPara esta novia no hay pena \\npuede ser un buen marido \\nPor que Bueno es cosa buena \\npor lo menos de apellido. \\n\\nJorge Bueno es muy bueno \\nhijo de Bueno también \\ny tu abuelo hay que bueno \\nque se llamara como él. '"
      ]
     },
     "execution_count": 20,
     "metadata": {},
     "output_type": "execute_result"
    }
   ],
   "source": [
    "texto_string"
   ]
  },
  {
   "cell_type": "code",
   "execution_count": null,
   "metadata": {
    "collapsed": true
   },
   "outputs": [],
   "source": [
    "print_file_contents(\"sample2.txt\")"
   ]
  },
  {
   "cell_type": "markdown",
   "metadata": {},
   "source": [
    "## Ejercicio 22: Vocabulario y Python Basics"
   ]
  },
  {
   "cell_type": "markdown",
   "metadata": {},
   "source": [
    "Tip de la vida: Recordar el vocabulario y los basics de Python de memoria. Te permite utilizar tu \"memoria RAM\" para poder aprender nuevos conceptos y proponer soluciones creativas."
   ]
  },
  {
   "cell_type": "code",
   "execution_count": null,
   "metadata": {},
   "outputs": [],
   "source": []
  },
  {
   "cell_type": "code",
   "execution_count": null,
   "metadata": {},
   "outputs": [],
   "source": []
  },
  {
   "cell_type": "markdown",
   "metadata": {},
   "source": [
    "## Ejercicio 25"
   ]
  },
  {
   "cell_type": "markdown",
   "metadata": {},
   "source": [
    "Este ejercicio nos enseña a importar un script con nuestras funciones para utilizar dentro de jupyter"
   ]
  },
  {
   "cell_type": "code",
   "execution_count": 29,
   "metadata": {},
   "outputs": [],
   "source": [
    "#import mi_libreria as mi_apodo_para_mi_libreria\n",
    "import ex25 as lib"
   ]
  },
  {
   "cell_type": "code",
   "execution_count": 41,
   "metadata": {},
   "outputs": [
    {
     "data": {
      "text/plain": [
       "['Este',\n",
       " 'ejercicio',\n",
       " 'nos',\n",
       " 'enseña',\n",
       " 'a',\n",
       " 'dividir',\n",
       " 'frases',\n",
       " 'en',\n",
       " 'palabras']"
      ]
     },
     "execution_count": 41,
     "metadata": {},
     "output_type": "execute_result"
    }
   ],
   "source": [
    "texto_isaac = \"Este ejercicio nos enseña a dividir frases en palabras\"\n",
    "palabras_texto_isaac = texto_isaac.split(\" \")\n",
    "palabras_texto_isaac"
   ]
  },
  {
   "cell_type": "code",
   "execution_count": 42,
   "metadata": {},
   "outputs": [
    {
     "data": {
      "text/plain": [
       "9"
      ]
     },
     "execution_count": 42,
     "metadata": {},
     "output_type": "execute_result"
    }
   ],
   "source": [
    "len(palabras_texto_isaac.pop(1))"
   ]
  },
  {
   "cell_type": "code",
   "execution_count": 34,
   "metadata": {},
   "outputs": [
    {
     "data": {
      "text/plain": [
       "['Este', 'ejercicio', 'nos', 'enseña', 'a', 'dividir', 'frases', 'en']"
      ]
     },
     "execution_count": 34,
     "metadata": {},
     "output_type": "execute_result"
    }
   ],
   "source": [
    "palabras_texto_isaac"
   ]
  },
  {
   "cell_type": "code",
   "execution_count": 49,
   "metadata": {},
   "outputs": [
    {
     "data": {
      "text/plain": [
       "['las', 'galletas', 'de', 'la', 'clase', 'son', 'ricas']"
      ]
     },
     "execution_count": 49,
     "metadata": {},
     "output_type": "execute_result"
    }
   ],
   "source": [
    "oracion = \"las galletas de la clase son ricas\"\n",
    "palabras = lib.break_words(oracion)\n",
    "palabras"
   ]
  },
  {
   "cell_type": "code",
   "execution_count": 50,
   "metadata": {},
   "outputs": [
    {
     "data": {
      "text/plain": [
       "['clase', 'de', 'galletas', 'la', 'las', 'ricas', 'son']"
      ]
     },
     "execution_count": 50,
     "metadata": {},
     "output_type": "execute_result"
    }
   ],
   "source": [
    "palabras_ordenadas = lib.sort_words(palabras)\n",
    "palabras_ordenadas"
   ]
  },
  {
   "cell_type": "code",
   "execution_count": 51,
   "metadata": {},
   "outputs": [
    {
     "name": "stdout",
     "output_type": "stream",
     "text": [
      "las\n",
      "ricas\n"
     ]
    },
    {
     "data": {
      "text/plain": [
       "['galletas', 'de', 'la', 'clase', 'son']"
      ]
     },
     "execution_count": 51,
     "metadata": {},
     "output_type": "execute_result"
    }
   ],
   "source": [
    "lib.print_first_word(palabras)\n",
    "lib.print_last_word(palabras)\n",
    "palabras"
   ]
  },
  {
   "cell_type": "code",
   "execution_count": 109,
   "metadata": {},
   "outputs": [
    {
     "name": "stdout",
     "output_type": "stream",
     "text": [
      "All\n",
      "who\n"
     ]
    },
    {
     "data": {
      "text/plain": [
       "['come', 'good', 'things', 'those', 'to', 'wait.']"
      ]
     },
     "execution_count": 109,
     "metadata": {},
     "output_type": "execute_result"
    }
   ],
   "source": [
    "lib.print_first_word(palabras_ordenadas)\n",
    "lib.print_last_word(palabras_ordenadas)\n",
    "palabras_ordenadas"
   ]
  },
  {
   "cell_type": "code",
   "execution_count": 53,
   "metadata": {},
   "outputs": [
    {
     "data": {
      "text/plain": [
       "['clase', 'de', 'galletas', 'la', 'las', 'ricas', 'son']"
      ]
     },
     "execution_count": 53,
     "metadata": {},
     "output_type": "execute_result"
    }
   ],
   "source": [
    "palabras_ordenadas = lib.sort_sentence(oracion)\n",
    "palabras_ordenadas"
   ]
  },
  {
   "cell_type": "code",
   "execution_count": 111,
   "metadata": {},
   "outputs": [
    {
     "name": "stdout",
     "output_type": "stream",
     "text": [
      "All\n",
      "wait.\n",
      "All\n",
      "who\n"
     ]
    }
   ],
   "source": [
    "lib.print_first_and_last(sentence)\n",
    "lib.print_first_and_last_sorted(sentence)"
   ]
  },
  {
   "cell_type": "markdown",
   "metadata": {},
   "source": [
    "## Ejercicio 27"
   ]
  },
  {
   "cell_type": "markdown",
   "metadata": {},
   "source": [
    "Este ejercicio es un repaso de los valores lógicos y las tablas de verdad https://learnpythonthehardway.org/python3/ex27.html"
   ]
  },
  {
   "cell_type": "code",
   "execution_count": null,
   "metadata": {},
   "outputs": [],
   "source": []
  },
  {
   "cell_type": "code",
   "execution_count": null,
   "metadata": {},
   "outputs": [],
   "source": []
  },
  {
   "cell_type": "markdown",
   "metadata": {},
   "source": [
    "## Ejercicio 30: Else and If"
   ]
  },
  {
   "cell_type": "markdown",
   "metadata": {},
   "source": [
    "Vamos a tratar de descomponer e ir paso a paso este ejercicio que utiliza statements condicionales."
   ]
  },
  {
   "cell_type": "code",
   "execution_count": 54,
   "metadata": {},
   "outputs": [],
   "source": [
    "personas = 30\n",
    "coches = 40\n",
    "camiones = 15"
   ]
  },
  {
   "cell_type": "code",
   "execution_count": 55,
   "metadata": {},
   "outputs": [
    {
     "name": "stdout",
     "output_type": "stream",
     "text": [
      "Deberíamos irnos en coche\n"
     ]
    }
   ],
   "source": [
    "if coches > personas:\n",
    "    print(\"Deberíamos irnos en coche\")\n",
    "elif coches < personas:\n",
    "    print(\"No deberíamos irnos en coche\")\n",
    "else:\n",
    "    print(\"Alcanza un coche por persona\")"
   ]
  },
  {
   "cell_type": "code",
   "execution_count": null,
   "metadata": {
    "collapsed": true
   },
   "outputs": [],
   "source": [
    "\"\"\"\n",
    "if condicion:\n",
    "    #Instrucciones si se cumple condicion1\n",
    "elif condicion2:\n",
    "    #Instrucciones si se cumple condicion2 y no condicion1\n",
    "else:\n",
    "    #Si no se cumplen la condicion1 ni la condicion2\n",
    "\n",
    "#Condición debe dar una variable booleana: True or False\n",
    "#Elif\n",
    "\"\"\""
   ]
  },
  {
   "cell_type": "code",
   "execution_count": 57,
   "metadata": {},
   "outputs": [
    {
     "name": "stdout",
     "output_type": "stream",
     "text": [
      "Menos camiones que coches\n"
     ]
    }
   ],
   "source": [
    "if camiones > coches:\n",
    "    print(\"Más camiones que coches\")\n",
    "elif camiones < coches:\n",
    "    print(\"Menos camiones que coches\")\n",
    "else:\n",
    "    print(\"Igual número de camiones que coches\")"
   ]
  },
  {
   "cell_type": "code",
   "execution_count": 58,
   "metadata": {},
   "outputs": [
    {
     "name": "stdout",
     "output_type": "stream",
     "text": [
      "Muy bien tomemos los camiones\n"
     ]
    }
   ],
   "source": [
    "if personas > camiones:\n",
    "    print(\"Muy bien tomemos los camiones\")\n",
    "else:\n",
    "    print(\"No vale la pena tomar los camiones\")"
   ]
  },
  {
   "cell_type": "markdown",
   "metadata": {},
   "source": [
    "## Ejercicio 31: Loops y Listas"
   ]
  },
  {
   "cell_type": "markdown",
   "metadata": {},
   "source": []
  },
  {
   "cell_type": "code",
   "execution_count": 63,
   "metadata": {},
   "outputs": [],
   "source": [
    "color_cabello = ['café', 'rubio', 'pelirojo']\n",
    "ojos = ['cafés', 'azules', 'verdes']\n",
    "pesos = [1, 2, 3, 4]"
   ]
  },
  {
   "cell_type": "code",
   "execution_count": 64,
   "metadata": {},
   "outputs": [],
   "source": [
    "la_cuenta = [1, 2, 3, 4, 5]\n",
    "frutas = ['manzanas', 'naranjas', 'peras', 'chabacano']\n",
    "cambio = [1,'pennies', 2, 'dimes', 3, 'quarters']"
   ]
  },
  {
   "cell_type": "code",
   "execution_count": 59,
   "metadata": {},
   "outputs": [
    {
     "data": {
      "text/plain": [
       "['los', 'conejos', 'se', 'reproducen', 'en', 'masa']"
      ]
     },
     "execution_count": 59,
     "metadata": {},
     "output_type": "execute_result"
    }
   ],
   "source": [
    "oracion = \"los conejos se reproducen en masa\"\n",
    "palabras_frase_conejos = oracion.split(' ')\n",
    "palabras_frase_conejos"
   ]
  },
  {
   "cell_type": "code",
   "execution_count": 62,
   "metadata": {},
   "outputs": [
    {
     "name": "stdout",
     "output_type": "stream",
     "text": [
      "3\n",
      "7\n",
      "2\n",
      "10\n",
      "2\n",
      "4\n"
     ]
    }
   ],
   "source": [
    "for palabra in palabras_frase_conejos:\n",
    "    print(len(palabra))"
   ]
  },
  {
   "cell_type": "code",
   "execution_count": 67,
   "metadata": {},
   "outputs": [
    {
     "name": "stdout",
     "output_type": "stream",
     "text": [
      "Este numero es 1\n",
      "Este numero es 2\n",
      "Este numero es 3\n",
      "Este numero es 4\n",
      "Este numero es 5\n"
     ]
    }
   ],
   "source": [
    "# this first kind of for-loop goes through a list\n",
    "for numerito in la_cuenta:\n",
    "    print(\"Este numero es {}\".format(numerito))"
   ]
  },
  {
   "cell_type": "code",
   "execution_count": 114,
   "metadata": {},
   "outputs": [
    {
     "name": "stdout",
     "output_type": "stream",
     "text": [
      "Este numero es 1\n",
      "Este numero es 2\n",
      "Este numero es 3\n",
      "Este numero es 4\n",
      "Este numero es 5\n"
     ]
    }
   ],
   "source": [
    "# this first kind of for-loop goes through a list\n",
    "for number in the_count:\n",
    "    print(\"Este numero es \" +str(number))"
   ]
  },
  {
   "cell_type": "code",
   "execution_count": 68,
   "metadata": {},
   "outputs": [
    {
     "name": "stdout",
     "output_type": "stream",
     "text": [
      "Una fruta de tipo: manzanas\n",
      "Una fruta de tipo: naranjas\n",
      "Una fruta de tipo: peras\n",
      "Una fruta de tipo: chabacanos\n"
     ]
    }
   ],
   "source": [
    "for fruta in frutas:\n",
    "    print(\"Una fruta de tipo: {}\".format(fruta))"
   ]
  },
  {
   "cell_type": "code",
   "execution_count": 69,
   "metadata": {},
   "outputs": [
    {
     "name": "stdout",
     "output_type": "stream",
     "text": [
      "Tengo 1\n",
      "Tengo pennies\n",
      "Tengo 2\n",
      "Tengo dimes\n",
      "Tengo 3\n",
      "Tengo quarters\n"
     ]
    }
   ],
   "source": [
    "for i in cambio:\n",
    "    print(\"Tengo {}\".format(i))"
   ]
  },
  {
   "cell_type": "markdown",
   "metadata": {},
   "source": [
    "También se pueden crear listas."
   ]
  },
  {
   "cell_type": "code",
   "execution_count": 70,
   "metadata": {
    "collapsed": true
   },
   "outputs": [],
   "source": [
    "elements = []"
   ]
  },
  {
   "cell_type": "code",
   "execution_count": 73,
   "metadata": {},
   "outputs": [
    {
     "name": "stdout",
     "output_type": "stream",
     "text": [
      "Adding 0 to the list.\n",
      "Adding 1 to the list.\n",
      "Adding 2 to the list.\n",
      "Adding 3 to the list.\n",
      "Adding 4 to the list.\n",
      "Adding 5 to the list.\n"
     ]
    }
   ],
   "source": [
    "for i in range(0, 6):\n",
    "    print(\"Adding {} to the list.\".format(i))\n",
    "    elements.append(i)"
   ]
  },
  {
   "cell_type": "code",
   "execution_count": 74,
   "metadata": {},
   "outputs": [
    {
     "name": "stdout",
     "output_type": "stream",
     "text": [
      "Element was: 0\n",
      "Element was: 1\n",
      "Element was: 2\n",
      "Element was: 3\n",
      "Element was: 4\n",
      "Element was: 5\n"
     ]
    }
   ],
   "source": [
    "for i in elements:\n",
    "    print(\"Element was: {}\".format(i))"
   ]
  },
  {
   "cell_type": "code",
   "execution_count": null,
   "metadata": {
    "collapsed": true
   },
   "outputs": [],
   "source": [
    "\"\"\"\n",
    "for indice in object:\n",
    "    #Instrucciones para cumplir sobre cada elemento del objeto\n",
    "\"\"\""
   ]
  },
  {
   "cell_type": "markdown",
   "metadata": {},
   "source": [
    "## Ejercicio 32: While Loops"
   ]
  },
  {
   "cell_type": "code",
   "execution_count": 80,
   "metadata": {
    "collapsed": true
   },
   "outputs": [],
   "source": [
    "i = 0\n",
    "numeros = []"
   ]
  },
  {
   "cell_type": "code",
   "execution_count": 81,
   "metadata": {},
   "outputs": [
    {
     "data": {
      "text/plain": [
       "True"
      ]
     },
     "execution_count": 81,
     "metadata": {},
     "output_type": "execute_result"
    }
   ],
   "source": [
    "i<6"
   ]
  },
  {
   "cell_type": "code",
   "execution_count": 82,
   "metadata": {},
   "outputs": [
    {
     "name": "stdout",
     "output_type": "stream",
     "text": [
      "Hasta arriba del ciclo: 0.\n",
      "El número ahora:  [0]\n",
      "Hasta abajo del ciclo: 1\n",
      "Hasta arriba del ciclo: 1.\n",
      "El número ahora:  [0, 1]\n",
      "Hasta abajo del ciclo: 2\n",
      "Hasta arriba del ciclo: 2.\n",
      "El número ahora:  [0, 1, 2]\n",
      "Hasta abajo del ciclo: 3\n",
      "Hasta arriba del ciclo: 3.\n",
      "El número ahora:  [0, 1, 2, 3]\n",
      "Hasta abajo del ciclo: 4\n",
      "Hasta arriba del ciclo: 4.\n",
      "El número ahora:  [0, 1, 2, 3, 4]\n",
      "Hasta abajo del ciclo: 5\n",
      "Hasta arriba del ciclo: 5.\n",
      "El número ahora:  [0, 1, 2, 3, 4, 5]\n",
      "Hasta abajo del ciclo: 6\n"
     ]
    }
   ],
   "source": [
    "while i < 6:\n",
    "    print(\"Hasta arriba del ciclo: {}.\".format(i))\n",
    "    numeros.append(i)\n",
    "    i += 1\n",
    "    print(\"El número ahora: \", numeros)\n",
    "    print(\"Hasta abajo del ciclo: {}\".format(i))"
   ]
  },
  {
   "cell_type": "code",
   "execution_count": null,
   "metadata": {
    "collapsed": true
   },
   "outputs": [],
   "source": [
    "\"\"\"\n",
    "while condicion: \n",
    "    #Instrucciones si condicion es verdadera\n",
    "    #Importante: Afectar la condición para que no sea verdadera siempre\n",
    "\"\"\""
   ]
  },
  {
   "cell_type": "code",
   "execution_count": 84,
   "metadata": {},
   "outputs": [
    {
     "name": "stdout",
     "output_type": "stream",
     "text": [
      "The numbers: \n",
      "0\n",
      "1\n",
      "2\n",
      "3\n",
      "4\n",
      "5\n"
     ]
    }
   ],
   "source": [
    "print(\"The numbers: \")\n",
    "for num in numeros:\n",
    "    print(num)"
   ]
  }
 ],
 "metadata": {
  "kernelspec": {
   "display_name": "Python 3",
   "language": "python",
   "name": "python3"
  },
  "language_info": {
   "codemirror_mode": {
    "name": "ipython",
    "version": 3
   },
   "file_extension": ".py",
   "mimetype": "text/x-python",
   "name": "python",
   "nbconvert_exporter": "python",
   "pygments_lexer": "ipython3",
   "version": "3.6.3"
  }
 },
 "nbformat": 4,
 "nbformat_minor": 2
}
